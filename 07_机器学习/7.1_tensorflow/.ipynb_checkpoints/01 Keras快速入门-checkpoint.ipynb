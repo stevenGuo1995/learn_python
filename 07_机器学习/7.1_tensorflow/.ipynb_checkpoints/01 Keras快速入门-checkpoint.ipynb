{
 "cells": [
  {
   "cell_type": "markdown",
   "metadata": {},
   "source": [
    "# 1.导入tf.keras\n",
    "tensorflow2推荐使用keras构建网络，常见的神经网络都包含在keras.layer中"
   ]
  },
  {
   "cell_type": "code",
   "execution_count": 1,
   "metadata": {},
   "outputs": [
    {
     "name": "stdout",
     "output_type": "stream",
     "text": [
      "Limited tf.compat.v2.summary API due to missing TensorBoard installation\n",
      "Limited tf.summary API due to missing TensorBoard installation\n",
      "2.0.0-alpha0\n",
      "2.2.4-tf\n"
     ]
    }
   ],
   "source": [
    "import tensorflow as tf\n",
    "from tensorflow.keras import layers\n",
    "print(tf.__version__)\n",
    "print(tf.keras.__version__)"
   ]
  },
  {
   "cell_type": "markdown",
   "metadata": {},
   "source": [
    "# 2.构建简单模型\n",
    "## 2.1 模型堆叠\n",
    "最常见的模型类型是层的堆叠：tf.keras.Sequential模型"
   ]
  },
  {
   "cell_type": "code",
   "execution_count": 3,
   "metadata": {},
   "outputs": [],
   "source": [
    "model = tf.keras.Sequential()\n",
    "model.add(layers.Dense(32, activation='relu'))\n",
    "model.add(layers.Dense(32, activation='relu'))\n",
    "model.add(layers.Dense(10, activation='softmax'))"
   ]
  },
  {
   "cell_type": "markdown",
   "metadata": {},
   "source": [
    "## 2.2 网络配置\n",
    "tf.keras.layers 中网络配置：  \n",
    "\n",
    "**activation**：设置层的激活函数。此参数由内置函数的名称指定，或指定为可调用对象。默认情况下，系统不会应用任何激活函数。\n",
    "\n",
    "**kernel_initializer 和 bias_initializer**：创建层权重（核和偏差）的初始化方案。此参数是一个名称或可调用对象，默认为 \"Glorot uniform\" 初始化器。\n",
    "\n",
    "**kernel_regularizer 和 bias_regularizer**：应用层权重（核和偏差）的正则化方案，例如 L1 或 L2 正则化。默认情况下，系统不会应用正则化函数"
   ]
  },
  {
   "cell_type": "code",
   "execution_count": 4,
   "metadata": {},
   "outputs": [
    {
     "data": {
      "text/plain": [
       "<tensorflow.python.keras.layers.core.Dense at 0x28c1fc90358>"
      ]
     },
     "execution_count": 4,
     "metadata": {},
     "output_type": "execute_result"
    }
   ],
   "source": [
    "layers.Dense(32, activation='sigmoid')\n",
    "layers.Dense(32, activation=tf.sigmoid)\n",
    "layers.Dense(32, kernel_initializer='orthogonal')\n",
    "layers.Dense(32, kernel_initializer=tf.keras.initializers.glorot_normal)\n",
    "layers.Dense(32, kernel_regularizer=tf.keras.regularizers.l2(0.01))\n",
    "layers.Dense(32, kernel_regularizer=tf.keras.regularizers.l1(0.01))"
   ]
  },
  {
   "cell_type": "code",
   "execution_count": 5,
   "metadata": {},
   "outputs": [],
   "source": [
    "model = tf.keras.Sequential()\n",
    "model.add(layers.Dense(32, activation='relu'))\n",
    "model.add(layers.Dense(32, activation='relu'))\n",
    "model.add(layers.Dense(10, activation='softmax'))\n",
    "model.compile(optimizer=tf.keras.optimizers.Adam(0.001),\n",
    "             loss=tf.keras.losses.categorical_crossentropy,\n",
    "             metrics=[tf.keras.metrics.categorical_accuracy])\n"
   ]
  },
  {
   "cell_type": "code",
   "execution_count": 6,
   "metadata": {},
   "outputs": [
    {
     "name": "stdout",
     "output_type": "stream",
     "text": [
      "Train on 1000 samples, validate on 200 samples\n",
      "Epoch 1/10\n",
      "1000/1000 [==============================] - 0s 360us/sample - loss: 11.8744 - categorical_accuracy: 0.1040 - val_loss: 12.0763 - val_categorical_accuracy: 0.1100\n",
      "Epoch 2/10\n",
      "1000/1000 [==============================] - 0s 20us/sample - loss: 12.0336 - categorical_accuracy: 0.0880 - val_loss: 12.4662 - val_categorical_accuracy: 0.0850\n",
      "Epoch 3/10\n",
      "1000/1000 [==============================] - 0s 23us/sample - loss: 12.7593 - categorical_accuracy: 0.0860 - val_loss: 13.7036 - val_categorical_accuracy: 0.0850\n",
      "Epoch 4/10\n",
      "1000/1000 [==============================] - 0s 21us/sample - loss: 14.5552 - categorical_accuracy: 0.0860 - val_loss: 16.3095 - val_categorical_accuracy: 0.0850\n",
      "Epoch 5/10\n",
      "1000/1000 [==============================] - 0s 21us/sample - loss: 17.7874 - categorical_accuracy: 0.0860 - val_loss: 20.3073 - val_categorical_accuracy: 0.0850\n",
      "Epoch 6/10\n",
      "1000/1000 [==============================] - 0s 21us/sample - loss: 22.2829 - categorical_accuracy: 0.0820 - val_loss: 25.9208 - val_categorical_accuracy: 0.0800\n",
      "Epoch 7/10\n",
      "1000/1000 [==============================] - 0s 19us/sample - loss: 29.1116 - categorical_accuracy: 0.0880 - val_loss: 34.4665 - val_categorical_accuracy: 0.1050\n",
      "Epoch 8/10\n",
      "1000/1000 [==============================] - 0s 25us/sample - loss: 38.6754 - categorical_accuracy: 0.0970 - val_loss: 45.5595 - val_categorical_accuracy: 0.1000\n",
      "Epoch 9/10\n",
      "1000/1000 [==============================] - 0s 22us/sample - loss: 50.8453 - categorical_accuracy: 0.0880 - val_loss: 59.4249 - val_categorical_accuracy: 0.1050\n",
      "Epoch 10/10\n",
      "1000/1000 [==============================] - 0s 27us/sample - loss: 65.6177 - categorical_accuracy: 0.0960 - val_loss: 75.9864 - val_categorical_accuracy: 0.1050\n"
     ]
    },
    {
     "data": {
      "text/plain": [
       "<tensorflow.python.keras.callbacks.History at 0x28c25c61860>"
      ]
     },
     "execution_count": 6,
     "metadata": {},
     "output_type": "execute_result"
    }
   ],
   "source": [
    "import numpy as np\n",
    "\n",
    "train_x = np.random.random((1000, 72))\n",
    "train_y = np.random.random((1000, 10))\n",
    "\n",
    "val_x = np.random.random((200, 72))\n",
    "val_y = np.random.random((200, 10))\n",
    "\n",
    "model.fit(train_x, train_y, epochs=10, batch_size=100,\n",
    "          validation_data=(val_x, val_y))"
   ]
  },
  {
   "cell_type": "code",
   "execution_count": 7,
   "metadata": {},
   "outputs": [
    {
     "name": "stderr",
     "output_type": "stream",
     "text": [
      "WARNING: Logging before flag parsing goes to stderr.\n",
      "W0523 15:03:25.716174  5544 training_utils.py:1353] Expected a shuffled dataset but input dataset `x` is not shuffled. Please invoke `shuffle()` on input dataset.\n"
     ]
    },
    {
     "name": "stdout",
     "output_type": "stream",
     "text": [
      "Epoch 1/10\n",
      "30/30 [==============================] - 0s 3ms/step - loss: 105.2791 - categorical_accuracy: 0.0854 - val_loss: 145.3287 - val_categorical_accuracy: 0.1458\n",
      "Epoch 2/10\n",
      "30/30 [==============================] - 0s 3ms/step - loss: 190.3117 - categorical_accuracy: 0.1015 - val_loss: 246.7896 - val_categorical_accuracy: 0.1146\n",
      "Epoch 3/10\n",
      "30/30 [==============================] - 0s 3ms/step - loss: 302.2039 - categorical_accuracy: 0.0919 - val_loss: 367.7542 - val_categorical_accuracy: 0.1042\n",
      "Epoch 4/10\n",
      "30/30 [==============================] - 0s 2ms/step - loss: 426.1725 - categorical_accuracy: 0.0865 - val_loss: 489.2770 - val_categorical_accuracy: 0.1250\n",
      "Epoch 5/10\n",
      "30/30 [==============================] - 0s 2ms/step - loss: 541.5260 - categorical_accuracy: 0.0876 - val_loss: 592.7618 - val_categorical_accuracy: 0.1354\n",
      "Epoch 6/10\n",
      "30/30 [==============================] - 0s 2ms/step - loss: 630.1651 - categorical_accuracy: 0.1036 - val_loss: 647.9183 - val_categorical_accuracy: 0.1354\n",
      "Epoch 7/10\n",
      "30/30 [==============================] - 0s 2ms/step - loss: 614.0566 - categorical_accuracy: 0.1111 - val_loss: 560.7498 - val_categorical_accuracy: 0.1042\n",
      "Epoch 8/10\n",
      "30/30 [==============================] - 0s 2ms/step - loss: 485.1575 - categorical_accuracy: 0.0951 - val_loss: 400.0179 - val_categorical_accuracy: 0.1458\n",
      "Epoch 9/10\n",
      "30/30 [==============================] - 0s 2ms/step - loss: 381.8836 - categorical_accuracy: 0.1004 - val_loss: 326.8168 - val_categorical_accuracy: 0.1458\n",
      "Epoch 10/10\n",
      "30/30 [==============================] - 0s 2ms/step - loss: 338.2650 - categorical_accuracy: 0.1100 - val_loss: 323.4345 - val_categorical_accuracy: 0.0729\n"
     ]
    },
    {
     "data": {
      "text/plain": [
       "<tensorflow.python.keras.callbacks.History at 0x28c271c9a58>"
      ]
     },
     "execution_count": 7,
     "metadata": {},
     "output_type": "execute_result"
    }
   ],
   "source": [
    "dataset = tf.data.Dataset.from_tensor_slices((train_x, train_y))\n",
    "dataset = dataset.batch(32)\n",
    "dataset = dataset.repeat()\n",
    "val_dataset = tf.data.Dataset.from_tensor_slices((val_x, val_y))\n",
    "val_dataset = val_dataset.batch(32)\n",
    "val_dataset = val_dataset.repeat()\n",
    "\n",
    "model.fit(dataset, epochs=10, steps_per_epoch=30,\n",
    "          validation_data=val_dataset, validation_steps=3)\n"
   ]
  },
  {
   "cell_type": "code",
   "execution_count": 8,
   "metadata": {},
   "outputs": [
    {
     "name": "stdout",
     "output_type": "stream",
     "text": [
      "1000/1000 [==============================] - 0s 47us/sample - loss: 345.6958 - categorical_accuracy: 0.0870\n",
      "30/30 [==============================] - 0s 2ms/step - loss: 345.2324 - categorical_accuracy: 0.0844\n",
      "[[0.08758453 0.         0.67855644 ... 0.02008449 0.         0.00522148]\n",
      " [0.09968837 0.         0.62058485 ... 0.03234828 0.         0.0123321 ]\n",
      " [0.02992389 0.         0.78658456 ... 0.02937378 0.         0.00262495]\n",
      " ...\n",
      " [0.03851744 0.         0.77364355 ... 0.02653734 0.         0.00584373]\n",
      " [0.05627333 0.         0.77116054 ... 0.0340649  0.         0.0044618 ]\n",
      " [0.06455237 0.         0.6963795  ... 0.04458331 0.         0.01314025]]\n"
     ]
    }
   ],
   "source": [
    "test_x = np.random.random((1000, 72))\n",
    "test_y = np.random.random((1000, 10))\n",
    "model.evaluate(test_x, test_y, batch_size=32)\n",
    "test_data = tf.data.Dataset.from_tensor_slices((test_x, test_y))\n",
    "test_data = test_data.batch(32).repeat()\n",
    "model.evaluate(test_data, steps=30)\n",
    "# predict\n",
    "result = model.predict(test_x, batch_size=32)\n",
    "print(result)"
   ]
  },
  {
   "cell_type": "code",
   "execution_count": 10,
   "metadata": {},
   "outputs": [
    {
     "name": "stdout",
     "output_type": "stream",
     "text": [
      "asd\n"
     ]
    }
   ],
   "source": [
    "a = ['asdasd:noo','asd']\n",
    "for i in a :\n",
    "    if 'no' not in i:\n",
    "        print(i)"
   ]
  },
  {
   "cell_type": "code",
   "execution_count": null,
   "metadata": {},
   "outputs": [],
   "source": []
  }
 ],
 "metadata": {
  "kernelspec": {
   "display_name": "Python 3",
   "language": "python",
   "name": "python3"
  },
  "language_info": {
   "codemirror_mode": {
    "name": "ipython",
    "version": 3
   },
   "file_extension": ".py",
   "mimetype": "text/x-python",
   "name": "python",
   "nbconvert_exporter": "python",
   "pygments_lexer": "ipython3",
   "version": "3.7.3"
  }
 },
 "nbformat": 4,
 "nbformat_minor": 2
}
