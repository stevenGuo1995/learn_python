{
 "cells": [
  {
   "cell_type": "markdown",
   "metadata": {},
   "source": [
    "- 数据集下载地址：https://ww2.amstat.org/publications/jse/jse_data_archive.htm\n",
    "- 数据集描述：http://ww2.amstat.org/publications/jse/datasets/normtemp.txt\n",
    "\n",
    "\n",
    "包括130条记录，我们主要利用体温和性别来进行实验"
   ]
  },
  {
   "cell_type": "code",
   "execution_count": 1,
   "metadata": {},
   "outputs": [],
   "source": [
    "import pandas as pd\n",
    "import pylab\n",
    "import math\n",
    "import numpy as np\n",
    "import matplotlib.pyplot as plt\n",
    "%matplotlib inline\n",
    "import numpy as np\n",
    "from scipy.stats import norm\n",
    "import scipy.stats\n",
    "import warnings\n",
    "warnings.filterwarnings(\"ignore\")\n",
    "\n",
    "\n",
    "df = pd.read_csv('normtemp.txt',sep='   ',names = ['Temperature','Gender','Heart Rate'])"
   ]
  },
  {
   "cell_type": "code",
   "execution_count": 2,
   "metadata": {},
   "outputs": [
    {
     "data": {
      "text/html": [
       "<div>\n",
       "<style scoped>\n",
       "    .dataframe tbody tr th:only-of-type {\n",
       "        vertical-align: middle;\n",
       "    }\n",
       "\n",
       "    .dataframe tbody tr th {\n",
       "        vertical-align: top;\n",
       "    }\n",
       "\n",
       "    .dataframe thead th {\n",
       "        text-align: right;\n",
       "    }\n",
       "</style>\n",
       "<table border=\"1\" class=\"dataframe\">\n",
       "  <thead>\n",
       "    <tr style=\"text-align: right;\">\n",
       "      <th></th>\n",
       "      <th>Temperature</th>\n",
       "      <th>Gender</th>\n",
       "      <th>Heart Rate</th>\n",
       "    </tr>\n",
       "  </thead>\n",
       "  <tbody>\n",
       "    <tr>\n",
       "      <th>count</th>\n",
       "      <td>130.000000</td>\n",
       "      <td>130.000000</td>\n",
       "      <td>130.000000</td>\n",
       "    </tr>\n",
       "    <tr>\n",
       "      <th>mean</th>\n",
       "      <td>98.249231</td>\n",
       "      <td>1.500000</td>\n",
       "      <td>73.761538</td>\n",
       "    </tr>\n",
       "    <tr>\n",
       "      <th>std</th>\n",
       "      <td>0.733183</td>\n",
       "      <td>0.501934</td>\n",
       "      <td>7.062077</td>\n",
       "    </tr>\n",
       "    <tr>\n",
       "      <th>min</th>\n",
       "      <td>96.300000</td>\n",
       "      <td>1.000000</td>\n",
       "      <td>57.000000</td>\n",
       "    </tr>\n",
       "    <tr>\n",
       "      <th>25%</th>\n",
       "      <td>97.800000</td>\n",
       "      <td>1.000000</td>\n",
       "      <td>69.000000</td>\n",
       "    </tr>\n",
       "    <tr>\n",
       "      <th>50%</th>\n",
       "      <td>98.300000</td>\n",
       "      <td>1.500000</td>\n",
       "      <td>74.000000</td>\n",
       "    </tr>\n",
       "    <tr>\n",
       "      <th>75%</th>\n",
       "      <td>98.700000</td>\n",
       "      <td>2.000000</td>\n",
       "      <td>79.000000</td>\n",
       "    </tr>\n",
       "    <tr>\n",
       "      <th>max</th>\n",
       "      <td>100.800000</td>\n",
       "      <td>2.000000</td>\n",
       "      <td>89.000000</td>\n",
       "    </tr>\n",
       "  </tbody>\n",
       "</table>\n",
       "</div>"
      ],
      "text/plain": [
       "       Temperature      Gender  Heart Rate\n",
       "count   130.000000  130.000000  130.000000\n",
       "mean     98.249231    1.500000   73.761538\n",
       "std       0.733183    0.501934    7.062077\n",
       "min      96.300000    1.000000   57.000000\n",
       "25%      97.800000    1.000000   69.000000\n",
       "50%      98.300000    1.500000   74.000000\n",
       "75%      98.700000    2.000000   79.000000\n",
       "max     100.800000    2.000000   89.000000"
      ]
     },
     "execution_count": 2,
     "metadata": {},
     "output_type": "execute_result"
    }
   ],
   "source": [
    "df.describe()"
   ]
  },
  {
   "cell_type": "code",
   "execution_count": 3,
   "metadata": {},
   "outputs": [
    {
     "data": {
      "text/html": [
       "<div>\n",
       "<style scoped>\n",
       "    .dataframe tbody tr th:only-of-type {\n",
       "        vertical-align: middle;\n",
       "    }\n",
       "\n",
       "    .dataframe tbody tr th {\n",
       "        vertical-align: top;\n",
       "    }\n",
       "\n",
       "    .dataframe thead th {\n",
       "        text-align: right;\n",
       "    }\n",
       "</style>\n",
       "<table border=\"1\" class=\"dataframe\">\n",
       "  <thead>\n",
       "    <tr style=\"text-align: right;\">\n",
       "      <th></th>\n",
       "      <th>Temperature</th>\n",
       "      <th>Gender</th>\n",
       "      <th>Heart Rate</th>\n",
       "    </tr>\n",
       "  </thead>\n",
       "  <tbody>\n",
       "    <tr>\n",
       "      <th>0</th>\n",
       "      <td>96.3</td>\n",
       "      <td>1</td>\n",
       "      <td>70</td>\n",
       "    </tr>\n",
       "    <tr>\n",
       "      <th>1</th>\n",
       "      <td>96.7</td>\n",
       "      <td>1</td>\n",
       "      <td>71</td>\n",
       "    </tr>\n",
       "    <tr>\n",
       "      <th>2</th>\n",
       "      <td>96.9</td>\n",
       "      <td>1</td>\n",
       "      <td>74</td>\n",
       "    </tr>\n",
       "    <tr>\n",
       "      <th>3</th>\n",
       "      <td>97.0</td>\n",
       "      <td>1</td>\n",
       "      <td>80</td>\n",
       "    </tr>\n",
       "    <tr>\n",
       "      <th>4</th>\n",
       "      <td>97.1</td>\n",
       "      <td>1</td>\n",
       "      <td>73</td>\n",
       "    </tr>\n",
       "  </tbody>\n",
       "</table>\n",
       "</div>"
      ],
      "text/plain": [
       "   Temperature  Gender  Heart Rate\n",
       "0         96.3       1          70\n",
       "1         96.7       1          71\n",
       "2         96.9       1          74\n",
       "3         97.0       1          80\n",
       "4         97.1       1          73"
      ]
     },
     "execution_count": 3,
     "metadata": {},
     "output_type": "execute_result"
    }
   ],
   "source": [
    "df.head()"
   ]
  },
  {
   "cell_type": "markdown",
   "metadata": {},
   "source": [
    "## 体温的分布是正太的吗？"
   ]
  },
  {
   "cell_type": "code",
   "execution_count": 4,
   "metadata": {},
   "outputs": [
    {
     "data": {
      "image/png": "[encoded data removed]",
      "text/plain": [
       "<Figure size 432x288 with 1 Axes>"
      ]
     },
     "metadata": {
      "needs_background": "light"
     },
     "output_type": "display_data"
    },
    {
     "name": "stdout",
     "output_type": "stream",
     "text": [
      "Average (Mu): 98.24923076923076 / Standard Deviation: 0.7303577789050376\n"
     ]
    }
   ],
   "source": [
    "observed_temperatures = df['Temperature'].sort_values()\n",
    "bin_val = np.arange(start= observed_temperatures.min(), stop= observed_temperatures.max(), step = .05)\n",
    "mu, std = np.mean(observed_temperatures), np.std(observed_temperatures)\n",
    "\n",
    "\n",
    "p = norm.pdf(observed_temperatures, mu, std)\n",
    "\n",
    "\n",
    "plt.hist(observed_temperatures,bins = bin_val, normed=True, stacked=True)\n",
    "plt.plot(observed_temperatures, p, color = 'red')\n",
    "plt.xticks(np.arange(95.75,101.25,0.25),rotation=90)\n",
    "plt.xlabel('Human Body Temperature Distributions')\n",
    "plt.xlabel('human body temperature')\n",
    "plt.show()\n",
    "\n",
    "\n",
    "print('Average (Mu): '+ str(mu) + ' / ' 'Standard Deviation: '+str(std))"
   ]
  },
  {
   "cell_type": "markdown",
   "metadata": {},
   "source": [
    "#### 看起来还可以，让我们再来检验一下吧"
   ]
  },
  {
   "cell_type": "code",
   "execution_count": 5,
   "metadata": {},
   "outputs": [
    {
     "name": "stdout",
     "output_type": "stream",
     "text": [
      "Shapiro-Wilk Stat: 0.9865769743919373  Shapiro-Wilk p-Value: 0.2331680953502655\n",
      "p: 0.2587479863488212\n"
     ]
    },
    {
     "data": {
      "image/png": "[encoded data removed]",
      "text/plain": [
       "<Figure size 432x288 with 1 Axes>"
      ]
     },
     "metadata": {
      "needs_background": "light"
     },
     "output_type": "display_data"
    }
   ],
   "source": [
    "x = observed_temperatures\n",
    "\n",
    "#Shapiro-Wilk Test: https://en.wikipedia.org/wiki/Shapiro%E2%80%93Wilk_test\n",
    "shapiro_test, shapiro_p = scipy.stats.shapiro(x)\n",
    "print(\"Shapiro-Wilk Stat:\",shapiro_test, \" Shapiro-Wilk p-Value:\", shapiro_p)\n",
    "\n",
    "k2, p = scipy.stats.normaltest(observed_temperatures)\n",
    "print('p:',p)\n",
    "\n",
    "\n",
    "#Another method to determining normality is through Quantile-Quantile Plots.\n",
    "scipy.stats.probplot(observed_temperatures, dist=\"norm\", plot=pylab)\n",
    "pylab.show()\n",
    "\n"
   ]
  },
  {
   "cell_type": "code",
   "execution_count": 6,
   "metadata": {},
   "outputs": [
    {
     "name": "stdout",
     "output_type": "stream",
     "text": [
      "Mean temperature:  98.24923076923076 with standard deviation of +/- 0.730357778905038\n"
     ]
    },
    {
     "data": {
      "text/plain": [
       "<matplotlib.legend.Legend at 0x17bf13f05f8>"
      ]
     },
     "execution_count": 6,
     "metadata": {},
     "output_type": "execute_result"
    },
    {
     "data": {
      "image/png": "[encoded data removed]",
      "text/plain": [
       "<Figure size 576x360 with 1 Axes>"
      ]
     },
     "metadata": {
      "needs_background": "light"
     },
     "output_type": "display_data"
    }
   ],
   "source": [
    "\n",
    "def ecdf(data):\n",
    "    #Compute ECDF\n",
    "    n = len(data)\n",
    "    x = np.sort(data)\n",
    "    y = np.arange(1, n+1) / n\n",
    "    return x, y\n",
    "\n",
    "# Compute empirical mean and standard deviation\n",
    "\n",
    "# Number of samples\n",
    "n = len(df['Temperature']) \n",
    "\n",
    "# Sample mean\n",
    "mu = np.mean(df['Temperature']) \n",
    "\n",
    "# Sample standard deviation\n",
    "std = np.std(df['Temperature']) \n",
    "\n",
    "print('Mean temperature: ', mu, 'with standard deviation of +/-', std)\n",
    "\n",
    "#Random sampling of the data based off of the mean of the data.\n",
    "normalized_sample = np.random.normal(mu, std, size=10000)\n",
    "x_temperature, y_temperature = ecdf(df['Temperature'])\n",
    "normalized_x, normalized_y = ecdf(normalized_sample)\n",
    "\n",
    "# Plot the ECDFs\n",
    "fig = plt.figure(figsize=(8, 5))\n",
    "plt.plot(normalized_x, normalized_y)\n",
    "plt.plot(x_temperature, y_temperature, marker='.', linestyle='none')\n",
    "plt.ylabel('ECDF')\n",
    "plt.xlabel('Temperature')\n",
    "plt.legend(('Normal Distribution', 'Sample data'))"
   ]
  },
  {
   "cell_type": "markdown",
   "metadata": {},
   "source": [
    "## 有学者提出98.6是人类的平均体温，我们该这样认为吗？"
   ]
  },
  {
   "cell_type": "markdown",
   "metadata": {},
   "source": [
    "#### 在这里我们选择t检验，因为我们只能计算样本的标准差"
   ]
  },
  {
   "cell_type": "code",
   "execution_count": 7,
   "metadata": {},
   "outputs": [
    {
     "data": {
      "text/plain": [
       "Ttest_1sampResult(statistic=-5.454823292364077, pvalue=2.410632041561008e-07)"
      ]
     },
     "execution_count": 7,
     "metadata": {},
     "output_type": "execute_result"
    }
   ],
   "source": [
    "from scipy import stats\n",
    "\n",
    "CW_mu = 98.6\n",
    "stats.ttest_1samp(df['Temperature'], CW_mu, axis=0)"
   ]
  },
  {
   "cell_type": "markdown",
   "metadata": {},
   "source": [
    "####  T-Stat -5.454  p-value近乎0了. 我们该拒绝这样的假设\n"
   ]
  },
  {
   "cell_type": "markdown",
   "metadata": {},
   "source": [
    "## 男性和女性的体温有明显差异吗"
   ]
  },
  {
   "cell_type": "markdown",
   "metadata": {},
   "source": [
    "两独立样本t检验\n",
    "H0: 没有明显差异\n",
    "H1: 有明显差异"
   ]
  },
  {
   "cell_type": "code",
   "execution_count": 8,
   "metadata": {},
   "outputs": [
    {
     "name": "stdout",
     "output_type": "stream",
     "text": [
      "Average female body temperature = 98.39384615384616\n",
      "Average male body temperature = 98.1046153846154\n"
     ]
    },
    {
     "data": {
      "text/plain": [
       "Ttest_indResult(statistic=2.2854345381654984, pvalue=0.02393188312240236)"
      ]
     },
     "execution_count": 8,
     "metadata": {},
     "output_type": "execute_result"
    }
   ],
   "source": [
    "female_temp = df.Temperature[df.Gender == 2]\n",
    "male_temp = df.Temperature[df.Gender == 1]\n",
    "mean_female_temp = np.mean(female_temp)\n",
    "mean_male_temp = np.mean(male_temp)\n",
    "print('Average female body temperature = ' + str(mean_female_temp))\n",
    "print('Average male body temperature = ' + str(mean_male_temp))\n",
    "\n",
    "# Compute independent t-test \n",
    "stats.ttest_ind(female_temp, male_temp, axis=0)"
   ]
  },
  {
   "cell_type": "markdown",
   "metadata": {},
   "source": [
    "由于P值=0.024 < 0.05，我们需要拒绝原假设，我们有%95的自信认为是有差异的！"
   ]
  }
 ],
 "metadata": {
  "kernelspec": {
   "display_name": "Python 3",
   "language": "python",
   "name": "python3"
  },
  "language_info": {
   "codemirror_mode": {
    "name": "ipython",
    "version": 3
   },
   "file_extension": ".py",
   "mimetype": "text/x-python",
   "name": "python",
   "nbconvert_exporter": "python",
   "pygments_lexer": "ipython3",
   "version": "3.7.3"
  }
 },
 "nbformat": 4,
 "nbformat_minor": 4
}
