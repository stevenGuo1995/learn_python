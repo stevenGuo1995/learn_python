{
 "cells": [
  {
   "cell_type": "code",
   "execution_count": 1,
   "metadata": {},
   "outputs": [
    {
     "data": {
      "text/plain": [
       "array([ 0.        ,  0.52631579,  1.05263158,  1.57894737,  2.10526316,\n",
       "        2.63157895,  3.15789474,  3.68421053,  4.21052632,  4.73684211,\n",
       "        5.26315789,  5.78947368,  6.31578947,  6.84210526,  7.36842105,\n",
       "        7.89473684,  8.42105263,  8.94736842,  9.47368421, 10.        ])"
      ]
     },
     "execution_count": 1,
     "metadata": {},
     "output_type": "execute_result"
    }
   ],
   "source": [
    "import numpy as np\n",
    "import matplotlib.pyplot as plt\n",
    "import statsmodels.api as sm\n",
    "\n",
    "nsample = 20\n",
    "x = np.linspace(0, 10, nsample)\n",
    "x"
   ]
  },
  {
   "cell_type": "markdown",
   "metadata": {},
   "source": [
    "#### 一元线性回归"
   ]
  },
  {
   "cell_type": "code",
   "execution_count": 2,
   "metadata": {},
   "outputs": [
    {
     "data": {
      "text/plain": [
       "array([[ 1.        ,  0.        ],\n",
       "       [ 1.        ,  0.52631579],\n",
       "       [ 1.        ,  1.05263158],\n",
       "       [ 1.        ,  1.57894737],\n",
       "       [ 1.        ,  2.10526316],\n",
       "       [ 1.        ,  2.63157895],\n",
       "       [ 1.        ,  3.15789474],\n",
       "       [ 1.        ,  3.68421053],\n",
       "       [ 1.        ,  4.21052632],\n",
       "       [ 1.        ,  4.73684211],\n",
       "       [ 1.        ,  5.26315789],\n",
       "       [ 1.        ,  5.78947368],\n",
       "       [ 1.        ,  6.31578947],\n",
       "       [ 1.        ,  6.84210526],\n",
       "       [ 1.        ,  7.36842105],\n",
       "       [ 1.        ,  7.89473684],\n",
       "       [ 1.        ,  8.42105263],\n",
       "       [ 1.        ,  8.94736842],\n",
       "       [ 1.        ,  9.47368421],\n",
       "       [ 1.        , 10.        ]])"
      ]
     },
     "execution_count": 2,
     "metadata": {},
     "output_type": "execute_result"
    }
   ],
   "source": [
    "X = sm.add_constant(x)\n",
    "X"
   ]
  },
  {
   "cell_type": "code",
   "execution_count": 3,
   "metadata": {},
   "outputs": [
    {
     "data": {
      "text/plain": [
       "array([2, 5])"
      ]
     },
     "execution_count": 3,
     "metadata": {},
     "output_type": "execute_result"
    }
   ],
   "source": [
    "#β0,β1分别设置成2,5\n",
    "beta = np.array([2, 5])\n",
    "beta"
   ]
  },
  {
   "cell_type": "code",
   "execution_count": 4,
   "metadata": {},
   "outputs": [
    {
     "data": {
      "text/plain": [
       "array([ 0.88625766,  0.1027016 ,  1.39257491, -0.42143536, -0.83549335,\n",
       "        0.10981775,  0.70815285, -1.17120111,  0.2824576 , -0.38909819,\n",
       "        0.12604699, -0.03275417,  0.63406191,  0.53368778, -0.03234811,\n",
       "       -2.03441273,  1.80717256, -0.02636848, -0.57381872, -0.40585417])"
      ]
     },
     "execution_count": 4,
     "metadata": {},
     "output_type": "execute_result"
    }
   ],
   "source": [
    "#误差项\n",
    "e = np.random.normal(size=nsample)\n",
    "e"
   ]
  },
  {
   "cell_type": "code",
   "execution_count": 5,
   "metadata": {},
   "outputs": [
    {
     "data": {
      "text/plain": [
       "array([ 2.88625766,  4.73428054,  8.6557328 ,  9.47330148, 11.69082244,\n",
       "       15.26771248, 18.49762653, 19.24985152, 23.33508918, 25.29511234,\n",
       "       28.44183647, 30.91461425, 34.21300928, 36.74421409, 38.80975715,\n",
       "       39.43927148, 45.91243572, 46.71047363, 48.79460234, 51.59414583])"
      ]
     },
     "execution_count": 5,
     "metadata": {},
     "output_type": "execute_result"
    }
   ],
   "source": [
    "#实际值y\n",
    "y = np.dot(X, beta) + e\n",
    "y"
   ]
  },
  {
   "cell_type": "code",
   "execution_count": 6,
   "metadata": {},
   "outputs": [],
   "source": [
    "#最小二乘法\n",
    "model = sm.OLS(y,X)"
   ]
  },
  {
   "cell_type": "code",
   "execution_count": 7,
   "metadata": {},
   "outputs": [],
   "source": [
    "#拟合数据\n",
    "res = model.fit()"
   ]
  },
  {
   "cell_type": "code",
   "execution_count": 8,
   "metadata": {},
   "outputs": [
    {
     "data": {
      "text/plain": [
       "array([2.28626632, 4.94934821])"
      ]
     },
     "execution_count": 8,
     "metadata": {},
     "output_type": "execute_result"
    }
   ],
   "source": [
    "#回归系数\n",
    "res.params"
   ]
  },
  {
   "cell_type": "code",
   "execution_count": 20,
   "metadata": {},
   "outputs": [
    {
     "data": {
      "text/html": [
       "<table class=\"simpletable\">\n",
       "<caption>OLS Regression Results</caption>\n",
       "<tr>\n",
       "  <th>Dep. Variable:</th>            <td>y</td>        <th>  R-squared:         </th> <td>   0.995</td>\n",
       "</tr>\n",
       "<tr>\n",
       "  <th>Model:</th>                   <td>OLS</td>       <th>  Adj. R-squared:    </th> <td>   0.995</td>\n",
       "</tr>\n",
       "<tr>\n",
       "  <th>Method:</th>             <td>Least Squares</td>  <th>  F-statistic:       </th> <td>   3668.</td>\n",
       "</tr>\n",
       "<tr>\n",
       "  <th>Date:</th>             <td>Thu, 01 Mar 2018</td> <th>  Prob (F-statistic):</th> <td>2.94e-22</td>\n",
       "</tr>\n",
       "<tr>\n",
       "  <th>Time:</th>                 <td>18:07:03</td>     <th>  Log-Likelihood:    </th> <td> -29.947</td>\n",
       "</tr>\n",
       "<tr>\n",
       "  <th>No. Observations:</th>      <td>    20</td>      <th>  AIC:               </th> <td>   63.89</td>\n",
       "</tr>\n",
       "<tr>\n",
       "  <th>Df Residuals:</th>          <td>    18</td>      <th>  BIC:               </th> <td>   65.89</td>\n",
       "</tr>\n",
       "<tr>\n",
       "  <th>Df Model:</th>              <td>     1</td>      <th>                     </th>     <td> </td>   \n",
       "</tr>\n",
       "<tr>\n",
       "  <th>Covariance Type:</th>      <td>nonrobust</td>    <th>                     </th>     <td> </td>   \n",
       "</tr>\n",
       "</table>\n",
       "<table class=\"simpletable\">\n",
       "<tr>\n",
       "    <td></td>       <th>coef</th>     <th>std err</th>      <th>t</th>      <th>P>|t|</th>  <th>[0.025</th>    <th>0.975]</th>  \n",
       "</tr>\n",
       "<tr>\n",
       "  <th>const</th> <td>    1.4952</td> <td>    0.491</td> <td>    3.043</td> <td> 0.007</td> <td>    0.463</td> <td>    2.527</td>\n",
       "</tr>\n",
       "<tr>\n",
       "  <th>x1</th>    <td>    5.0870</td> <td>    0.084</td> <td>   60.560</td> <td> 0.000</td> <td>    4.911</td> <td>    5.263</td>\n",
       "</tr>\n",
       "</table>\n",
       "<table class=\"simpletable\">\n",
       "<tr>\n",
       "  <th>Omnibus:</th>       <td> 0.016</td> <th>  Durbin-Watson:     </th> <td>   2.569</td>\n",
       "</tr>\n",
       "<tr>\n",
       "  <th>Prob(Omnibus):</th> <td> 0.992</td> <th>  Jarque-Bera (JB):  </th> <td>   0.107</td>\n",
       "</tr>\n",
       "<tr>\n",
       "  <th>Skew:</th>          <td>-0.009</td> <th>  Prob(JB):          </th> <td>   0.948</td>\n",
       "</tr>\n",
       "<tr>\n",
       "  <th>Kurtosis:</th>      <td> 2.641</td> <th>  Cond. No.          </th> <td>    11.5</td>\n",
       "</tr>\n",
       "</table>"
      ],
      "text/plain": [
       "<class 'statsmodels.iolib.summary.Summary'>\n",
       "\"\"\"\n",
       "                            OLS Regression Results                            \n",
       "==============================================================================\n",
       "Dep. Variable:                      y   R-squared:                       0.995\n",
       "Model:                            OLS   Adj. R-squared:                  0.995\n",
       "Method:                 Least Squares   F-statistic:                     3668.\n",
       "Date:                Thu, 01 Mar 2018   Prob (F-statistic):           2.94e-22\n",
       "Time:                        18:07:03   Log-Likelihood:                -29.947\n",
       "No. Observations:                  20   AIC:                             63.89\n",
       "Df Residuals:                      18   BIC:                             65.89\n",
       "Df Model:                           1                                         \n",
       "Covariance Type:            nonrobust                                         \n",
       "==============================================================================\n",
       "                 coef    std err          t      P>|t|      [0.025      0.975]\n",
       "------------------------------------------------------------------------------\n",
       "const          1.4952      0.491      3.043      0.007       0.463       2.527\n",
       "x1             5.0870      0.084     60.560      0.000       4.911       5.263\n",
       "==============================================================================\n",
       "Omnibus:                        0.016   Durbin-Watson:                   2.569\n",
       "Prob(Omnibus):                  0.992   Jarque-Bera (JB):                0.107\n",
       "Skew:                          -0.009   Prob(JB):                        0.948\n",
       "Kurtosis:                       2.641   Cond. No.                         11.5\n",
       "==============================================================================\n",
       "\n",
       "Warnings:\n",
       "[1] Standard Errors assume that the covariance matrix of the errors is correctly specified.\n",
       "\"\"\""
      ]
     },
     "execution_count": 20,
     "metadata": {},
     "output_type": "execute_result"
    }
   ],
   "source": [
    "#全部结果\n",
    "res.summary()"
   ]
  },
  {
   "cell_type": "code",
   "execution_count": 9,
   "metadata": {},
   "outputs": [
    {
     "data": {
      "text/plain": [
       "array([ 2.28626632,  4.89118643,  7.49610654, 10.10102665, 12.70594676,\n",
       "       15.31086687, 17.91578698, 20.52070709, 23.1256272 , 25.73054731,\n",
       "       28.33546742, 30.94038753, 33.54530763, 36.15022774, 38.75514785,\n",
       "       41.36006796, 43.96498807, 46.56990818, 49.17482829, 51.7797484 ])"
      ]
     },
     "execution_count": 9,
     "metadata": {},
     "output_type": "execute_result"
    }
   ],
   "source": [
    "#拟合的估计值\n",
    "y_ = res.fittedvalues\n",
    "y_"
   ]
  },
  {
   "cell_type": "code",
   "execution_count": 10,
   "metadata": {},
   "outputs": [
    {
     "data": {
      "image/png": "[encoded data removed]",
      "text/plain": [
       "<Figure size 576x432 with 1 Axes>"
      ]
     },
     "metadata": {
      "needs_background": "light"
     },
     "output_type": "display_data"
    }
   ],
   "source": [
    "fig, ax = plt.subplots(figsize=(8,6))\n",
    "ax.plot(x, y, 'o', label='data')#原始数据\n",
    "ax.plot(x, y_, 'r--.',label='test')#拟合数据\n",
    "ax.legend(loc='best')\n",
    "plt.show()"
   ]
  },
  {
   "cell_type": "markdown",
   "metadata": {},
   "source": [
    "#### 高阶回归"
   ]
  },
  {
   "cell_type": "code",
   "execution_count": 19,
   "metadata": {},
   "outputs": [
    {
     "data": {
      "text/plain": [
       "array([[1.00000000e+00, 0.00000000e+00, 0.00000000e+00],\n",
       "       [1.00000000e+00, 2.04081633e-01, 4.16493128e-02],\n",
       "       [1.00000000e+00, 4.08163265e-01, 1.66597251e-01],\n",
       "       [1.00000000e+00, 6.12244898e-01, 3.74843815e-01],\n",
       "       [1.00000000e+00, 8.16326531e-01, 6.66389005e-01],\n",
       "       [1.00000000e+00, 1.02040816e+00, 1.04123282e+00],\n",
       "       [1.00000000e+00, 1.22448980e+00, 1.49937526e+00],\n",
       "       [1.00000000e+00, 1.42857143e+00, 2.04081633e+00],\n",
       "       [1.00000000e+00, 1.63265306e+00, 2.66555602e+00],\n",
       "       [1.00000000e+00, 1.83673469e+00, 3.37359434e+00],\n",
       "       [1.00000000e+00, 2.04081633e+00, 4.16493128e+00],\n",
       "       [1.00000000e+00, 2.24489796e+00, 5.03956685e+00],\n",
       "       [1.00000000e+00, 2.44897959e+00, 5.99750104e+00],\n",
       "       [1.00000000e+00, 2.65306122e+00, 7.03873386e+00],\n",
       "       [1.00000000e+00, 2.85714286e+00, 8.16326531e+00],\n",
       "       [1.00000000e+00, 3.06122449e+00, 9.37109538e+00],\n",
       "       [1.00000000e+00, 3.26530612e+00, 1.06622241e+01],\n",
       "       [1.00000000e+00, 3.46938776e+00, 1.20366514e+01],\n",
       "       [1.00000000e+00, 3.67346939e+00, 1.34943773e+01],\n",
       "       [1.00000000e+00, 3.87755102e+00, 1.50354019e+01],\n",
       "       [1.00000000e+00, 4.08163265e+00, 1.66597251e+01],\n",
       "       [1.00000000e+00, 4.28571429e+00, 1.83673469e+01],\n",
       "       [1.00000000e+00, 4.48979592e+00, 2.01582674e+01],\n",
       "       [1.00000000e+00, 4.69387755e+00, 2.20324865e+01],\n",
       "       [1.00000000e+00, 4.89795918e+00, 2.39900042e+01],\n",
       "       [1.00000000e+00, 5.10204082e+00, 2.60308205e+01],\n",
       "       [1.00000000e+00, 5.30612245e+00, 2.81549354e+01],\n",
       "       [1.00000000e+00, 5.51020408e+00, 3.03623490e+01],\n",
       "       [1.00000000e+00, 5.71428571e+00, 3.26530612e+01],\n",
       "       [1.00000000e+00, 5.91836735e+00, 3.50270721e+01],\n",
       "       [1.00000000e+00, 6.12244898e+00, 3.74843815e+01],\n",
       "       [1.00000000e+00, 6.32653061e+00, 4.00249896e+01],\n",
       "       [1.00000000e+00, 6.53061224e+00, 4.26488963e+01],\n",
       "       [1.00000000e+00, 6.73469388e+00, 4.53561016e+01],\n",
       "       [1.00000000e+00, 6.93877551e+00, 4.81466056e+01],\n",
       "       [1.00000000e+00, 7.14285714e+00, 5.10204082e+01],\n",
       "       [1.00000000e+00, 7.34693878e+00, 5.39775094e+01],\n",
       "       [1.00000000e+00, 7.55102041e+00, 5.70179092e+01],\n",
       "       [1.00000000e+00, 7.75510204e+00, 6.01416077e+01],\n",
       "       [1.00000000e+00, 7.95918367e+00, 6.33486047e+01],\n",
       "       [1.00000000e+00, 8.16326531e+00, 6.66389005e+01],\n",
       "       [1.00000000e+00, 8.36734694e+00, 7.00124948e+01],\n",
       "       [1.00000000e+00, 8.57142857e+00, 7.34693878e+01],\n",
       "       [1.00000000e+00, 8.77551020e+00, 7.70095793e+01],\n",
       "       [1.00000000e+00, 8.97959184e+00, 8.06330696e+01],\n",
       "       [1.00000000e+00, 9.18367347e+00, 8.43398584e+01],\n",
       "       [1.00000000e+00, 9.38775510e+00, 8.81299459e+01],\n",
       "       [1.00000000e+00, 9.59183673e+00, 9.20033319e+01],\n",
       "       [1.00000000e+00, 9.79591837e+00, 9.59600167e+01],\n",
       "       [1.00000000e+00, 1.00000000e+01, 1.00000000e+02]])"
      ]
     },
     "execution_count": 19,
     "metadata": {},
     "output_type": "execute_result"
    }
   ],
   "source": [
    "#Y=5+2⋅X+3⋅X^2\n",
    " \n",
    "nsample = 50\n",
    "x = np.linspace(0, 10, nsample)\n",
    "X = np.column_stack((x, x**2))\n",
    "X = sm.add_constant(X)\n",
    "X"
   ]
  },
  {
   "cell_type": "code",
   "execution_count": 20,
   "metadata": {},
   "outputs": [
    {
     "data": {
      "text/plain": [
       "array([5.29839571, 1.93628561, 3.00106316])"
      ]
     },
     "execution_count": 20,
     "metadata": {},
     "output_type": "execute_result"
    }
   ],
   "source": [
    "beta = np.array([5, 2, 3])\n",
    "e = np.random.normal(size=nsample)\n",
    "y = np.dot(X, beta) + e\n",
    "model = sm.OLS(y,X)\n",
    "results = model.fit()\n",
    "results.params"
   ]
  },
  {
   "cell_type": "code",
   "execution_count": 21,
   "metadata": {},
   "outputs": [
    {
     "data": {
      "text/html": [
       "<table class=\"simpletable\">\n",
       "<caption>OLS Regression Results</caption>\n",
       "<tr>\n",
       "  <th>Dep. Variable:</th>            <td>y</td>        <th>  R-squared:         </th> <td>   1.000</td> \n",
       "</tr>\n",
       "<tr>\n",
       "  <th>Model:</th>                   <td>OLS</td>       <th>  Adj. R-squared:    </th> <td>   1.000</td> \n",
       "</tr>\n",
       "<tr>\n",
       "  <th>Method:</th>             <td>Least Squares</td>  <th>  F-statistic:       </th> <td>1.536e+05</td>\n",
       "</tr>\n",
       "<tr>\n",
       "  <th>Date:</th>             <td>Thu, 08 Aug 2019</td> <th>  Prob (F-statistic):</th> <td>2.17e-90</td> \n",
       "</tr>\n",
       "<tr>\n",
       "  <th>Time:</th>                 <td>10:02:54</td>     <th>  Log-Likelihood:    </th> <td> -80.012</td> \n",
       "</tr>\n",
       "<tr>\n",
       "  <th>No. Observations:</th>      <td>    50</td>      <th>  AIC:               </th> <td>   166.0</td> \n",
       "</tr>\n",
       "<tr>\n",
       "  <th>Df Residuals:</th>          <td>    47</td>      <th>  BIC:               </th> <td>   171.8</td> \n",
       "</tr>\n",
       "<tr>\n",
       "  <th>Df Model:</th>              <td>     2</td>      <th>                     </th>     <td> </td>    \n",
       "</tr>\n",
       "<tr>\n",
       "  <th>Covariance Type:</th>      <td>nonrobust</td>    <th>                     </th>     <td> </td>    \n",
       "</tr>\n",
       "</table>\n",
       "<table class=\"simpletable\">\n",
       "<tr>\n",
       "    <td></td>       <th>coef</th>     <th>std err</th>      <th>t</th>      <th>P>|t|</th>  <th>[0.025</th>    <th>0.975]</th>  \n",
       "</tr>\n",
       "<tr>\n",
       "  <th>const</th> <td>    5.2984</td> <td>    0.504</td> <td>   10.507</td> <td> 0.000</td> <td>    4.284</td> <td>    6.313</td>\n",
       "</tr>\n",
       "<tr>\n",
       "  <th>x1</th>    <td>    1.9363</td> <td>    0.233</td> <td>    8.303</td> <td> 0.000</td> <td>    1.467</td> <td>    2.405</td>\n",
       "</tr>\n",
       "<tr>\n",
       "  <th>x2</th>    <td>    3.0011</td> <td>    0.023</td> <td>  133.066</td> <td> 0.000</td> <td>    2.956</td> <td>    3.046</td>\n",
       "</tr>\n",
       "</table>\n",
       "<table class=\"simpletable\">\n",
       "<tr>\n",
       "  <th>Omnibus:</th>       <td> 2.724</td> <th>  Durbin-Watson:     </th> <td>   2.201</td>\n",
       "</tr>\n",
       "<tr>\n",
       "  <th>Prob(Omnibus):</th> <td> 0.256</td> <th>  Jarque-Bera (JB):  </th> <td>   2.317</td>\n",
       "</tr>\n",
       "<tr>\n",
       "  <th>Skew:</th>          <td> 0.526</td> <th>  Prob(JB):          </th> <td>   0.314</td>\n",
       "</tr>\n",
       "<tr>\n",
       "  <th>Kurtosis:</th>      <td> 2.928</td> <th>  Cond. No.          </th> <td>    142.</td>\n",
       "</tr>\n",
       "</table><br/><br/>Warnings:<br/>[1] Standard Errors assume that the covariance matrix of the errors is correctly specified."
      ],
      "text/plain": [
       "<class 'statsmodels.iolib.summary.Summary'>\n",
       "\"\"\"\n",
       "                            OLS Regression Results                            \n",
       "==============================================================================\n",
       "Dep. Variable:                      y   R-squared:                       1.000\n",
       "Model:                            OLS   Adj. R-squared:                  1.000\n",
       "Method:                 Least Squares   F-statistic:                 1.536e+05\n",
       "Date:                Thu, 08 Aug 2019   Prob (F-statistic):           2.17e-90\n",
       "Time:                        10:02:54   Log-Likelihood:                -80.012\n",
       "No. Observations:                  50   AIC:                             166.0\n",
       "Df Residuals:                      47   BIC:                             171.8\n",
       "Df Model:                           2                                         \n",
       "Covariance Type:            nonrobust                                         \n",
       "==============================================================================\n",
       "                 coef    std err          t      P>|t|      [0.025      0.975]\n",
       "------------------------------------------------------------------------------\n",
       "const          5.2984      0.504     10.507      0.000       4.284       6.313\n",
       "x1             1.9363      0.233      8.303      0.000       1.467       2.405\n",
       "x2             3.0011      0.023    133.066      0.000       2.956       3.046\n",
       "==============================================================================\n",
       "Omnibus:                        2.724   Durbin-Watson:                   2.201\n",
       "Prob(Omnibus):                  0.256   Jarque-Bera (JB):                2.317\n",
       "Skew:                           0.526   Prob(JB):                        0.314\n",
       "Kurtosis:                       2.928   Cond. No.                         142.\n",
       "==============================================================================\n",
       "\n",
       "Warnings:\n",
       "[1] Standard Errors assume that the covariance matrix of the errors is correctly specified.\n",
       "\"\"\""
      ]
     },
     "execution_count": 21,
     "metadata": {},
     "output_type": "execute_result"
    }
   ],
   "source": [
    "results.summary()"
   ]
  },
  {
   "cell_type": "code",
   "execution_count": 14,
   "metadata": {},
   "outputs": [
    {
     "data": {
      "image/png": "[encoded data removed]",
      "text/plain": [
       "<Figure size 576x432 with 1 Axes>"
      ]
     },
     "metadata": {
      "needs_background": "light"
     },
     "output_type": "display_data"
    }
   ],
   "source": [
    "y_fitted = results.fittedvalues\n",
    "fig, ax = plt.subplots(figsize=(8,6))\n",
    "ax.plot(x, y, 'o', label='data')\n",
    "ax.plot(x, y_fitted, 'r--.',label='OLS')\n",
    "ax.legend(loc='best')\n",
    "plt.show()"
   ]
  },
  {
   "cell_type": "markdown",
   "metadata": {},
   "source": [
    "#### 分类变量\n",
    "\n",
    "假设分类变量有4个取值（a,b,c）,比如考试成绩有3个等级。那么a就是（1,0,0），b（0,1,0），c(0,0,1),这个时候就需要3个系数β0,β1,β2，也就是β0x0+β1x1+β2x2"
   ]
  },
  {
   "cell_type": "code",
   "execution_count": 15,
   "metadata": {},
   "outputs": [
    {
     "data": {
      "text/plain": [
       "array([0, 0, 0, 0, 0, 0, 0, 0, 0, 0, 0, 0, 0, 0, 0, 0, 0, 0, 0, 0, 0, 0,\n",
       "       0, 0, 0, 0, 0, 0, 0, 0, 0, 0, 0, 0, 0, 0, 0, 0, 0, 0, 0, 0, 0, 0,\n",
       "       0, 0, 0, 0, 0, 0])"
      ]
     },
     "execution_count": 15,
     "metadata": {},
     "output_type": "execute_result"
    }
   ],
   "source": [
    "nsample = 50\n",
    "groups = np.zeros(nsample,int)\n",
    "groups"
   ]
  },
  {
   "cell_type": "code",
   "execution_count": 16,
   "metadata": {},
   "outputs": [
    {
     "data": {
      "text/plain": [
       "array([[1., 0., 0.],\n",
       "       [1., 0., 0.],\n",
       "       [1., 0., 0.],\n",
       "       [1., 0., 0.],\n",
       "       [1., 0., 0.],\n",
       "       [1., 0., 0.],\n",
       "       [1., 0., 0.],\n",
       "       [1., 0., 0.],\n",
       "       [1., 0., 0.],\n",
       "       [1., 0., 0.],\n",
       "       [1., 0., 0.],\n",
       "       [1., 0., 0.],\n",
       "       [1., 0., 0.],\n",
       "       [1., 0., 0.],\n",
       "       [1., 0., 0.],\n",
       "       [1., 0., 0.],\n",
       "       [1., 0., 0.],\n",
       "       [1., 0., 0.],\n",
       "       [1., 0., 0.],\n",
       "       [1., 0., 0.],\n",
       "       [0., 1., 0.],\n",
       "       [0., 1., 0.],\n",
       "       [0., 1., 0.],\n",
       "       [0., 1., 0.],\n",
       "       [0., 1., 0.],\n",
       "       [0., 1., 0.],\n",
       "       [0., 1., 0.],\n",
       "       [0., 1., 0.],\n",
       "       [0., 1., 0.],\n",
       "       [0., 1., 0.],\n",
       "       [0., 1., 0.],\n",
       "       [0., 1., 0.],\n",
       "       [0., 1., 0.],\n",
       "       [0., 1., 0.],\n",
       "       [0., 1., 0.],\n",
       "       [0., 1., 0.],\n",
       "       [0., 1., 0.],\n",
       "       [0., 1., 0.],\n",
       "       [0., 1., 0.],\n",
       "       [0., 1., 0.],\n",
       "       [0., 0., 1.],\n",
       "       [0., 0., 1.],\n",
       "       [0., 0., 1.],\n",
       "       [0., 0., 1.],\n",
       "       [0., 0., 1.],\n",
       "       [0., 0., 1.],\n",
       "       [0., 0., 1.],\n",
       "       [0., 0., 1.],\n",
       "       [0., 0., 1.],\n",
       "       [0., 0., 1.]])"
      ]
     },
     "execution_count": 16,
     "metadata": {},
     "output_type": "execute_result"
    }
   ],
   "source": [
    "groups[20:40] = 1\n",
    "groups[40:] = 2\n",
    "dummy = sm.categorical(groups, drop=True)\n",
    "dummy"
   ]
  },
  {
   "cell_type": "code",
   "execution_count": 17,
   "metadata": {},
   "outputs": [
    {
     "data": {
      "text/html": [
       "<table class=\"simpletable\">\n",
       "<caption>OLS Regression Results</caption>\n",
       "<tr>\n",
       "  <th>Dep. Variable:</th>            <td>y</td>        <th>  R-squared:         </th> <td>   0.997</td>\n",
       "</tr>\n",
       "<tr>\n",
       "  <th>Model:</th>                   <td>OLS</td>       <th>  Adj. R-squared:    </th> <td>   0.997</td>\n",
       "</tr>\n",
       "<tr>\n",
       "  <th>Method:</th>             <td>Least Squares</td>  <th>  F-statistic:       </th> <td>   4725.</td>\n",
       "</tr>\n",
       "<tr>\n",
       "  <th>Date:</th>             <td>Thu, 08 Aug 2019</td> <th>  Prob (F-statistic):</th> <td>2.92e-57</td>\n",
       "</tr>\n",
       "<tr>\n",
       "  <th>Time:</th>                 <td>09:53:12</td>     <th>  Log-Likelihood:    </th> <td> -59.639</td>\n",
       "</tr>\n",
       "<tr>\n",
       "  <th>No. Observations:</th>      <td>    50</td>      <th>  AIC:               </th> <td>   127.3</td>\n",
       "</tr>\n",
       "<tr>\n",
       "  <th>Df Residuals:</th>          <td>    46</td>      <th>  BIC:               </th> <td>   134.9</td>\n",
       "</tr>\n",
       "<tr>\n",
       "  <th>Df Model:</th>              <td>     3</td>      <th>                     </th>     <td> </td>   \n",
       "</tr>\n",
       "<tr>\n",
       "  <th>Covariance Type:</th>      <td>nonrobust</td>    <th>                     </th>     <td> </td>   \n",
       "</tr>\n",
       "</table>\n",
       "<table class=\"simpletable\">\n",
       "<tr>\n",
       "    <td></td>       <th>coef</th>     <th>std err</th>      <th>t</th>      <th>P>|t|</th>  <th>[0.025</th>    <th>0.975]</th>  \n",
       "</tr>\n",
       "<tr>\n",
       "  <th>const</th> <td>    7.4223</td> <td>    0.471</td> <td>   15.754</td> <td> 0.000</td> <td>    6.474</td> <td>    8.371</td>\n",
       "</tr>\n",
       "<tr>\n",
       "  <th>x1</th>    <td>    2.0970</td> <td>    0.054</td> <td>   38.686</td> <td> 0.000</td> <td>    1.988</td> <td>    2.206</td>\n",
       "</tr>\n",
       "<tr>\n",
       "  <th>x2</th>    <td>    0.1913</td> <td>    0.299</td> <td>    0.640</td> <td> 0.525</td> <td>   -0.410</td> <td>    0.793</td>\n",
       "</tr>\n",
       "<tr>\n",
       "  <th>x3</th>    <td>    2.1371</td> <td>    0.250</td> <td>    8.559</td> <td> 0.000</td> <td>    1.634</td> <td>    2.640</td>\n",
       "</tr>\n",
       "<tr>\n",
       "  <th>x4</th>    <td>    5.0938</td> <td>    0.563</td> <td>    9.055</td> <td> 0.000</td> <td>    3.962</td> <td>    6.226</td>\n",
       "</tr>\n",
       "</table>\n",
       "<table class=\"simpletable\">\n",
       "<tr>\n",
       "  <th>Omnibus:</th>       <td> 1.288</td> <th>  Durbin-Watson:     </th> <td>   2.033</td>\n",
       "</tr>\n",
       "<tr>\n",
       "  <th>Prob(Omnibus):</th> <td> 0.525</td> <th>  Jarque-Bera (JB):  </th> <td>   1.261</td>\n",
       "</tr>\n",
       "<tr>\n",
       "  <th>Skew:</th>          <td> 0.356</td> <th>  Prob(JB):          </th> <td>   0.532</td>\n",
       "</tr>\n",
       "<tr>\n",
       "  <th>Kurtosis:</th>      <td> 2.687</td> <th>  Cond. No.          </th> <td>1.28e+17</td>\n",
       "</tr>\n",
       "</table><br/><br/>Warnings:<br/>[1] Standard Errors assume that the covariance matrix of the errors is correctly specified.<br/>[2] The smallest eigenvalue is 4.16e-31. This might indicate that there are<br/>strong multicollinearity problems or that the design matrix is singular."
      ],
      "text/plain": [
       "<class 'statsmodels.iolib.summary.Summary'>\n",
       "\"\"\"\n",
       "                            OLS Regression Results                            \n",
       "==============================================================================\n",
       "Dep. Variable:                      y   R-squared:                       0.997\n",
       "Model:                            OLS   Adj. R-squared:                  0.997\n",
       "Method:                 Least Squares   F-statistic:                     4725.\n",
       "Date:                Thu, 08 Aug 2019   Prob (F-statistic):           2.92e-57\n",
       "Time:                        09:53:12   Log-Likelihood:                -59.639\n",
       "No. Observations:                  50   AIC:                             127.3\n",
       "Df Residuals:                      46   BIC:                             134.9\n",
       "Df Model:                           3                                         \n",
       "Covariance Type:            nonrobust                                         \n",
       "==============================================================================\n",
       "                 coef    std err          t      P>|t|      [0.025      0.975]\n",
       "------------------------------------------------------------------------------\n",
       "const          7.4223      0.471     15.754      0.000       6.474       8.371\n",
       "x1             2.0970      0.054     38.686      0.000       1.988       2.206\n",
       "x2             0.1913      0.299      0.640      0.525      -0.410       0.793\n",
       "x3             2.1371      0.250      8.559      0.000       1.634       2.640\n",
       "x4             5.0938      0.563      9.055      0.000       3.962       6.226\n",
       "==============================================================================\n",
       "Omnibus:                        1.288   Durbin-Watson:                   2.033\n",
       "Prob(Omnibus):                  0.525   Jarque-Bera (JB):                1.261\n",
       "Skew:                           0.356   Prob(JB):                        0.532\n",
       "Kurtosis:                       2.687   Cond. No.                     1.28e+17\n",
       "==============================================================================\n",
       "\n",
       "Warnings:\n",
       "[1] Standard Errors assume that the covariance matrix of the errors is correctly specified.\n",
       "[2] The smallest eigenvalue is 4.16e-31. This might indicate that there are\n",
       "strong multicollinearity problems or that the design matrix is singular.\n",
       "\"\"\""
      ]
     },
     "execution_count": 17,
     "metadata": {},
     "output_type": "execute_result"
    }
   ],
   "source": [
    "#Y=5+2X+3Z1+6⋅Z2+9⋅Z3.\n",
    " \n",
    "x = np.linspace(0, 20, nsample)\n",
    "X = np.column_stack((x, dummy))\n",
    "X = sm.add_constant(X)\n",
    "beta = [5, 2, 3, 6, 9]\n",
    "e = np.random.normal(size=nsample)\n",
    "y = np.dot(X, beta) + e\n",
    "result = sm.OLS(y,X).fit()\n",
    "result.summary()"
   ]
  },
  {
   "cell_type": "code",
   "execution_count": 18,
   "metadata": {},
   "outputs": [
    {
     "data": {
      "image/png": "[encoded data removed]",
      "text/plain": [
       "<Figure size 576x432 with 1 Axes>"
      ]
     },
     "metadata": {
      "needs_background": "light"
     },
     "output_type": "display_data"
    }
   ],
   "source": [
    "fig, ax = plt.subplots(figsize=(8,6))\n",
    "ax.plot(x, y, 'o', label=\"data\")\n",
    "ax.plot(x, result.fittedvalues, 'r--.', label=\"OLS\")\n",
    "ax.legend(loc='best')\n",
    "plt.show()"
   ]
  },
  {
   "cell_type": "code",
   "execution_count": null,
   "metadata": {},
   "outputs": [],
   "source": []
  }
 ],
 "metadata": {
  "kernelspec": {
   "display_name": "Python 3",
   "language": "python",
   "name": "python3"
  },
  "language_info": {
   "codemirror_mode": {
    "name": "ipython",
    "version": 3
   },
   "file_extension": ".py",
   "mimetype": "text/x-python",
   "name": "python",
   "nbconvert_exporter": "python",
   "pygments_lexer": "ipython3",
   "version": "3.7.3"
  }
 },
 "nbformat": 4,
 "nbformat_minor": 4
}
