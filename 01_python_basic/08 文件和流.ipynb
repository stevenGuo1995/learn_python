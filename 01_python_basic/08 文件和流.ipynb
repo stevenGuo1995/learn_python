{
 "cells": [
  {
   "cell_type": "markdown",
   "metadata": {},
   "source": [
    "# 8 文件和流\n",
    "## 8.1 读文件和写文件\n",
    "\n",
    "参数|含义\n",
    ":-:|:-:\n",
    "r|只读\n",
    "w|只写,文件存在覆盖原文件\n",
    "r+|文件可读写，若文件存在抛出异常\n",
    "w+|文件可读写，若不存在，创建新文件，存在则覆盖\n",
    "a+|文件可读写，不存在创建新文件，存在则追加内容\n"
   ]
  },
  {
   "cell_type": "code",
   "execution_count": 9,
   "metadata": {},
   "outputs": [
    {
     "name": "stdout",
     "output_type": "stream",
     "text": [
      "['hello']\n"
     ]
    }
   ],
   "source": [
    "## 读写文件步骤\n",
    "# 1、打开文件\n",
    "f = open('test.txt','w')\n",
    "# 2、读取文件内容\n",
    "f.write('hello')\n",
    "# 3、关闭文件\n",
    "f.close()\n",
    "\n",
    "# 使用with语句，语句结束自动关闭\n",
    "with open('test.txt','r') as f:\n",
    "    print(f.readlines())"
   ]
  },
  {
   "cell_type": "code",
   "execution_count": 13,
   "metadata": {},
   "outputs": [
    {
     "name": "stdout",
     "output_type": "stream",
     "text": [
      "----------read()----------\n",
      "这是第一行\n",
      "这是第二行\n",
      "\n",
      "这是第四行\n",
      "----------readline()----------\n",
      "这是第一行\n",
      "这是第二行\n",
      "\n",
      "这是第四行\n",
      "----------readlines()----------\n",
      "['这是第一行\\n', '这是第二行\\n', '\\n', '这是第四行']\n",
      "这是第一行\n",
      "这是第二行\n",
      "\n",
      "这是第四行\n"
     ]
    }
   ],
   "source": [
    "# 读文件\n",
    "# read() 读取文件到内存, 大文件会报错\n",
    "print('-'*10 + 'read()' + '-'*10)\n",
    "with open('test.txt', 'r', encoding='utf8') as f:\n",
    "    file = f.read()\n",
    "    print(file)\n",
    "    \n",
    "# readline() 每次返回一行\n",
    "print('-'*10 + 'readline()' + '-'*10)\n",
    "with open('test.txt', 'r', encoding='utf8') as f:\n",
    "    while True:\n",
    "        cur_line = f.readline()\n",
    "        if cur_line:\n",
    "            print(cur_line.strip())\n",
    "        else:\n",
    "            break\n",
    "            \n",
    "# readlines() 返回包括所有的行的列表，一行是一个元素（包括换行符）            \n",
    "print('-'*10 + 'readlines()' + '-'*10)\n",
    "with open('test.txt', 'r', encoding='utf8') as f:\n",
    "    all_lines = f.readlines()\n",
    "    print(all_lines)\n",
    "    for line in all_lines:\n",
    "        print(line.strip())"
   ]
  },
  {
   "cell_type": "markdown",
   "metadata": {},
   "source": [
    "## 8.2 管道输出（unix、linux、mac os 特有）\n",
    "管道符：|"
   ]
  },
  {
   "cell_type": "markdown",
   "metadata": {},
   "source": [
    "## 8.3 FileInput对象\n"
   ]
  },
  {
   "cell_type": "code",
   "execution_count": 17,
   "metadata": {},
   "outputs": [
    {
     "ename": "RuntimeError",
     "evalue": "input() already active",
     "output_type": "error",
     "traceback": [
      "\u001b[1;31m---------------------------------------------------------------------------\u001b[0m",
      "\u001b[1;31mRuntimeError\u001b[0m                              Traceback (most recent call last)",
      "\u001b[1;32m<ipython-input-17-feee25984b53>\u001b[0m in \u001b[0;36m<module>\u001b[1;34m\u001b[0m\n\u001b[0;32m      1\u001b[0m \u001b[1;32mimport\u001b[0m \u001b[0mfileinput\u001b[0m\u001b[1;33m\u001b[0m\u001b[1;33m\u001b[0m\u001b[0m\n\u001b[0;32m      2\u001b[0m \u001b[1;33m\u001b[0m\u001b[0m\n\u001b[1;32m----> 3\u001b[1;33m \u001b[0mfile_obj\u001b[0m \u001b[1;33m=\u001b[0m \u001b[0mfileinput\u001b[0m\u001b[1;33m.\u001b[0m\u001b[0minput\u001b[0m\u001b[1;33m(\u001b[0m\u001b[1;34m'test.txt'\u001b[0m\u001b[1;33m)\u001b[0m\u001b[1;33m\u001b[0m\u001b[1;33m\u001b[0m\u001b[0m\n\u001b[0m\u001b[0;32m      4\u001b[0m \u001b[1;33m\u001b[0m\u001b[0m\n\u001b[0;32m      5\u001b[0m \u001b[1;32mfor\u001b[0m \u001b[0mline\u001b[0m \u001b[1;32min\u001b[0m \u001b[0mfile_obj\u001b[0m\u001b[1;33m:\u001b[0m\u001b[1;33m\u001b[0m\u001b[1;33m\u001b[0m\u001b[0m\n",
      "\u001b[1;32mD:\\Anaconda3\\lib\\fileinput.py\u001b[0m in \u001b[0;36minput\u001b[1;34m(files, inplace, backup, bufsize, mode, openhook)\u001b[0m\n\u001b[0;32m     91\u001b[0m     \u001b[1;32mglobal\u001b[0m \u001b[0m_state\u001b[0m\u001b[1;33m\u001b[0m\u001b[1;33m\u001b[0m\u001b[0m\n\u001b[0;32m     92\u001b[0m     \u001b[1;32mif\u001b[0m \u001b[0m_state\u001b[0m \u001b[1;32mand\u001b[0m \u001b[0m_state\u001b[0m\u001b[1;33m.\u001b[0m\u001b[0m_file\u001b[0m\u001b[1;33m:\u001b[0m\u001b[1;33m\u001b[0m\u001b[1;33m\u001b[0m\u001b[0m\n\u001b[1;32m---> 93\u001b[1;33m         \u001b[1;32mraise\u001b[0m \u001b[0mRuntimeError\u001b[0m\u001b[1;33m(\u001b[0m\u001b[1;34m\"input() already active\"\u001b[0m\u001b[1;33m)\u001b[0m\u001b[1;33m\u001b[0m\u001b[1;33m\u001b[0m\u001b[0m\n\u001b[0m\u001b[0;32m     94\u001b[0m     \u001b[0m_state\u001b[0m \u001b[1;33m=\u001b[0m \u001b[0mFileInput\u001b[0m\u001b[1;33m(\u001b[0m\u001b[0mfiles\u001b[0m\u001b[1;33m,\u001b[0m \u001b[0minplace\u001b[0m\u001b[1;33m,\u001b[0m \u001b[0mbackup\u001b[0m\u001b[1;33m,\u001b[0m \u001b[0mbufsize\u001b[0m\u001b[1;33m,\u001b[0m \u001b[0mmode\u001b[0m\u001b[1;33m,\u001b[0m \u001b[0mopenhook\u001b[0m\u001b[1;33m)\u001b[0m\u001b[1;33m\u001b[0m\u001b[1;33m\u001b[0m\u001b[0m\n\u001b[0;32m     95\u001b[0m     \u001b[1;32mreturn\u001b[0m \u001b[0m_state\u001b[0m\u001b[1;33m\u001b[0m\u001b[1;33m\u001b[0m\u001b[0m\n",
      "\u001b[1;31mRuntimeError\u001b[0m: input() already active"
     ]
    }
   ],
   "source": [
    "import fileinput\n",
    "\n",
    "file_obj = fileinput.input('test.txt')\n",
    "\n",
    "for line in file_obj:\n",
    "    print(line)"
   ]
  },
  {
   "cell_type": "code",
   "execution_count": 20,
   "metadata": {},
   "outputs": [
    {
     "data": {
      "text/plain": [
       "[[10], [10], [10], [10], [10]]"
      ]
     },
     "execution_count": 20,
     "metadata": {},
     "output_type": "execute_result"
    }
   ],
   "source": [
    "list = [ [ ] ] * 5\n",
    "\n",
    "list[0].append(10)\n",
    "\n",
    "list"
   ]
  },
  {
   "cell_type": "code",
   "execution_count": 21,
   "metadata": {},
   "outputs": [
    {
     "name": "stdout",
     "output_type": "stream",
     "text": [
      "<class 'float'>\n"
     ]
    }
   ],
   "source": [
    "print(type(1/2))"
   ]
  },
  {
   "cell_type": "code",
   "execution_count": null,
   "metadata": {},
   "outputs": [],
   "source": []
  }
 ],
 "metadata": {
  "kernelspec": {
   "display_name": "Python 3",
   "language": "python",
   "name": "python3"
  },
  "language_info": {
   "codemirror_mode": {
    "name": "ipython",
    "version": 3
   },
   "file_extension": ".py",
   "mimetype": "text/x-python",
   "name": "python",
   "nbconvert_exporter": "python",
   "pygments_lexer": "ipython3",
   "version": "3.7.3"
  }
 },
 "nbformat": 4,
 "nbformat_minor": 2
}
