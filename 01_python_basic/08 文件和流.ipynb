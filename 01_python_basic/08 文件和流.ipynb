{
 "cells": [
  {
   "cell_type": "markdown",
   "metadata": {},
   "source": [
    "# 8 文件和流\n",
    "## 8.1 读文件和写文件\n",
    "\n",
    "参数|含义\n",
    ":-:|:-:\n",
    "r|只读\n",
    "w|只写,文件存在覆盖原文件\n",
    "r+|文件可读写，若文件存在抛出异常\n",
    "w+|文件可读写，若不存在，创建新文件，存在则覆盖\n",
    "a+|文件可读写，不存在创建新文件，存在则追加内容\n"
   ]
  },
  {
   "cell_type": "code",
   "execution_count": 9,
   "metadata": {},
   "outputs": [
    {
     "name": "stdout",
     "output_type": "stream",
     "text": [
      "['hello']\n"
     ]
    }
   ],
   "source": [
    "## 读写文件步骤\n",
    "# 1、打开文件\n",
    "f = open('test.txt','w')\n",
    "# 2、读取文件内容\n",
    "f.write('hello')\n",
    "# 3、关闭文件\n",
    "f.close()\n",
    "\n",
    "# 使用with语句，语句结束自动关闭\n",
    "with open('test.txt','r') as f:\n",
    "    print(f.readlines())"
   ]
  },
  {
   "cell_type": "code",
   "execution_count": 13,
   "metadata": {},
   "outputs": [
    {
     "name": "stdout",
     "output_type": "stream",
     "text": [
      "----------read()----------\n",
      "这是第一行\n",
      "这是第二行\n",
      "\n",
      "这是第四行\n",
      "----------readline()----------\n",
      "这是第一行\n",
      "这是第二行\n",
      "\n",
      "这是第四行\n",
      "----------readlines()----------\n",
      "['这是第一行\\n', '这是第二行\\n', '\\n', '这是第四行']\n",
      "这是第一行\n",
      "这是第二行\n",
      "\n",
      "这是第四行\n"
     ]
    }
   ],
   "source": [
    "# 读文件\n",
    "# read() 读取文件到内存, 大文件会报错\n",
    "print('-'*10 + 'read()' + '-'*10)\n",
    "with open('test.txt', 'r', encoding='utf8') as f:\n",
    "    file = f.read()\n",
    "    print(file)\n",
    "    \n",
    "# readline() 每次返回一行\n",
    "print('-'*10 + 'readline()' + '-'*10)\n",
    "with open('test.txt', 'r', encoding='utf8') as f:\n",
    "    while True:\n",
    "        cur_line = f.readline()\n",
    "        if cur_line:\n",
    "            print(cur_line.strip())\n",
    "        else:\n",
    "            break\n",
    "            \n",
    "# readlines() 返回包括所有的行的列表，一行是一个元素（包括换行符）            \n",
    "print('-'*10 + 'readlines()' + '-'*10)\n",
    "with open('test.txt', 'r', encoding='utf8') as f:\n",
    "    all_lines = f.readlines()\n",
    "    print(all_lines)\n",
    "    for line in all_lines:\n",
    "        print(line.strip())"
   ]
  },
  {
   "cell_type": "markdown",
   "metadata": {},
   "source": [
    "## 8.2 管道输出（unix、linux、mac os 特有）\n",
    "管道符：|"
   ]
  },
  {
   "cell_type": "markdown",
   "metadata": {},
   "source": [
    "## 8.3 FileInput对象\n"
   ]
  },
  {
   "cell_type": "code",
   "execution_count": 13,
   "metadata": {},
   "outputs": [],
   "source": [
    "import fileinput\n",
    "\n",
    "file_obj = fileinput.input('test.txt')\n",
    "\n",
    "\n",
    "file_obj.close()"
   ]
  },
  {
   "cell_type": "code",
   "execution_count": 20,
   "metadata": {},
   "outputs": [
    {
     "data": {
      "text/plain": [
       "[[10], [10], [10], [10], [10]]"
      ]
     },
     "execution_count": 20,
     "metadata": {},
     "output_type": "execute_result"
    }
   ],
   "source": [
    "list = [ [ ] ] * 5\n",
    "\n",
    "list[0].append(10)\n",
    "\n",
    "list"
   ]
  },
  {
   "cell_type": "code",
   "execution_count": 21,
   "metadata": {},
   "outputs": [
    {
     "name": "stdout",
     "output_type": "stream",
     "text": [
      "<class 'float'>\n"
     ]
    }
   ],
   "source": [
    "print(type(1/2))"
   ]
  },
  {
   "cell_type": "code",
   "execution_count": 12,
   "metadata": {},
   "outputs": [],
   "source": []
  },
  {
   "cell_type": "code",
   "execution_count": null,
   "metadata": {},
   "outputs": [],
   "source": []
  }
 ],
 "metadata": {
  "kernelspec": {
   "display_name": "Python 3",
   "language": "python",
   "name": "python3"
  },
  "language_info": {
   "codemirror_mode": {
    "name": "ipython",
    "version": 3
   },
   "file_extension": ".py",
   "mimetype": "text/x-python",
   "name": "python",
   "nbconvert_exporter": "python",
   "pygments_lexer": "ipython3",
   "version": "3.7.3"
  }
 },
 "nbformat": 4,
 "nbformat_minor": 2
}
