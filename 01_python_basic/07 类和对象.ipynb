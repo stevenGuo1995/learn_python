{
 "cells": [
  {
   "cell_type": "markdown",
   "metadata": {},
   "source": [
    "# 07 类和对象\n",
    "**主要内容**\n",
    "1. 什么是对象和类  \n",
    "2. 面向对象的3个特征：继承、封装和多态  \n",
    "3. 创建自己的类  \n",
    "4. 为类添加私有方法  \n",
    "5. 继承一个或多个类  \n",
    "6. 检测类之间的继承关系   \n",
    "    "
   ]
  },
  {
   "cell_type": "markdown",
   "metadata": {},
   "source": [
    "## 7.1 类和对象\n",
    "类： 拥有共同特征的同一类事物的总称或抽象  如：鸟类  \n",
    "对象：将抽象的事物具体化，从类创建对象也称为类的实例化 如：麻雀、鸽子"
   ]
  },
  {
   "cell_type": "code",
   "execution_count": 3,
   "metadata": {},
   "outputs": [
    {
     "name": "stdout",
     "output_type": "stream",
     "text": [
      "Hello, I'm Steven\n"
     ]
    }
   ],
   "source": [
    "# 创建一个类\n",
    "class Person:\n",
    "    # self 表示实例方法，也可以用其他单词，但是习惯用self\n",
    "    def set_name(self, name):\n",
    "        self.name = name\n",
    "        \n",
    "    def get_name(self):\n",
    "        return self.name\n",
    "    \n",
    "    def greet(self):\n",
    "        print(\"Hello, I'm {name}\".format(name=self.name))\n",
    "        \n",
    "# 实例化一个类（创建一个对象）\n",
    "person = Person()    \n",
    "person.set_name('Steven')\n",
    "person.greet()"
   ]
  },
  {
   "cell_type": "markdown",
   "metadata": {},
   "source": [
    "# 7.2 方法的私有化\n",
    "为类的方法名加上两个下划线"
   ]
  },
  {
   "cell_type": "code",
   "execution_count": 6,
   "metadata": {},
   "outputs": [
    {
     "name": "stdout",
     "output_type": "stream",
     "text": [
      "function01\n"
     ]
    },
    {
     "ename": "AttributeError",
     "evalue": "'Person' object has no attribute '__function02'",
     "output_type": "error",
     "traceback": [
      "\u001b[1;31m---------------------------------------------------------------------------\u001b[0m",
      "\u001b[1;31mAttributeError\u001b[0m                            Traceback (most recent call last)",
      "\u001b[1;32m<ipython-input-6-743508da61ab>\u001b[0m in \u001b[0;36m<module>\u001b[1;34m\u001b[0m\n\u001b[0;32m      7\u001b[0m \u001b[0mperson\u001b[0m \u001b[1;33m=\u001b[0m \u001b[0mPerson\u001b[0m\u001b[1;33m(\u001b[0m\u001b[1;33m)\u001b[0m\u001b[1;33m\u001b[0m\u001b[1;33m\u001b[0m\u001b[0m\n\u001b[0;32m      8\u001b[0m \u001b[0mperson\u001b[0m\u001b[1;33m.\u001b[0m\u001b[0mfunction01\u001b[0m\u001b[1;33m(\u001b[0m\u001b[1;33m)\u001b[0m\u001b[1;33m\u001b[0m\u001b[1;33m\u001b[0m\u001b[0m\n\u001b[1;32m----> 9\u001b[1;33m \u001b[0mperson\u001b[0m\u001b[1;33m.\u001b[0m\u001b[0m__function02\u001b[0m\u001b[1;33m(\u001b[0m\u001b[1;33m)\u001b[0m\u001b[1;33m\u001b[0m\u001b[1;33m\u001b[0m\u001b[0m\n\u001b[0m",
      "\u001b[1;31mAttributeError\u001b[0m: 'Person' object has no attribute '__function02'"
     ]
    }
   ],
   "source": [
    "class Person:\n",
    "    def function01(self):\n",
    "        print('function01')\n",
    "    def __function02(self):\n",
    "        print('function02')\n",
    "        \n",
    "person = Person()\n",
    "person.function01()\n",
    "person.__function02()"
   ]
  },
  {
   "cell_type": "code",
   "execution_count": 11,
   "metadata": {},
   "outputs": [
    {
     "name": "stdout",
     "output_type": "stream",
     "text": [
      "function02\n"
     ]
    }
   ],
   "source": [
    "# 将方法名更改了，所以是伪私有化\n",
    "person._Person__function02()"
   ]
  },
  {
   "cell_type": "code",
   "execution_count": 14,
   "metadata": {},
   "outputs": [
    {
     "name": "stdout",
     "output_type": "stream",
     "text": [
      "_Person__function02\n",
      "function01\n"
     ]
    }
   ],
   "source": [
    "# 查看类中所有方法\n",
    "import inspect\n",
    "\n",
    "methods = inspect.getmembers(person, predicate=inspect.ismethod)\n",
    "for method in methods:\n",
    "    print(method[0])"
   ]
  },
  {
   "cell_type": "code",
   "execution_count": null,
   "metadata": {},
   "outputs": [],
   "source": []
  }
 ],
 "metadata": {
  "kernelspec": {
   "display_name": "Python 3",
   "language": "python",
   "name": "python3"
  },
  "language_info": {
   "codemirror_mode": {
    "name": "ipython",
    "version": 3
   },
   "file_extension": ".py",
   "mimetype": "text/x-python",
   "name": "python",
   "nbconvert_exporter": "python",
   "pygments_lexer": "ipython3",
   "version": "3.7.3"
  }
 },
 "nbformat": 4,
 "nbformat_minor": 2
}
