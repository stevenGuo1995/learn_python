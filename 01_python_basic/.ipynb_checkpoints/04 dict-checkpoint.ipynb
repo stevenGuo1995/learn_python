{
 "cells": [
  {
<<<<<<< HEAD
=======
   "cell_type": "markdown",
   "metadata": {},
   "source": [
    "# 04 dict\n",
    "## 4.1 创建和使用字典"
   ]
  },
  {
   "cell_type": "code",
   "execution_count": 2,
   "metadata": {},
   "outputs": [
    {
     "name": "stdout",
     "output_type": "stream",
     "text": [
      "765\n"
     ]
    }
   ],
   "source": [
    "# 在不使用字典的情况下,获取某人的电话号码\n",
    "\n",
    "names = ['Steven', 'Bill', 'Jack', 'Poney']\n",
    "numbers = ['123', '654', '765', '432']\n",
    "\n",
    "print(numbers[names.index('Jack')])"
   ]
  },
  {
   "cell_type": "code",
   "execution_count": 15,
   "metadata": {},
   "outputs": [
    {
     "name": "stdout",
     "output_type": "stream",
     "text": [
      "765\n"
     ]
    }
   ],
   "source": [
    "# 使用字典获取电话号码\n",
    "number = {\n",
    "    'Steven':'123',\n",
    "    'Bill' : '654',\n",
    "    'Jack' : '765',\n",
    "    'Poney' : '432'\n",
    "}\n",
    "print(number['Jack'])"
   ]
  },
  {
   "cell_type": "markdown",
   "metadata": {},
   "source": [
    "## 4.2 字典的基本操作"
   ]
  },
  {
   "cell_type": "code",
   "execution_count": 16,
   "metadata": {},
   "outputs": [
    {
     "data": {
      "text/plain": [
       "4"
      ]
     },
     "execution_count": 16,
     "metadata": {},
     "output_type": "execute_result"
    }
   ],
   "source": [
    "# len()获取字典的长度（即key的个数）\n",
    "len(number)"
   ]
  },
  {
   "cell_type": "code",
   "execution_count": 17,
   "metadata": {},
   "outputs": [
    {
     "name": "stdout",
     "output_type": "stream",
     "text": [
      "123\n",
      "5678\n"
     ]
    }
   ],
   "source": [
    "# 通过key设置和获取字典中的值\n",
    "print(number['Steven'])\n",
    "number['Steven'] = 5678\n",
    "print(number['Steven'])"
   ]
  },
  {
   "cell_type": "code",
   "execution_count": 19,
   "metadata": {},
   "outputs": [
    {
     "name": "stdout",
     "output_type": "stream",
     "text": [
      "False\n",
      "True\n"
     ]
    }
   ],
   "source": [
    "# 字典使用 in 查找 key在不在字典中\n",
    "print('5678' in number)\n",
    "print('Steven' in number)"
   ]
  },
  {
   "cell_type": "code",
   "execution_count": 23,
   "metadata": {},
   "outputs": [],
   "source": [
    "# key必须是不可变类型\n",
    "test = {\n",
    "    #[1,2] : '123',\n",
    "    (1,2) : '213',\n",
    "    123 : '543'\n",
    "}"
   ]
  },
  {
>>>>>>> 5ec423b9897845c946f2b35798b096f963bdebb0
   "cell_type": "code",
   "execution_count": null,
   "metadata": {},
   "outputs": [],
   "source": []
  }
 ],
 "metadata": {
  "kernelspec": {
   "display_name": "Python 3",
   "language": "python",
   "name": "python3"
  },
  "language_info": {
   "codemirror_mode": {
    "name": "ipython",
    "version": 3
   },
   "file_extension": ".py",
   "mimetype": "text/x-python",
   "name": "python",
   "nbconvert_exporter": "python",
   "pygments_lexer": "ipython3",
   "version": "3.7.3"
  }
 },
 "nbformat": 4,
 "nbformat_minor": 2
}
