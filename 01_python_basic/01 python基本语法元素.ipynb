{
 "cells": [
  {
   "cell_type": "markdown",
   "metadata": {},
   "source": [
    "# 程序设计基本方法\n",
    "## 1.计算机与程序设计\n",
    "### 1.1 计算机的概念\n",
    "**计算机**是根据指令操作数据的设备。\n",
    "#### 1.1.1 基本特性\n",
    "**功能性。**对数据的操作，表现为数据计算、输入输出处理和结果存储等。  \n",
    "**可编程性。**根据一系列指令，自动地、可预测地、准确地完成操作者的意图。\n",
    "### 1.2 计算机的发展\n",
    "计算机的发展参照**摩尔定律**，表现为指数方式。\n",
    "### 1.3 静态语言和脚本语言\n",
    "  **编译**  \n",
    "  **解释**\n",
    "### 1.4 IPO(程序的基本编写方法)\n",
    "**I** - Input输入，程序的输入。\n",
    "    \n",
    "**P** - Process处理，程序的主要逻辑。\n",
    "\n",
    "**O** - Output输出，程序的输出。  "
   ]
  },
  {
   "cell_type": "markdown",
   "metadata": {},
   "source": []
  },
  {
   "cell_type": "code",
   "execution_count": 12,
   "metadata": {},
   "outputs": [
    {
     "name": "stdout",
     "output_type": "stream",
     "text": [
      "hello\n"
     ]
    }
   ],
   "source": [
    "eval('print(\"hello\")') # 评估函数--去掉最外侧引号并执行引号内内容"
   ]
  },
  {
   "cell_type": "markdown",
   "metadata": {},
   "source": [
    "# 绘制图形（使用turtle）"
   ]
  },
  {
   "cell_type": "code",
   "execution_count": 14,
   "metadata": {},
   "outputs": [],
   "source": [
    "import turtle\n",
    "turtle.setup(650, 350, 200, 200)\n",
    "t = turtle.Pen()\n",
    "t.penup()\n",
    "t.fd(-250)\n",
    "t.pendown()\n",
    "t.pensize(25)\n",
    "t.pencolor('purple')\n",
    "t.seth(-40) # 改变行进方向，angle为绝对角度，   t.left() t.right()--海龟视角转向\n",
    "for i in range(4):\n",
    "    t.circle(40, 80)\n",
    "    t.circle(-40, 80)\n",
    "t.circle(40, 80/2)\n",
    "t.fd(40)\n",
    "t.circle(16, 180)\n",
    "t.fd(40 * 2/3)\n"
   ]
  },
  {
   "cell_type": "code",
   "execution_count": 15,
   "metadata": {},
   "outputs": [],
   "source": [
    "turtle.bye() # 退出绘图"
   ]
  },
  {
   "cell_type": "code",
   "execution_count": 1,
   "metadata": {},
   "outputs": [],
   "source": [
    "import turtle\n",
    "\n",
    "t = turtle.Pen()\n",
    "t.fd(100)\n",
    "t.left(90)\n",
    "t.fd(100)\n",
    "t.left(45)\n",
    "t.fd(140)"
   ]
  },
  {
   "cell_type": "code",
   "execution_count": 2,
   "metadata": {},
   "outputs": [],
   "source": [
    "turtle.bye()"
   ]
  },
  {
   "cell_type": "code",
   "execution_count": null,
   "metadata": {},
   "outputs": [],
   "source": []
  }
 ],
 "metadata": {
  "kernelspec": {
   "display_name": "Python 3",
   "language": "python",
   "name": "python3"
  },
  "language_info": {
   "codemirror_mode": {
    "name": "ipython",
    "version": 3
   },
   "file_extension": ".py",
   "mimetype": "text/x-python",
   "name": "python",
   "nbconvert_exporter": "python",
   "pygments_lexer": "ipython3",
   "version": "3.7.0"
  }
 },
 "nbformat": 4,
 "nbformat_minor": 2
}
