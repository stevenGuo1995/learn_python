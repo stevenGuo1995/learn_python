{
 "cells": [
  {
   "cell_type": "markdown",
   "metadata": {},
   "source": [
<<<<<<< HEAD
    "# 04 Dict"
=======
    "# 04 dict\n",
    "## 4.1 创建和使用字典"
>>>>>>> 5ec423b9897845c946f2b35798b096f963bdebb0
   ]
  },
  {
   "cell_type": "code",
<<<<<<< HEAD
   "execution_count": 16,
=======
   "execution_count": 2,
>>>>>>> 5ec423b9897845c946f2b35798b096f963bdebb0
   "metadata": {},
   "outputs": [
    {
     "name": "stdout",
     "output_type": "stream",
     "text": [
<<<<<<< HEAD
      "<class 'dict'>\n",
      "{'key1': '123'}\n",
      "123\n"
=======
      "765\n"
>>>>>>> 5ec423b9897845c946f2b35798b096f963bdebb0
     ]
    }
   ],
   "source": [
<<<<<<< HEAD
    "d1 = {}\n",
    "d1['key1'] = '123'\n",
    "print(type(d1))\n",
    "print(d1)\n",
    "print(d1['key1'])"
=======
    "# 在不使用字典的情况下,获取某人的电话号码\n",
    "\n",
    "names = ['Steven', 'Bill', 'Jack', 'Poney']\n",
    "numbers = ['123', '654', '765', '432']\n",
    "\n",
    "print(numbers[names.index('Jack')])"
>>>>>>> 5ec423b9897845c946f2b35798b096f963bdebb0
   ]
  },
  {
   "cell_type": "code",
<<<<<<< HEAD
   "execution_count": 2,
=======
   "execution_count": 15,
>>>>>>> 5ec423b9897845c946f2b35798b096f963bdebb0
   "metadata": {},
   "outputs": [
    {
     "name": "stdout",
     "output_type": "stream",
     "text": [
<<<<<<< HEAD
      "['key1', 'key2', 'key3']\n",
      "['this is the first value', 'this is the second value', 'this is the third value']\n",
      "[('key1', 'this is the first value'), ('key2', 'this is the second value'), ('key3', 'this is the third value')]\n"
=======
      "765\n"
>>>>>>> 5ec423b9897845c946f2b35798b096f963bdebb0
     ]
    }
   ],
   "source": [
<<<<<<< HEAD
    "dict_02 = {\n",
    "    'key1':'this is the first value',\n",
    "    'key2':'this is the second value',\n",
    "    'key3':'this is the third value'\n",
    "}\n",
    "\n",
    "print([i for i in dict_02.keys()])\n",
    "print([value for value in dict_02.values()])\n",
    "print([ item for item in dict_02.items()])"
=======
    "# 使用字典获取电话号码\n",
    "number = {\n",
    "    'Steven':'123',\n",
    "    'Bill' : '654',\n",
    "    'Jack' : '765',\n",
    "    'Poney' : '432'\n",
    "}\n",
    "print(number['Jack'])"
>>>>>>> 5ec423b9897845c946f2b35798b096f963bdebb0
   ]
  },
  {
   "cell_type": "markdown",
   "metadata": {},
   "source": [
<<<<<<< HEAD
    "## 4.2 字典的方法\n",
    "###  4.2.1 clear() 清空字典"
=======
    "## 4.2 字典的基本操作"
>>>>>>> 5ec423b9897845c946f2b35798b096f963bdebb0
   ]
  },
  {
   "cell_type": "code",
<<<<<<< HEAD
   "execution_count": 8,
   "metadata": {},
   "outputs": [
    {
     "name": "stdout",
     "output_type": "stream",
     "text": [
      "{'123': '213123', '456': '346346'}\n"
     ]
    },
    {
     "data": {
      "text/plain": [
       "{}"
      ]
     },
     "execution_count": 8,
=======
   "execution_count": 16,
   "metadata": {},
   "outputs": [
    {
     "data": {
      "text/plain": [
       "4"
      ]
     },
     "execution_count": 16,
>>>>>>> 5ec423b9897845c946f2b35798b096f963bdebb0
     "metadata": {},
     "output_type": "execute_result"
    }
   ],
   "source": [
<<<<<<< HEAD
    "dict_03 = {\n",
    "    '123':'213123',\n",
    "    '456':'346346',\n",
    "}\n",
    "dict_04 = dict_03\n",
    "\n",
    "print(dict_04)\n",
    "dict_03.clear()\n",
    "\n",
    "dict_04"
   ]
  },
  {
   "cell_type": "markdown",
   "metadata": {},
   "source": [
    "### 4.2.2 copy()与deepcopy()"
=======
    "# len()获取字典的长度（即key的个数）\n",
    "len(number)"
   ]
  },
  {
   "cell_type": "code",
   "execution_count": 17,
   "metadata": {},
   "outputs": [
    {
     "name": "stdout",
     "output_type": "stream",
     "text": [
      "123\n",
      "5678\n"
     ]
    }
   ],
   "source": [
    "# 通过key设置和获取字典中的值\n",
    "print(number['Steven'])\n",
    "number['Steven'] = 5678\n",
    "print(number['Steven'])"
   ]
  },
  {
   "cell_type": "code",
   "execution_count": 19,
   "metadata": {},
   "outputs": [
    {
     "name": "stdout",
     "output_type": "stream",
     "text": [
      "False\n",
      "True\n"
     ]
    }
   ],
   "source": [
    "# 字典使用 in 查找 key在不在字典中\n",
    "print('5678' in number)\n",
    "print('Steven' in number)"
   ]
  },
  {
   "cell_type": "code",
   "execution_count": 23,
   "metadata": {},
   "outputs": [],
   "source": [
    "# key必须是不可变类型\n",
    "test = {\n",
    "    #[1,2] : '123',\n",
    "    (1,2) : '213',\n",
    "    123 : '543'\n",
    "}"
>>>>>>> 5ec423b9897845c946f2b35798b096f963bdebb0
   ]
  },
  {
   "cell_type": "code",
   "execution_count": 6,
   "metadata": {},
   "outputs": [
    {
     "name": "stdin",
     "output_type": "stream",
     "text": [
      " 1+2*9\n"
     ]
    },
    {
     "data": {
      "text/plain": [
       "19"
      ]
     },
     "execution_count": 6,
     "metadata": {},
     "output_type": "execute_result"
    }
   ],
   "source": [
    "t1 = input()\n",
    "eval(t1)"
   ]
  },
  {
   "cell_type": "code",
   "execution_count": 10,
   "metadata": {},
   "outputs": [
    {
     "name": "stdin",
     "output_type": "stream",
     "text": [
      " print(\"123\")\n"
     ]
    },
    {
     "name": "stdout",
     "output_type": "stream",
     "text": [
      "123\n"
     ]
    }
   ],
   "source": [
    "t2 = input()\n",
    "exec(t2)"
   ]
  },
  {
   "cell_type": "code",
   "execution_count": null,
   "metadata": {},
   "outputs": [],
   "source": [
    "import time\n",
    "\n",
    "print(time.time)"
   ]
  },
  {
   "cell_type": "code",
   "execution_count": null,
   "metadata": {},
   "outputs": [],
   "source": [
    "print('123')"
   ]
  },
  {
   "cell_type": "code",
   "execution_count": null,
   "metadata": {},
   "outputs": [],
   "source": []
  },
  {
   "cell_type": "markdown",
   "metadata": {},
   "source": [
    "### 4.2.3 fromkeys()"
   ]
  },
  {
   "cell_type": "code",
   "execution_count": 10,
   "metadata": {},
   "outputs": [
    {
     "data": {
      "text/plain": [
       "{'name': None, 'age': None, 'gender': None}"
      ]
     },
     "execution_count": 10,
     "metadata": {},
     "output_type": "execute_result"
    }
   ],
   "source": [
    "{}.fromkeys(['name', 'age', 'gender'])"
   ]
  },
  {
   "cell_type": "markdown",
   "metadata": {},
   "source": [
    "### 4.2.4 get()"
   ]
  },
  {
   "cell_type": "code",
   "execution_count": 20,
   "metadata": {},
   "outputs": [
    {
     "data": {
      "text/plain": [
       "404"
      ]
     },
     "execution_count": 20,
     "metadata": {},
     "output_type": "execute_result"
    }
   ],
   "source": [
    "dict_05 = {\n",
    "    'name':'gates',\n",
    "    'age':'16'\n",
    "}\n",
    "\n",
    "# dict_05['gender']\n",
    "dict_05.get('gender', 404) # key不存在则会返回第二个参数"
   ]
  },
  {
   "cell_type": "markdown",
   "metadata": {},
   "source": [
    "### 4.2.5 items() keys()"
   ]
  },
  {
   "cell_type": "code",
   "execution_count": 26,
   "metadata": {},
   "outputs": [
    {
     "name": "stdout",
     "output_type": "stream",
     "text": [
      "key1 value1\n",
      "key2 value2\n",
      "key3 value3\n"
     ]
    },
    {
     "data": {
      "text/plain": [
       "dict_keys(['key1', 'key2', 'key3'])"
      ]
     },
     "execution_count": 26,
     "metadata": {},
     "output_type": "execute_result"
    }
   ],
   "source": [
    "dict_06 = {\n",
    "    'key1':'value1',\n",
    "    'key2':'value2',\n",
    "    'key3':'value3'    \n",
    "}\n",
    "\n",
    "items = dict_06.items()\n",
    "\n",
    "for key, value in items:\n",
    "    print(key, value)\n",
    "    \n",
    "dict_06.keys()"
   ]
  },
  {
   "cell_type": "markdown",
   "metadata": {},
   "source": [
    "### 4.2.6 pop() popitem()"
   ]
  },
  {
   "cell_type": "code",
   "execution_count": null,
   "metadata": {},
   "outputs": [],
   "source": [
    "# pop() \n",
    "\n",
    "dict_07"
   ]
  }
 ],
 "metadata": {
  "kernelspec": {
   "display_name": "Python 3",
   "language": "python",
   "name": "python3"
  },
  "language_info": {
   "codemirror_mode": {
    "name": "ipython",
    "version": 3
   },
   "file_extension": ".py",
   "mimetype": "text/x-python",
   "name": "python",
   "nbconvert_exporter": "python",
   "pygments_lexer": "ipython3",
   "version": "3.7.3"
  }
 },
 "nbformat": 4,
 "nbformat_minor": 2
}
