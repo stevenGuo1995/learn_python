{
 "cells": [
  {
   "cell_type": "markdown",
   "metadata": {},
   "source": [
    "# List\n",
    "**list** , 是Python中的基本数据结构之一"
   ]
  },
  {
   "cell_type": "code",
   "execution_count": 17,
   "metadata": {},
   "outputs": [
    {
     "name": "stdout",
     "output_type": "stream",
     "text": [
      "<class 'list'>\n",
      "<class 'list'>\n",
      "<class 'list'>\n"
     ]
    }
   ],
   "source": [
    "# 创建一个列表\n",
    "list_01 = []\n",
    "list_02 = [1, 2, 3]\n",
    "\n",
    "# 一个list中可以包含各种类型的数据，以逗号分隔\n",
    "list_03 = [1, 'hello', (), [], {}] \n",
    "print(type(list_01))\n",
    "print(type(list_02))\n",
    "print(type(list_03))"
   ]
  },
  {
   "cell_type": "code",
   "execution_count": 18,
   "metadata": {},
   "outputs": [
    {
     "name": "stdout",
     "output_type": "stream",
     "text": [
      "[1, 'hello', (), [], {}]\n",
      "hello\n",
      "['hello', ()]\n"
     ]
    }
   ],
   "source": [
    "# 访问列表元素: 通过索引来访问单个元素，可以切片，可以遍历\n",
    "\n",
    "# 访问整个list\n",
    "print(list_03)\n",
    "\n",
    "# 访问指定索引号元素\n",
    "print(list_03[1])\n",
    "\n",
    "# 切片访问\n",
    "print(list_03[1:3])"
   ]
  },
  {
   "cell_type": "code",
   "execution_count": 19,
   "metadata": {},
   "outputs": [
    {
     "name": "stdout",
     "output_type": "stream",
     "text": [
      "[1, 'hello', (), [], {}, 'Hi!']\n"
     ]
    }
   ],
   "source": [
    "# 添加list元素\n",
    "list_03.append('Hi!')\n",
    "print(list_03)"
   ]
  },
  {
   "cell_type": "code",
   "execution_count": 20,
   "metadata": {},
   "outputs": [
    {
     "name": "stdout",
     "output_type": "stream",
     "text": [
      "[1, 'hello', (), [], {}, 'Hi!']\n",
      "[1, 'hello', 'world', [], {}, 'Hi!']\n"
     ]
    }
   ],
   "source": [
    "# 更新lsit元素\n",
    "print(list_03)\n",
    "\n",
    "list_03[2] = 'world'\n",
    "\n",
    "print(list_03)"
   ]
  },
  {
   "cell_type": "code",
   "execution_count": 21,
   "metadata": {},
   "outputs": [
    {
     "name": "stdout",
     "output_type": "stream",
     "text": [
      "['hello', 'world', [], {}, 'Hi!']\n"
     ]
    }
   ],
   "source": [
    "# 删除list元素\n",
    "del list_03[0]\n",
    "print(list_03)"
   ]
  },
  {
   "cell_type": "code",
   "execution_count": 24,
   "metadata": {},
   "outputs": [
    {
     "name": "stdout",
     "output_type": "stream",
     "text": [
      "[1, 2, 3, '!', 4, 5, 6]\n"
     ]
    }
   ],
   "source": [
    "# 拼接list\n",
    "list_a = [1, 2, 3, '!']\n",
    "list_b = [4, 5, 6]\n",
    "print(list_a + list_b)"
   ]
  },
  {
   "cell_type": "code",
   "execution_count": 25,
   "metadata": {},
   "outputs": [
    {
     "name": "stdout",
     "output_type": "stream",
     "text": [
      "[1, 2, 3, '!', 1, 2, 3, '!', 1, 2, 3, '!', 1, 2, 3, '!']\n"
     ]
    }
   ],
   "source": [
    "# list的乘法\n",
    "print(4 * list_a)"
   ]
  },
  {
   "cell_type": "code",
   "execution_count": 29,
   "metadata": {},
   "outputs": [
    {
     "name": "stdout",
     "output_type": "stream",
     "text": [
      "1 2 3 ! "
     ]
    }
   ],
   "source": [
    "# 遍历list\n",
    "for i in list_a:\n",
    "    print(i, end=' ')"
   ]
  },
  {
   "cell_type": "code",
   "execution_count": 30,
   "metadata": {},
   "outputs": [
    {
     "name": "stdout",
     "output_type": "stream",
     "text": [
      "[16, 25, 36]\n"
     ]
    }
   ],
   "source": [
    "# 生成器\n",
    "print([i * i for i in list_b])"
   ]
  },
  {
   "cell_type": "code",
   "execution_count": 31,
   "metadata": {},
   "outputs": [
    {
     "data": {
      "text/plain": [
       "True"
      ]
     },
     "execution_count": 31,
     "metadata": {},
     "output_type": "execute_result"
    }
   ],
   "source": [
    "# 判断元素是否在list中\n",
    "\n",
    "3 in list_a"
   ]
  },
  {
   "cell_type": "markdown",
   "metadata": {},
   "source": [
    "## list函数及方法"
   ]
  },
  {
   "cell_type": "code",
   "execution_count": 37,
   "metadata": {},
   "outputs": [
    {
     "name": "stdout",
     "output_type": "stream",
     "text": [
      "此list的长度为： 4\n",
      "此list中的最大值为： 4\n",
      "此list中的最小值为： 1\n"
     ]
    }
   ],
   "source": [
    "# 可作用于list的函数\n",
    "list_a = [1, 2, 3, 4]\n",
    "print('此list的长度为：', len(list_a)) # 返回list长度\n",
    "print('此list中的最大值为：', max(list_a)) # 返回list中最大值\n",
    "print('此list中的最小值为：', min(list_a)) # 返回list中最小值"
   ]
  },
  {
   "cell_type": "code",
   "execution_count": 57,
   "metadata": {},
   "outputs": [
    {
     "name": "stdout",
     "output_type": "stream",
     "text": [
      "['h', 'e', 'l', 'l', '0', '!']\n",
      "1\n",
      "['h', 'e', 'l', 'l', '0', '!', 'w', 'o', 'r', 'l', 'd']\n",
      "2\n",
      "['h', 'insert', 'e', 'l', 'l', '0', '!', 'w', 'o', 'r', 'l', 'd']\n",
      "d h\n",
      "['insert', 'e', 'l', 'l', '0', '!', 'w', 'o', 'r', 'l']\n",
      "['insert', 'e', 'l', '0', '!', 'w', 'o', 'r', 'l']\n",
      "['l', 'r', 'o', 'w', '!', '0', 'l', 'e', 'insert']\n",
      "['l', 'r', 'o', 'w', '!', '0', 'l', 'e', 'insert']\n",
      "[]\n"
     ]
    }
   ],
   "source": [
    "# list的方法\n",
    "list_b = ['h', 'e', 'l', 'l', '0']\n",
    "\n",
    "# list.append() list末尾添加元素\n",
    "list_b.append('!')\n",
    "print(list_b)\n",
    "\n",
    "# list.count(obj) 统计某个元素出现的次数 \n",
    "print(list_b.count('h'))\n",
    "\n",
    "# list.extend(seq) 末尾添加序列\n",
    "list_b.extend(['w', 'o', 'r', 'l', 'd'])\n",
    "print(list_b)\n",
    "\n",
    "# list.index(obj) 返回某个元素第一次出现位置的索引\n",
    "print(list_b.index('l'))\n",
    "\n",
    "# list.insert(index, obj) 在指定位置插入元素\n",
    "list_b.insert(1,'insert')\n",
    "print(list_b)\n",
    "\n",
    "\n",
    "# list.pop(index=-1) 移除元素并返回它的值，默认移除最后一个\n",
    "print(list_b.pop(), list_b.pop(0))\n",
    "print(list_b)\n",
    "\n",
    "# list.remove(obj) 移除list中匹配的第一个元素\n",
    "list_b.remove('l')\n",
    "print(list_b)\n",
    "\n",
    "# list.reverse() 倒序排列\n",
    "list_b.reverse()\n",
    "print(list_b)\n",
    "\n",
    "# list.sort() 排序\n",
    "\n",
    "# list.copy() 复制列表 (会指向一个新的list，直接赋值会指向同一个list)\n",
    "list_copy = list_b.copy()\n",
    "print(list_copy)\n",
    "\n",
    "# list.clear() 清空列表\n",
    "list_b.clear()\n",
    "print(list_b)"
   ]
  },
  {
   "cell_type": "code",
   "execution_count": null,
   "metadata": {},
   "outputs": [],
   "source": []
  }
 ],
 "metadata": {
  "kernelspec": {
   "display_name": "Python 3",
   "language": "python",
   "name": "python3"
  },
  "language_info": {
   "codemirror_mode": {
    "name": "ipython",
    "version": 3
   },
   "file_extension": ".py",
   "mimetype": "text/x-python",
   "name": "python",
   "nbconvert_exporter": "python",
   "pygments_lexer": "ipython3",
   "version": "3.7.3"
  }
 },
 "nbformat": 4,
 "nbformat_minor": 2
}
