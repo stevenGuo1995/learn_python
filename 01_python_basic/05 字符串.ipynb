{
 "cells": [
  {
   "cell_type": "markdown",
   "metadata": {},
   "source": [
    "# 05 字符串\n",
    "    字符串也是一种序列类型，所以对于序列的操作，对字符串也能使用。\n",
    "## 5.1 基本操作"
   ]
  },
  {
   "cell_type": "code",
   "execution_count": 8,
   "metadata": {},
   "outputs": [
    {
     "name": "stdout",
     "output_type": "stream",
     "text": [
      "L o v e\n",
      "short\n",
      "Lf ssot  hoepto.\n",
      "True\n"
     ]
    }
   ],
   "source": [
    "s1 = \"Life is short, I choose python. \"\n",
    "\n",
    "\n",
    "# 通过索引号访问单个元素\n",
    "print(s1[0], s1[10], 'v', s1[22])\n",
    "\n",
    "# 通过切片截取子字符串\n",
    "print(s1[8:13])\n",
    "print(s1[::2]) # 设置截取步长为2\n",
    "\n",
    "print('python' in s1)\n",
    "\n",
    "# max(), len(), min() 等。。"
   ]
  },
  {
   "cell_type": "markdown",
   "metadata": {},
   "source": [
    "## 5.2 格式化字符串\n",
    "    静态部分 + 动态部分  \n",
    "### 5.2.1 使用 % 格式化字符串 "
   ]
  },
  {
   "cell_type": "code",
   "execution_count": 20,
   "metadata": {},
   "outputs": [
    {
     "name": "stdout",
     "output_type": "stream",
     "text": [
      "Nice to meet you, Steven! I'm Bill. \n",
      "圆周率的值为：3.141593, 保留 2 位小数后为：3.14\n",
      "1%\n"
     ]
    }
   ],
   "source": [
    "# %s: 字符串占位符\n",
    "static_str = \"Nice to meet you, %s! I'm %s. \"\n",
    "dynamic_value = (\"Steven\", \"Bill\")\n",
    "print(static_str % dynamic_value)\n",
    "\n",
    "# %f： 浮点数 %d：整数\n",
    "\"\"\"\n",
    "数字要指定位数的话，可以用%x.yf来表示，x表示小数点前的位数，y表示小数点后的位数，x与y均可省略。\n",
    "同时省略的话就直接写%f，默认保留小数点后六位\n",
    "\"\"\"\n",
    "from math import pi\n",
    "static_str = \"圆周率的值为：%f, 保留 %d 位小数后为：%.2f\"\n",
    "dynamic_value = (pi, 2, pi)\n",
    "print(static_str % dynamic_value)\n",
    "\n",
    "# 带有%x的字符串，要输出%的话，‘%%’ 用两个%表示\n",
    "print('%d%%'%1)"
   ]
  },
  {
   "cell_type": "markdown",
   "metadata": {},
   "source": [
    "### 5.2.2 用Template类格式化字符串\n",
    "    用 ${} 标记 "
   ]
  },
  {
   "cell_type": "code",
   "execution_count": 10,
   "metadata": {},
   "outputs": [
    {
     "name": "stdout",
     "output_type": "stream",
     "text": [
      "大家好我是Bill Gates，请记住我的名字Bill Gates!\n"
     ]
    }
   ],
   "source": [
    "from string import Template\n",
    "\n",
    "# 标记后面不是英文的时候，{}可以省略\n",
    "template_01 = Template(\"大家好我是${name}，请记住我的名字$name!\")\n",
    "print(template_01.substitute(name = 'Bill Gates'))"
   ]
  },
  {
   "cell_type": "code",
   "execution_count": 11,
   "metadata": {},
   "outputs": [
    {
     "name": "stdout",
     "output_type": "stream",
     "text": [
      "steven\n"
     ]
    }
   ],
   "source": [
    "template_02 = Template(\"$seven\")\n",
    "# print(template_02.substitute(s = 'st'))\n",
    "\n",
    "template_03 = Template(\"${s}even\")\n",
    "print(template_03.substitute(s = 'st'))"
   ]
  },
  {
   "cell_type": "markdown",
   "metadata": {},
   "source": [
    "### 5.2.3 用format格式化字符串\n",
    "    用{}标记：\"string{}\".format()"
   ]
  },
  {
   "cell_type": "code",
   "execution_count": 12,
   "metadata": {},
   "outputs": [
    {
     "name": "stdout",
     "output_type": "stream",
     "text": [
      "Today is Sunday, it's a cold day!\n"
     ]
    }
   ],
   "source": [
    "# 按顺序指定格式化参数\n",
    "\n",
    "s1 = \"Today is {}, it's a {} day!\"\n",
    "print(s1.format(\"Sunday\", \"cold\"))"
   ]
  },
  {
   "cell_type": "code",
   "execution_count": 15,
   "metadata": {},
   "outputs": [
    {
     "name": "stdout",
     "output_type": "stream",
     "text": [
      "Today is Sunday, the temperature is 30.\n"
     ]
    }
   ],
   "source": [
    "# 使用命名格式化参数, 不分先后顺序\n",
    "\n",
    "s2 = \"Today is {week}, the temperature is {degree}.\"\n",
    "\n",
    "print(s2.format(degree = 30, week = 'Sunday'))"
   ]
  },
  {
   "cell_type": "code",
   "execution_count": 17,
   "metadata": {},
   "outputs": [
    {
     "name": "stdout",
     "output_type": "stream",
     "text": [
      "Today is Sunday, Bob, how are you?\n"
     ]
    }
   ],
   "source": [
    "# 混合使用顺序格式化参数和命名格式化参数\n",
    "s3 = \"Today is {week}, {}, how are you?\"\n",
    "\n",
    "# format里面必须先写顺序命名的值\n",
    "print(s3.format('Bob', week = 'Sunday'))"
   ]
  },
  {
   "cell_type": "code",
   "execution_count": 18,
   "metadata": {},
   "outputs": [
    {
     "name": "stdout",
     "output_type": "stream",
     "text": [
      "0,1,0,2\n"
     ]
    }
   ],
   "source": [
    "# 使用序号格式化参数\n",
    "\n",
    "s4 = \"{0},{1},{0},{2}\"\n",
    "\n",
    "print(s4.format('0','1','2'))"
   ]
  },
  {
   "cell_type": "code",
   "execution_count": 21,
   "metadata": {},
   "outputs": [
    {
     "name": "stdout",
     "output_type": "stream",
     "text": [
      "this is second\n",
      "this module name is math, PI is 3.141592653589793\n"
     ]
    }
   ],
   "source": [
    "# 获取列表中的指定值\n",
    "\n",
    "l1 = ['first', 'second']\n",
    "\n",
    "s5 = \"this is {list[1]}\"\n",
    "print(s5.format(list = l1))\n",
    "\n",
    "import math\n",
    "\n",
    "s6 = \"this module name is {mod.__name__}, PI is {mod.pi}\"\n",
    "print(s6.format(mod = math))"
   ]
  },
  {
   "cell_type": "code",
   "execution_count": 30,
   "metadata": {},
   "outputs": [
    {
     "name": "stdout",
     "output_type": "stream",
     "text": [
      "原样输出：中国人\n",
      "调用repr函数：'中国人'\n",
      "输出Unicode码：'\\u4e2d\\u56fd\\u4eba'\n"
     ]
    }
   ],
   "source": [
    "# format的高端操作\n",
    "\n",
    "str1 = \"原样输出：{string!s}\\n\\\n",
    "调用repr函数：{string!r}\\n\\\n",
    "输出Unicode码：{string!a}\"\n",
    "print(str1.format(string = '中国人'))"
   ]
  },
  {
   "cell_type": "code",
   "execution_count": 31,
   "metadata": {},
   "outputs": [
    {
     "name": "stdout",
     "output_type": "stream",
     "text": [
      "整数：123  浮点数123.00\n"
     ]
    }
   ],
   "source": [
    "str2 = \"整数：{num}  浮点数{num:.2f}\"\n",
    "print(str2.format(num = 123))"
   ]
  },
  {
   "cell_type": "code",
   "execution_count": 32,
   "metadata": {},
   "outputs": [
    {
     "name": "stdout",
     "output_type": "stream",
     "text": [
      "十进制：128  二进制：10000000  八进制：200  十六进制：80\n"
     ]
    }
   ],
   "source": [
    "# 进制转换\n",
    "str3 = \"十进制：{num}  二进制：{num:b}  八进制：{num:o}  十六进制：{num:x}\"\n",
    "print(str3.format(num = 128))"
   ]
  },
  {
   "cell_type": "code",
   "execution_count": 36,
   "metadata": {},
   "outputs": [
    {
     "name": "stdout",
     "output_type": "stream",
     "text": [
      "科学计数法：1.001e+04\n"
     ]
    }
   ],
   "source": [
    "# 将整数按科学计数法输出\n",
    "str4 = \"科学计数法：{num:.3e}\"\n",
    "print(str4.format(num = 10010))"
   ]
  },
  {
   "cell_type": "code",
   "execution_count": 35,
   "metadata": {},
   "outputs": [
    {
     "name": "stdout",
     "output_type": "stream",
     "text": [
      "百分比：120.00%\n"
     ]
    }
   ],
   "source": [
    "# 将浮点数按百分比输出\n",
    "str5 = \"百分比：{num:.2%}\"\n",
    "print(str5.format(num = 1.2))"
   ]
  },
  {
   "cell_type": "markdown",
   "metadata": {},
   "source": [
    "### format总结\n",
    "a 将字符串按Unicode编码输出 \n",
    "b 将一个整数格式化为一个二进制数  \n",
    "c 将整数格式化为ASCII码  \n",
    "d 将整数格式化为十进制的数  \n",
    "e/E 科学计数法表示  \n",
    "f/F 格式化为浮点数  \n",
    "g/G   \n",
    "o 将整数格式化为八进制  \n",
    "s 按原样格式化字符串  \n",
    "x/X 将一个整数格式化为十六进制  \n",
    "% 将数值格式化为百分比形式  "
   ]
  },
  {
   "cell_type": "markdown",
   "metadata": {},
   "source": [
    "## 5.3 字符串方法\n",
    "### 5.3.1 center()"
   ]
  },
  {
   "cell_type": "code",
   "execution_count": 3,
   "metadata": {},
   "outputs": [
    {
     "name": "stdout",
     "output_type": "stream",
     "text": [
      "<            hello             >\n",
      "<            hello             >\n"
     ]
    }
   ],
   "source": [
    "# center 函数有两个参数，第一个表示两边的空位总数，第二个表示要填充的字符\n",
    "# 一个参数\n",
    "print(\"<\" + \"hello\".center(30) + \">\")\n",
    "\n",
    "# 对比format居中\n",
    "print(\"<{:^30}>\".format(\"hello\"))"
   ]
  },
  {
   "cell_type": "code",
   "execution_count": 7,
   "metadata": {},
   "outputs": [
    {
     "name": "stdout",
     "output_type": "stream",
     "text": [
      "<************hello*************>\n",
      "<************hello*************>\n"
     ]
    }
   ],
   "source": [
    "# 两个参数\n",
    "print(\"<\" + \"hello\".center(30, \"*\") + \">\") \n",
    "print(\"<{:*^30}>\".format(\"hello\"))"
   ]
  },
  {
   "cell_type": "markdown",
   "metadata": {},
   "source": [
    "### 5.3.2 find()\n",
    "    在大字符串中查找子串,返回字串起始位置索引"
   ]
  },
  {
   "cell_type": "code",
   "execution_count": 11,
   "metadata": {},
   "outputs": [
    {
     "name": "stdout",
     "output_type": "stream",
     "text": [
      "6\n",
      "-1\n",
      "-1\n",
      "9\n"
     ]
    }
   ],
   "source": [
    "s = \"hello world!\"\n",
    "\n",
    "print(s.find(\"world\"))\n",
    "# 没有结果会返回 -1\n",
    "print(s.find(\"abc\"))\n",
    "\n",
    "# 第二个参数表示查找的起始位置，第三个参数表示结束查找的位置\n",
    "print(s.find('l', 4, 8))\n",
    "print(s.find('l', 4, 10))"
   ]
  },
  {
   "cell_type": "markdown",
   "metadata": {},
   "source": [
    "### 5.3.3 join()\n",
    "    用于连接序列中的元素"
   ]
  },
  {
   "cell_type": "code",
   "execution_count": 15,
   "metadata": {},
   "outputs": [
    {
     "name": "stdout",
     "output_type": "stream",
     "text": [
      "hello\n",
      "h*e*l*l*o\n"
     ]
    }
   ],
   "source": [
    "l1 = ['h', 'e', 'l', 'l', 'o']\n",
    "\n",
    "print(''.join(l1))\n",
    "print('*'.join(l1))"
   ]
  },
  {
   "cell_type": "code",
   "execution_count": 23,
   "metadata": {},
   "outputs": [
    {
     "name": "stdout",
     "output_type": "stream",
     "text": [
      "/study/python/jupyter C:\\study\\python\\jupyter\n"
     ]
    }
   ],
   "source": [
    "# 不同系统的路径\n",
    "dirs = ('', 'study', 'python', 'jupyter')\n",
    "\n",
    "linux_path = '/'.join(dirs)\n",
    "win_path = 'C:' + '\\\\'.join(dirs)\n",
    "print(linux_path, win_path)"
   ]
  },
  {
   "cell_type": "markdown",
   "metadata": {},
   "source": [
    "### 5.3.4 split()\n"
   ]
  },
  {
   "cell_type": "code",
   "execution_count": 26,
   "metadata": {},
   "outputs": [
    {
     "name": "stdout",
     "output_type": "stream",
     "text": [
      "['hello', 'world'] ['he', '', 'o wor', 'd']\n"
     ]
    }
   ],
   "source": [
    "s1 = \"hello world\"\n",
    "print(s1.split(), s1.split('l'))"
   ]
  },
  {
   "cell_type": "code",
   "execution_count": 28,
   "metadata": {},
   "outputs": [
    {
     "name": "stdout",
     "output_type": "stream",
     "text": [
      "C:\\study\\python\\jupyter\n"
     ]
    }
   ],
   "source": [
    "linux_path = '/study/python/jupyter'\n",
    "dirs = linux_path.split('/')\n",
    "win_path = 'C:' + '\\\\'.join(dirs)\n",
    "print(win_path)"
   ]
  },
  {
   "cell_type": "markdown",
   "metadata": {},
   "source": [
    "### 5.3.5 字符串的大小写"
   ]
  },
  {
   "cell_type": "code",
   "execution_count": 31,
   "metadata": {},
   "outputs": [
    {
     "name": "stdout",
     "output_type": "stream",
     "text": [
      "HELLO, WORLD! hello, world!\n"
     ]
    }
   ],
   "source": [
    "s1 = 'Hello, world!'\n",
    "print(s1.upper(), s1.lower())"
   ]
  },
  {
   "cell_type": "code",
   "execution_count": 33,
   "metadata": {},
   "outputs": [
    {
     "name": "stdout",
     "output_type": "stream",
     "text": [
      "Hello, World!\n"
     ]
    }
   ],
   "source": [
    "from string import capwords # 每个单词的首字母大写\n",
    "print(capwords(s1))"
   ]
  },
  {
   "cell_type": "markdown",
   "metadata": {},
   "source": [
    "### 5.3.6 replace() strip()"
   ]
  },
  {
   "cell_type": "code",
   "execution_count": 35,
   "metadata": {},
   "outputs": [
    {
     "name": "stdout",
     "output_type": "stream",
     "text": [
      "hello\n"
     ]
    }
   ],
   "source": [
    "s1 = 'h*e*l*l*o'\n",
    "\n",
    "print(s1.replace('*', '')) # 第二个参数替换第一个参数"
   ]
  },
  {
   "cell_type": "code",
   "execution_count": 46,
   "metadata": {},
   "outputs": [
    {
     "name": "stdout",
     "output_type": "stream",
     "text": [
      "hello !\n"
     ]
    }
   ],
   "source": [
    "s2 = '   hello        '\n",
    "\n",
    "# strip() 默认去掉字符串前面和后面的空格\n",
    "print(s2.strip(), '!')"
   ]
  },
  {
   "cell_type": "code",
   "execution_count": 48,
   "metadata": {},
   "outputs": [
    {
     "name": "stdout",
     "output_type": "stream",
     "text": [
      "Hello,#@ World!\n"
     ]
    }
   ],
   "source": [
    "s3 = \"### @@@ Hello,#@ World! ##@##\"\n",
    "print(s3.strip(\"# @\")) # 括号里的参数表示或的关系"
   ]
  },
  {
   "cell_type": "markdown",
   "metadata": {},
   "source": [
    "### 5.3.7 translate()和maketrans()"
   ]
  },
  {
   "cell_type": "code",
   "execution_count": 55,
   "metadata": {},
   "outputs": [
    {
     "name": "stdout",
     "output_type": "stream",
     "text": [
      "{105: 49, 111: 48, 76: None}\n",
      "1fe 1s sh0rt, I use Pyth0n!\n"
     ]
    }
   ],
   "source": [
    "# translate() 替换单个字符\n",
    "\n",
    "s = \"Life is short, I use Python!\"\n",
    "table = s.maketrans('io','10', 'L') # 第三个参数表示要删除的内容\n",
    "print(table)\n",
    "print(s.translate(table))"
   ]
  },
  {
   "cell_type": "code",
   "execution_count": 25,
   "metadata": {},
   "outputs": [
    {
     "name": "stdout",
     "output_type": "stream",
     "text": [
      "import time\n",
      "\n",
      "print(time.time())\n"
     ]
    },
    {
     "data": {
      "text/plain": [
       "str"
      ]
     },
     "execution_count": 25,
     "metadata": {},
     "output_type": "execute_result"
    }
   ],
   "source": [
    "with open('../untitled.txt') as f:\n",
    "    \n",
    "    t = f.readlines()\n",
    "    print(''.join(t))\n",
    "type(str(t))"
   ]
  },
  {
   "cell_type": "code",
   "execution_count": 30,
   "metadata": {},
   "outputs": [
    {
     "name": "stdout",
     "output_type": "stream",
     "text": [
      "1/2/3/4\n"
     ]
    }
   ],
   "source": [
    "l2 = ['1','2','3','4']\n",
    "print('/'.join(l2))"
   ]
  },
  {
   "cell_type": "code",
   "execution_count": null,
   "metadata": {},
   "outputs": [],
   "source": []
  }
 ],
 "metadata": {
  "kernelspec": {
   "display_name": "Python 3",
   "language": "python",
   "name": "python3"
  },
  "language_info": {
   "codemirror_mode": {
    "name": "ipython",
    "version": 3
   },
   "file_extension": ".py",
   "mimetype": "text/x-python",
   "name": "python",
   "nbconvert_exporter": "python",
   "pygments_lexer": "ipython3",
   "version": "3.7.3"
  }
 },
 "nbformat": 4,
 "nbformat_minor": 2
}
