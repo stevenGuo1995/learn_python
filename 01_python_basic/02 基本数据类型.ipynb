{
 "cells": [
  {
   "cell_type": "markdown",
   "metadata": {},
   "source": [
    "# 整数类型\n",
    "可正可负，没有取值范围限制\n",
    "## 4种进制\n",
    "**十进制**， 0b/0B开头  \n",
    "**二进制**，0b/0B开头  \n",
    "**八进制**，0o/0O开头  \n",
    "**十六进制**，0x/0X开头  \n"
   ]
  },
  {
   "cell_type": "code",
   "execution_count": 16,
   "metadata": {},
   "outputs": [
    {
     "data": {
      "text/plain": [
       "'0x5'"
      ]
     },
     "execution_count": 16,
     "metadata": {},
     "output_type": "execute_result"
    }
   ],
   "source": [
    "# 十到二\n",
    "bin(123)\n",
    "\n",
    "# 十到八\n",
    "oct(123)\n",
    "\n",
    "# 十到十六\n",
    "hex(123)\n",
    "\n",
    "# 二到十\n",
    "int('1001', 2)\n",
    "\n",
    "# 八到十\n",
    "int('173', 8)\n",
    "\n",
    "# 十六到十\n",
    "int('7b', 16)\n"
   ]
  },
  {
   "cell_type": "markdown",
   "metadata": {},
   "source": [
    "# 浮点类型\n",
    "与数学中实数的概念一致  \n",
    "-带有小数点及小数的数字  \n",
    "-浮点数取值范围和小数精度都存在限制，但常规计算可忽略。  \n",
    "**浮点数间运算存在不确定尾数，不是bug**"
   ]
  },
  {
   "cell_type": "code",
   "execution_count": 5,
   "metadata": {},
   "outputs": [
    {
     "data": {
      "text/plain": [
       "0.30000000000000004"
      ]
     },
     "execution_count": 5,
     "metadata": {},
     "output_type": "execute_result"
    }
   ],
   "source": [
    "0.1+0.2"
   ]
  },
  {
   "cell_type": "markdown",
   "metadata": {},
   "source": [
    "二进制表示小数，可以无限接近，但不完全相同"
   ]
  },
  {
   "cell_type": "code",
   "execution_count": 6,
   "metadata": {},
   "outputs": [
    {
     "data": {
      "text/plain": [
       "False"
      ]
     },
     "execution_count": 6,
     "metadata": {},
     "output_type": "execute_result"
    }
   ],
   "source": [
    "0.1 + 0.2 == 0.3"
   ]
  },
  {
   "cell_type": "code",
   "execution_count": 14,
   "metadata": {},
   "outputs": [
    {
     "data": {
      "text/plain": [
       "6"
      ]
     },
     "execution_count": 14,
     "metadata": {},
     "output_type": "execute_result"
    }
   ],
   "source": [
    "round(5.5) # 四舍六入五成双"
   ]
  },
  {
   "cell_type": "markdown",
   "metadata": {},
   "source": [
    "# 复数类型\n",
    "与数学中复数的概念一致\n"
   ]
  },
  {
   "cell_type": "code",
   "execution_count": 21,
   "metadata": {},
   "outputs": [
    {
     "data": {
      "text/plain": [
       "(1.0, 2.0)"
      ]
     },
     "execution_count": 21,
     "metadata": {},
     "output_type": "execute_result"
    }
   ],
   "source": [
    "z = 1+2j\n",
    "z.real,z.imag # 获取实部 虚部"
   ]
  },
  {
   "cell_type": "code",
   "execution_count": 22,
   "metadata": {},
   "outputs": [
    {
     "data": {
      "text/plain": [
       "(3, 1)"
      ]
     },
     "execution_count": 22,
     "metadata": {},
     "output_type": "execute_result"
    }
   ],
   "source": [
    "divmod(10,3) # 商余函数 同时输出商和余数"
   ]
  },
  {
   "cell_type": "code",
   "execution_count": 1,
   "metadata": {},
   "outputs": [
    {
     "name": "stdout",
     "output_type": "stream",
     "text": [
      "587\n"
     ]
    }
   ],
   "source": [
    "print(pow(3,pow(3,99),1000))"
   ]
  },
  {
   "cell_type": "markdown",
   "metadata": {},
   "source": [
    "## 天天向上的力量\n",
    "工作日进步1%，周末退步1%"
   ]
  },
  {
   "cell_type": "code",
   "execution_count": 9,
   "metadata": {},
   "outputs": [
    {
     "data": {
      "text/plain": [
       "4.63"
      ]
     },
     "execution_count": 9,
     "metadata": {},
     "output_type": "execute_result"
    }
   ],
   "source": [
    "#DayDayUp01.py\n",
    "day_up = 1\n",
    "day_factor = 0.01\n",
    "for i in range(365):\n",
    "    if i % 7 in [6, 0]:\n",
    "        day_up = day_up * (1 - day_factor)\n",
    "    else:\n",
    "        day_up = day_up * (1 + day_factor)\n",
    "round(day_up ,2)"
   ]
  },
  {
   "cell_type": "code",
   "execution_count": 4,
   "metadata": {},
   "outputs": [
    {
     "data": {
      "text/plain": [
       "37.78343433288728"
      ]
     },
     "execution_count": 4,
     "metadata": {},
     "output_type": "execute_result"
    }
   ],
   "source": []
  },
  {
   "cell_type": "code",
   "execution_count": 21,
   "metadata": {},
   "outputs": [
    {
     "name": "stdout",
     "output_type": "stream",
     "text": [
      "工作日努力：0.010 可以进步 4.63\n",
      "工作日努力：0.011 可以进步 5.98\n",
      "工作日努力：0.012 可以进步 7.74\n",
      "工作日努力：0.013 可以进步 10.0\n",
      "工作日努力：0.014 可以进步 12.93\n",
      "工作日努力：0.015 可以进步 16.71\n",
      "工作日努力：0.016 可以进步 21.58\n",
      "工作日努力：0.017 可以进步 27.87\n",
      "工作日努力：0.018 可以进步 35.98\n",
      "工作日努力：0.019 可以进步 46.45\n"
     ]
    }
   ],
   "source": [
    "#DayDayUp02.py\n",
    "\n",
    "def day_up(day_factor):\n",
    "    day_up = 1\n",
    "    for i in range(365):\n",
    "        if i % 7 in [6, 0]:\n",
    "            day_up = day_up * (1 - 0.01)\n",
    "        else:\n",
    "            day_up = day_up * (1 + day_factor)\n",
    "    return round(day_up ,2)\n",
    "\n",
    "if __name__ == '__main__':\n",
    "    day_factor = 0.01\n",
    "    res = day_up(day_factor)\n",
    "    print('工作日努力：{:.3f}'.format(day_factor),'可以进步', res)\n",
    "    while res < 37.78:\n",
    "        \n",
    "        day_factor += 0.001\n",
    "        res = day_up(day_factor)\n",
    "        print('工作日努力：{:.3f}'.format(day_factor),'可以进步', res)"
   ]
  },
  {
   "cell_type": "code",
   "execution_count": 41,
   "metadata": {},
   "outputs": [
    {
     "name": "stdout",
     "output_type": "stream",
     "text": [
      "10010.0\n",
      "    10010.0\n",
      "10010.0-----\n",
      "-----10010.0\n",
      "--10010.0---\n",
      "10,010\n",
      "10,010.00\n",
      "1.00E+04\n"
     ]
    }
   ],
   "source": [
    "# 格式化数字\n",
    "x = 10010\n",
    "# 保留指定位数\n",
    "print(format(x,'.1f'))\n",
    "print(format(x,'11.1f'))\n",
    "\n",
    "# 添加空白位\n",
    "\n",
    "## < 在后面补位\n",
    "print(format(x,'-<12.1f'))\n",
    "\n",
    "## > 在前面补位\n",
    "print(format(x, '->12.1f'))\n",
    "\n",
    "## ^ 在两边补位\n",
    "print(format(x, '-^12.1f'))\n",
    "\n",
    "# 添加千分位逗号\n",
    "print(format(x, ','))\n",
    "print(format(x, ',.2f'))\n",
    "\n",
    "# 科学计数法\n",
    "print(format(x, '.2E'))"
   ]
  },
  {
   "cell_type": "code",
   "execution_count": null,
   "metadata": {},
   "outputs": [],
   "source": []
  }
 ],
 "metadata": {
  "kernelspec": {
   "display_name": "Python 3",
   "language": "python",
   "name": "python3"
  },
  "language_info": {
   "codemirror_mode": {
    "name": "ipython",
    "version": 3
   },
   "file_extension": ".py",
   "mimetype": "text/x-python",
   "name": "python",
   "nbconvert_exporter": "python",
   "pygments_lexer": "ipython3",
   "version": "3.7.3"
  }
 },
 "nbformat": 4,
 "nbformat_minor": 2
}
