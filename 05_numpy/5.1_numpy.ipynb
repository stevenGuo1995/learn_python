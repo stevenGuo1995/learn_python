{
 "cells": [
  {
   "cell_type": "markdown",
   "metadata": {},
   "source": [
    "# 04 numpy\n",
    "## 4.1 安装\n",
    "```bash\n",
    "$pip install numpy\n",
    "```\n",
    "## 4.2 数组对象（ndarray)"
   ]
  },
  {
   "cell_type": "code",
   "execution_count": 1,
   "metadata": {},
   "outputs": [],
   "source": [
    "# 导入numpy\n",
    "import numpy as np"
   ]
  },
  {
   "cell_type": "code",
   "execution_count": 18,
   "metadata": {},
   "outputs": [
    {
     "name": "stdout",
     "output_type": "stream",
     "text": [
      "[1 2 3]\n",
      "[0 1 2 3 4 5]\n",
      "[4 5 6]\n"
     ]
    }
   ],
   "source": [
    "# 一维数组\n",
    "one_d = np.array([1, 2, 3]) \n",
    "one_d2 = np.arange(6)\n",
    "one_d3 = np.array((4, 5, 6))\n",
    "print(one_d, one_d2, one_d3, sep='\\n')"
   ]
  },
  {
   "cell_type": "code",
   "execution_count": 10,
   "metadata": {},
   "outputs": [
    {
     "name": "stdout",
     "output_type": "stream",
     "text": [
      "[[1 2 3]\n",
      " [4 5 6]]\n",
      "[[[1 1 1]\n",
      "  [2 2 2]]\n",
      "\n",
      " [[1 1 1]\n",
      "  [2 2 2]]]\n"
     ]
    }
   ],
   "source": [
    "# 多维数组\n",
    "two_d = np.array([[1, 2, 3], [4, 5, 6]])\n",
    "print(two_d)\n",
    "\n",
    "three_d = np.array([[[1,1,1],[2,2,2]],[[1,1,1],[2,2,2]]])\n",
    "print(three_d)"
   ]
  },
  {
   "cell_type": "markdown",
   "metadata": {},
   "source": [
    "## 4.2 数组属性\n",
    "属性 | 含义\n",
    ":-: | :-:\n",
    "dtype| 元素类型\n",
    "size| 数组元素的总个数\n",
    "shape| 数组的形状，如：n行m列的矩阵就会返回（n, m)\n",
    "itemsize| 每个元素的大小\n",
    "ndim| 数组的维度\n",
    "nbytes| 数组中的所有数据消耗掉的字节数"
   ]
  },
  {
   "cell_type": "code",
   "execution_count": 24,
   "metadata": {},
   "outputs": [
    {
     "name": "stdout",
     "output_type": "stream",
     "text": [
      "<class 'numpy.ndarray'>\n",
      "dtype:\t int32\n",
      "size:\t 25\n",
      "shape:\t (5, 5)\n",
      "itemsize:\t 4\n",
      "ndim:\t 2\n",
      "nbytes:\t 100\n"
     ]
    }
   ],
   "source": [
    "# Array properties\n",
    "a = np.array([[11, 12, 13, 14, 15],\n",
    "              [16, 17, 18, 19, 20],\n",
    "              [21, 22, 23, 24, 25],\n",
    "              [26, 27, 28 ,29, 30],\n",
    "              [31, 32, 33, 34, 35]])\n",
    "\n",
    "print(type(a)) # >>><class 'numpy.ndarray'>\n",
    "print('dtype:\\t', a.dtype) \n",
    "print('size:\\t', a.size) \n",
    "print('shape:\\t', a.shape) \n",
    "print('itemsize:\\t', a.itemsize) \n",
    "print('ndim:\\t', a.ndim) \n",
    "print('nbytes:\\t', a.nbytes) "
   ]
  },
  {
   "cell_type": "code",
   "execution_count": 4,
   "metadata": {},
   "outputs": [
    {
     "name": "stdout",
     "output_type": "stream",
     "text": [
      "[[[1 2 3]]]\n"
     ]
    }
   ],
   "source": [
    "# 最小维度\n",
    "min_dimension = np.array([1,2,3], ndmin=3)\n",
    "print(min_dimension)"
   ]
  },
  {
   "cell_type": "code",
   "execution_count": 5,
   "metadata": {},
   "outputs": [
    {
     "name": "stdout",
     "output_type": "stream",
     "text": [
      "[1.+0.j 2.+0.j 3.+0.j]\n"
     ]
    }
   ],
   "source": [
    "# 数组元素的数据类型\n",
    "array_type = np.array([1,2,3], dtype=complex)\n",
    "print(array_type)"
   ]
  },
  {
   "cell_type": "code",
   "execution_count": 52,
   "metadata": {},
   "outputs": [
    {
     "name": "stdout",
     "output_type": "stream",
     "text": [
      "修改前\n",
      "[[1 2 3]\n",
      " [4 5 6]]\n",
      "修改后\n",
      "[[1 2]\n",
      " [3 4]\n",
      " [5 6]]\n",
      "[[1 2]\n",
      " [3 4]\n",
      " [5 6]]\n",
      "[[1 2 3]\n",
      " [4 5 6]]\n"
     ]
    }
   ],
   "source": [
    "# 改变数组大小\n",
    "x = np.array([[1, 2, 3],[4, 5, 6]])\n",
    "print('修改前', x, sep='\\n')\n",
    "x.shape = (3,2)\n",
    "print('修改后', x, sep='\\n')\n",
    "\n",
    "# 或者使用reshape() 函数\n",
    "a = np.array([[1,2,3],[4,5,6]]) \n",
    "b = a.reshape(3,2)  \n",
    "print(b)\n",
    "# reshape()会重新生成结果，不会影响原来的数组\n",
    "print(a)"
   ]
  },
  {
   "cell_type": "markdown",
   "metadata": {},
   "source": [
    "## 4.3 新建数组"
   ]
  },
  {
   "cell_type": "code",
   "execution_count": 30,
   "metadata": {},
   "outputs": [
    {
     "name": "stdout",
     "output_type": "stream",
     "text": [
      "[[0 1]\n",
      " [2 3]\n",
      " [4 5]]\n"
     ]
    }
   ],
   "source": [
    "x = np.empty([3,2], dtype = int) \n",
    "print(x)"
   ]
  },
  {
   "cell_type": "code",
   "execution_count": 31,
   "metadata": {},
   "outputs": [
    {
     "name": "stdout",
     "output_type": "stream",
     "text": [
      "[0. 0. 0. 0. 0.]\n",
      "[0 0 0 0 0]\n",
      "[[(0, 0) (0, 0)]\n",
      " [(0, 0) (0, 0)]]\n"
     ]
    }
   ],
   "source": [
    "# 默认为浮点数\n",
    "x = np.zeros(5) \n",
    "print(x)\n",
    " \n",
    "# 设置类型为整数\n",
    "y = np.zeros((5,), dtype = np.int) \n",
    "print(y)\n",
    " \n",
    "# 自定义类型\n",
    "z = np.zeros((2,2), dtype = [('x', 'i4'), ('y', 'i4')])  \n",
    "print(z)"
   ]
  },
  {
   "cell_type": "code",
   "execution_count": 34,
   "metadata": {},
   "outputs": [
    {
     "name": "stdout",
     "output_type": "stream",
     "text": [
      "[1. 1. 1. 1. 1.]\n",
      "[[1. 1. 1. 1. 1.]\n",
      " [1. 1. 1. 1. 1.]\n",
      " [1. 1. 1. 1. 1.]\n",
      " [1. 1. 1. 1. 1.]\n",
      " [1. 1. 1. 1. 1.]]\n",
      "[[1 1]\n",
      " [1 1]]\n"
     ]
    }
   ],
   "source": [
    "# 默认为浮点数\n",
    "x = np.ones(5) \n",
    "print(x)\n",
    "\n",
    "x = np.ones((5,5))\n",
    "print(x)\n",
    "\n",
    "# 自定义类型\n",
    "x = np.ones([2,2], dtype = int)\n",
    "print(x)"
   ]
  },
  {
   "cell_type": "code",
   "execution_count": 36,
   "metadata": {},
   "outputs": [
    {
     "name": "stdout",
     "output_type": "stream",
     "text": [
      "[[6 6]\n",
      " [6 6]]\n"
     ]
    }
   ],
   "source": [
    "x = np.full((2,2), 6)\n",
    "print(x)"
   ]
  },
  {
   "cell_type": "code",
   "execution_count": 37,
   "metadata": {},
   "outputs": [
    {
     "name": "stdout",
     "output_type": "stream",
     "text": [
      "[[1. 0. 0. 0. 0.]\n",
      " [0. 1. 0. 0. 0.]\n",
      " [0. 0. 1. 0. 0.]\n",
      " [0. 0. 0. 1. 0.]\n",
      " [0. 0. 0. 0. 1.]]\n"
     ]
    }
   ],
   "source": [
    "# 新建一个n行n列的对角线为1 的矩阵\n",
    "x = np.eye(5)\n",
    "print(x)"
   ]
  },
  {
   "cell_type": "code",
   "execution_count": 38,
   "metadata": {},
   "outputs": [
    {
     "name": "stdout",
     "output_type": "stream",
     "text": [
      "[[[0.10639703 0.64172491 0.52474239]\n",
      "  [0.96867856 0.07525236 0.70211413]\n",
      "  [0.27090539 0.9583324  0.15231759]\n",
      "  [0.07705065 0.73127792 0.03463946]]\n",
      "\n",
      " [[0.41069097 0.26980781 0.03144871]\n",
      "  [0.86281176 0.38722614 0.21468678]\n",
      "  [0.38549161 0.20245727 0.53254607]\n",
      "  [0.13309459 0.96445312 0.41392928]]\n",
      "\n",
      " [[0.53358954 0.19797112 0.99741946]\n",
      "  [0.71913043 0.60679427 0.22847322]\n",
      "  [0.20459656 0.3508732  0.21972064]\n",
      "  [0.55786914 0.06059451 0.81863818]]]\n"
     ]
    }
   ],
   "source": [
    "# 新建一个元素值为0-1的随机数组\n",
    "x = np.random.random((3,4,3))\n",
    "print(x)"
   ]
  },
  {
   "cell_type": "code",
   "execution_count": null,
   "metadata": {},
   "outputs": [],
   "source": []
  }
 ],
 "metadata": {
  "kernelspec": {
   "display_name": "Python 3",
   "language": "python",
   "name": "python3"
  },
  "language_info": {
   "codemirror_mode": {
    "name": "ipython",
    "version": 3
   },
   "file_extension": ".py",
   "mimetype": "text/x-python",
   "name": "python",
   "nbconvert_exporter": "python",
   "pygments_lexer": "ipython3",
   "version": "3.7.3"
  }
 },
 "nbformat": 4,
 "nbformat_minor": 2
}
