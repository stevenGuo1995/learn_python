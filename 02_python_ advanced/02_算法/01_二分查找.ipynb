{
 "cells": [
  {
   "cell_type": "markdown",
   "metadata": {},
   "source": [
    "# 二分查找"
   ]
  },
  {
   "cell_type": "code",
   "execution_count": 8,
   "metadata": {},
   "outputs": [
    {
     "name": "stdout",
     "output_type": "stream",
     "text": [
      "None\n",
      "2\n"
     ]
    }
   ],
   "source": [
    "# 二分查找 --- 对有序列表有效，时间复杂度为 log2N\n",
    "\n",
    "def binary_search(item_list, item):\n",
    "    low = 0\n",
    "    high = len(item_list) - 1\n",
    "    \n",
    "    while low <= high:\n",
    "        \n",
    "        mid = (low + high) // 2\n",
    "        guess = item_list[mid]\n",
    "        \n",
    "        if guess == item:\n",
    "            return mid\n",
    "        if guess > item:\n",
    "            high = mid - 1\n",
    "        else:\n",
    "            low = mid + 1\n",
    "        \n",
    "    return None\n",
    "\n",
    "if __name__ == \"__main__\":\n",
    "    my_list = [1,3,5,7,9]\n",
    "    print(binary_search(my_list, -1))\n",
    "    print(binary_search(my_list, 5))"
   ]
  },
  {
   "cell_type": "code",
   "execution_count": null,
   "metadata": {},
   "outputs": [],
   "source": []
  }
 ],
 "metadata": {
  "kernelspec": {
   "display_name": "Python 3",
   "language": "python",
   "name": "python3"
  },
  "language_info": {
   "codemirror_mode": {
    "name": "ipython",
    "version": 3
   },
   "file_extension": ".py",
   "mimetype": "text/x-python",
   "name": "python",
   "nbconvert_exporter": "python",
   "pygments_lexer": "ipython3",
   "version": "3.7.0"
  }
 },
 "nbformat": 4,
 "nbformat_minor": 2
}
