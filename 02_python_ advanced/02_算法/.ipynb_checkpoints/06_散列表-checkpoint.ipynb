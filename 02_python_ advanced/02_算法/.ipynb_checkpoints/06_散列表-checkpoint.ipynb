{
 "cells": [
  {
   "cell_type": "markdown",
   "metadata": {},
   "source": [
    "# 1. 散列函数\n",
    "将输入映射到数字的函数。"
   ]
  },
  {
   "cell_type": "markdown",
   "metadata": {},
   "source": [
    "# 2. 散列表\n",
    "散列函数+数组\n",
    "\n",
    "## python中内置dict()作为散列表"
   ]
  },
  {
   "cell_type": "markdown",
   "metadata": {},
   "source": [
    "# 3.好的散列表\n",
    "### 1) 较低的填装因子\n",
    "    填装因子 = 散列表包含的元素数/位置总数\n",
    "    \n",
    "    经验: 一旦填装因子大于0.7，就调整散列表的长度\n",
    "   \n",
    "### 2) 良好的散列函数\n",
    "    良好的散列函数让数组中的值呈均匀分布。"
   ]
  },
  {
   "cell_type": "code",
   "execution_count": null,
   "metadata": {},
   "outputs": [],
   "source": []
  }
 ],
 "metadata": {
  "kernelspec": {
   "display_name": "Python 3",
   "language": "python",
   "name": "python3"
  },
  "language_info": {
   "codemirror_mode": {
    "name": "ipython",
    "version": 3
   },
   "file_extension": ".py",
   "mimetype": "text/x-python",
   "name": "python",
   "nbconvert_exporter": "python",
   "pygments_lexer": "ipython3",
   "version": "3.7.0"
  }
 },
 "nbformat": 4,
 "nbformat_minor": 2
}
