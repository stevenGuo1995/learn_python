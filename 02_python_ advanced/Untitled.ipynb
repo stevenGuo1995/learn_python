{
 "cells": [
  {
   "cell_type": "code",
   "execution_count": 12,
   "metadata": {},
   "outputs": [
    {
     "name": "stdout",
     "output_type": "stream",
     "text": [
      "[<Element p at 0x1652caaf748>]\n"
     ]
    }
   ],
   "source": [
    "from lxml import etree\n",
    "\n",
    "test = etree.HTML('<div class=\"test1\">\\\n",
    "                    <p>\\\n",
    "                    test\\\n",
    "                    <div class=\"test2\">\\\n",
    "                    </div>\\\n",
    "                    </p>\\\n",
    "                  </div>')\n",
    "test = test.xpath('//div[@class=\"test1\"]')\n",
    "for i in test:\n",
    "    print(i.xpath('./p'))"
   ]
  },
  {
   "cell_type": "markdown",
   "metadata": {},
   "source": [
    "# Python 3 教程\n",
    "Python的3.0版本，常被称为Python 3000，或简称Py3k。相对于Python的早期版本，这是一个较大的升级。为了不带入过多的累赘，Python 3.0在设计的时候没有考虑向下兼容。\n",
    "Python 介绍及安装教程我们在\n",
    "你也可以点击\n",
    "本教程主要针对Python 3.x版本的学习，如果你使用的是Python 2.x版本请移步至\n",
    "None\n",
    "---\n",
    "## 查看python版本\n",
    "我们可以在命令窗口(Windows 使用 win+R 调出 cmd 运行框)使用以下命令查看我们使用的Python版本：\n",
    "```\n",
    "python -V\n",
    "```\n",
    "以上命令执行结果如下：\n",
    "```\n",
    "Python 3.3.2\n",
    "```\n",
    "你也可以进入Python的交互式编程模式，查看版本：\n",
    "```\n",
    "Python 3.3.2 (v3.3.2:d047928ae3f6, May 16 2013, 00:03:43) [MSC v.1600 32 bit (Intel)] on win32\n",
    "Type \"copyright\", \"credits\" or \"license()\" for more information.\n",
    ">>> \n",
    "```\n",
    "---\n",
    "## 第一个Python3.x程序\n",
    "对于大多数程序语言，第一个入门编程代码便是\"Hello World！\"，以下代码为使用Python输出\"Hello World！\"：\n",
    "```\n",
    "## 实例(Python 3.0+)\n",
    "#!/usr/bin/python3\n",
    " \n",
    "print(\"Hello, World!\")\n",
    "```\n",
    "你可以将以上代码保存在 hello.py 文件中并使用 python 命令执行该脚本文件。\n",
    "```\n",
    "$ python3 hello.py\n",
    "```\n",
    "以上命令输出结果为：\n",
    "```\n",
    "Hello, World!\n",
    "```\n",
    "---\n",
    "## 相关内容："
   ]
  },
  {
   "cell_type": "code",
   "execution_count": null,
   "metadata": {},
   "outputs": [],
   "source": []
  }
 ],
 "metadata": {
  "kernelspec": {
   "display_name": "Python 3",
   "language": "python",
   "name": "python3"
  },
  "language_info": {
   "codemirror_mode": {
    "name": "ipython",
    "version": 3
   },
   "file_extension": ".py",
   "mimetype": "text/x-python",
   "name": "python",
   "nbconvert_exporter": "python",
   "pygments_lexer": "ipython3",
   "version": "3.7.3"
  }
 },
 "nbformat": 4,
 "nbformat_minor": 2
}
