{
 "cells": [
  {
   "cell_type": "code",
   "execution_count": 48,
   "metadata": {},
   "outputs": [
    {
     "name": "stdout",
     "output_type": "stream",
     "text": [
      "运算符|描述|实例\n",
      ":-:|:-:|:-:\n",
      "+|加 - 两个对象相加| a + b 输出结果 31\n",
      "-|减 - 得到负数或是一个数减去另一个数| a - b 输出结果 -11\n",
      "*|乘 - 两个数相乘或是返回一个被重复若干次的字符串| a * b 输出结果 210\n",
      "/|除 - x 除以 y| b / a 输出结果 2.1\n",
      "%|取模 - 返回除法的余数| b % a 输出结果 1\n",
      "**|幂 - 返回x的y次幂| a**b 为10的21次方\n",
      "//|取整除 - 向下取接近除数的整数|111\n"
     ]
    }
   ],
   "source": [
    "from lxml import etree\n",
    "\n",
    "test = etree.HTML('''\n",
    "<tbody><tr>\n",
    "<th>运算符</th><th>描述</th><th>实例</th>\n",
    "</tr>\n",
    "<tr>\n",
    "<td>+</td><td>加 - 两个对象相加</td><td> a + b 输出结果 31</td>\n",
    "</tr>\n",
    "<tr>\n",
    "<td>-</td><td>减 - 得到负数或是一个数减去另一个数</td><td> a - b 输出结果 -11</td>\n",
    "</tr>\n",
    "<tr>\n",
    "<td>*</td><td>乘 - 两个数相乘或是返回一个被重复若干次的字符串</td><td> a * b 输出结果 210</td>\n",
    "</tr>\n",
    "<tr>\n",
    "<td>/</td><td>除 - x 除以 y</td><td> b / a 输出结果 2.1</td>\n",
    "</tr>\n",
    "<tr>\n",
    "<td>%</td><td>取模 - 返回除法的余数</td><td> b % a 输出结果 1</td>\n",
    "</tr>\n",
    "<tr>\n",
    "<td>**</td><td>幂 - 返回x的y次幂</td><td> a**b 为10的21次方</td>\n",
    "</tr>\n",
    "<tr>\n",
    "<td>//</td><td>取整除 - 向下取接近除数的整数</td><td> \n",
    "<pre>&gt;&gt;&gt; 9//2\n",
    "4\n",
    "&gt;&gt;&gt; -9//2\n",
    "-5</pre>\n",
    "</td>\n",
    "</tr>\n",
    "</tbody></table>\n",
    "\n",
    "''')\n",
    "test = test.xpath('.//tr')\n",
    "for index, tr in enumerate(test):\n",
    "    if index == 0:\n",
    "        th_list = [th.text for th in tr]\n",
    "        print('|'.join(th_list))\n",
    "        print('|'.join([':-:' for i in range(len(th_list))]))\n",
    "    else:\n",
    "        tr_list = []\n",
    "        for td in tr:\n",
    "            if td.xpath('*') == []:\n",
    "                tr_list.append(td.text)\n",
    "            else:\n",
    "                tr_list.append('111')\n",
    "        print('|'.join(tr_list))"
   ]
  },
  {
   "cell_type": "markdown",
   "metadata": {},
   "source": [
    "运算符|描述|实例\n",
    ":-:|:-:|:-:\n",
    "+|加 - 两个对象相加| a + b 输出结果 31\n",
    "-|减 - 得到负数或是一个数减去另一个数| a - b 输出结果 -11\n",
    "*|乘 - 两个数相乘或是返回一个被重复若干次的字符串| a * b 输出结果 210\n",
    "/|除 - x 除以 y| b / a 输出结果 2.1\n",
    "%|取模 - 返回除法的余数| b % a 输出结果 1\n",
    "**|幂 - 返回x的y次幂| a**b 为10的21次方\n",
    "//|取整除 - 向下取接近除数的整数|``````"
   ]
  },
  {
   "cell_type": "code",
   "execution_count": 67,
   "metadata": {},
   "outputs": [
    {
     "ename": "AttributeError",
     "evalue": "'list' object has no attribute 'tag'",
     "output_type": "error",
     "traceback": [
      "\u001b[1;31m---------------------------------------------------------------------------\u001b[0m",
      "\u001b[1;31mAttributeError\u001b[0m                            Traceback (most recent call last)",
      "\u001b[1;32m<ipython-input-67-aae217109b59>\u001b[0m in \u001b[0;36m<module>\u001b[1;34m\u001b[0m\n\u001b[0;32m     10\u001b[0m \u001b[0ms\u001b[0m \u001b[1;33m=\u001b[0m \u001b[0metree\u001b[0m\u001b[1;33m.\u001b[0m\u001b[0mHTML\u001b[0m\u001b[1;33m(\u001b[0m\u001b[0mhtml\u001b[0m\u001b[1;33m)\u001b[0m\u001b[1;33m.\u001b[0m\u001b[0mxpath\u001b[0m\u001b[1;33m(\u001b[0m\u001b[1;34m'//td'\u001b[0m\u001b[1;33m)\u001b[0m\u001b[1;33m\u001b[0m\u001b[1;33m\u001b[0m\u001b[0m\n\u001b[0;32m     11\u001b[0m \u001b[1;32mfor\u001b[0m \u001b[0mi\u001b[0m \u001b[1;32min\u001b[0m \u001b[0ms\u001b[0m\u001b[1;33m:\u001b[0m\u001b[1;33m\u001b[0m\u001b[1;33m\u001b[0m\u001b[0m\n\u001b[1;32m---> 12\u001b[1;33m     \u001b[0mprint\u001b[0m\u001b[1;33m(\u001b[0m\u001b[0mi\u001b[0m\u001b[1;33m.\u001b[0m\u001b[0mxpath\u001b[0m\u001b[1;33m(\u001b[0m\u001b[1;34m'pre'\u001b[0m\u001b[1;33m)\u001b[0m\u001b[1;33m.\u001b[0m\u001b[0mtag\u001b[0m\u001b[1;33m)\u001b[0m\u001b[1;33m\u001b[0m\u001b[1;33m\u001b[0m\u001b[0m\n\u001b[0m",
      "\u001b[1;31mAttributeError\u001b[0m: 'list' object has no attribute 'tag'"
     ]
    }
   ],
   "source": [
    "from lxml import etree\n",
    "\n",
    "html = '''<td> \n",
    "<pre>>>> 9//2\n",
    "4\n",
    ">>> -9//2\n",
    "-5</pre>\n",
    "</td>\n",
    "'''\n",
    "s = etree.HTML(html).xpath('//td')\n",
    "for i in s:\n",
    "    print(i.xpath('pre').tag)"
   ]
  },
  {
   "cell_type": "code",
   "execution_count": 60,
   "metadata": {},
   "outputs": [],
   "source": [
    "def html2md(div):\n",
    "    for i in div:\n",
    "        tag = i.tag\n",
    "        text = i.text\n",
    "        if tag == 'h1':\n",
    "            print('#', text)\n",
    "        elif tag == 'h2':\n",
    "            print('##', text)\n",
    "        elif tag =='p':\n",
    "            print(i.xpath('string(.)'))\n",
    "        elif tag == 'pre':\n",
    "            print(\"```\", text, \"```\", sep='')\n",
    "        elif tag == 'hr':\n",
    "            print('---')\n",
    "        elif tag == 'span':\n",
    "            print(text, end='')\n",
    "        elif tag == 'table':\n",
    "            trs = i.xpath('.//tr')\n",
    "            for index, tr in enumerate(trs):\n",
    "                if index == 0:\n",
    "                    th_list = [th.text for th in tr]\n",
    "                    print('|'.join(th_list))\n",
    "                    print('|'.join([':-:' for i in range(len(th_list))]))\n",
    "                else:\n",
    "                    tr_list = []\n",
    "                    for td in tr:\n",
    "                        if td.xpath('*') == []:\n",
    "                            tr_list.append(td.text)\n",
    "                        else:\n",
    "                            # tr_list.append(html2md(etree.HTML('<div>' + etree.tostring(i).decode('utf8') + \"</div>\")))\n",
    "                            print((html2md(etree.HTML('<div>' + etree.tostring(i).decode('utf8') + \"</div>\"))))\n",
    "                    print('|'.join(tr_list))\n",
    "        elif tag =='div':\n",
    "            if i.attrib['class'] == 'example':\n",
    "                print(\"```\")\n",
    "                html2md(i)\n",
    "                print('\\n', \"```\", sep='')\n",
    "            else:\n",
    "                html2md(i)"
   ]
  },
  {
   "cell_type": "code",
   "execution_count": null,
   "metadata": {},
   "outputs": [],
   "source": []
  }
 ],
 "metadata": {
  "kernelspec": {
   "display_name": "Python 3",
   "language": "python",
   "name": "python3"
  },
  "language_info": {
   "codemirror_mode": {
    "name": "ipython",
    "version": 3
   },
   "file_extension": ".py",
   "mimetype": "text/x-python",
   "name": "python",
   "nbconvert_exporter": "python",
   "pygments_lexer": "ipython3",
   "version": "3.7.3"
  }
 },
 "nbformat": 4,
 "nbformat_minor": 2
}
