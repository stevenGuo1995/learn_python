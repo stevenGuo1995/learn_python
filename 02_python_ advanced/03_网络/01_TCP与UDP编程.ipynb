{
 "cells": [
  {
   "cell_type": "markdown",
   "metadata": {},
   "source": [
    "# TCP与UDP\n",
    "\n",
    "* TCP：传输控制协议，面向连接，保证数据的可达性\n",
    "* UDP：数据报协议，无连接，不能保证数据一定可以达到 （简单、省资源）\n",
    "\n",
    "## 建立TCP服务端 (使用Socket）\n",
    "1. 创建Socket对象\n",
    "2. 绑定一个端口号\n",
    "3. 监听端口号\n",
    "4. 等待客户端Socket的连接\n",
    "\n",
    "5. 读取从客户端发过来的数据\n",
    "6. 向客户端发送数据\n",
    "7. 关闭客户端的Socket连接\n",
    "8. 关闭服务端的Socket连接"
   ]
  },
  {
   "cell_type": "code",
   "execution_count": 5,
   "metadata": {},
   "outputs": [
    {
     "name": "stdout",
     "output_type": "stream",
     "text": [
      "h\n"
     ]
    }
   ],
   "source": [
    "from socket import *\n",
    "\n",
    "host = ''\n",
    "buffer_size = 1024\n",
    "port = 9876\n",
    "addr = (host, port)\n",
    "\n",
    "# AF_INET: IPV4, AF_INET6:IPV6, SOCK_STREAM:TCP\n",
    "# 1.创建socket对象\n",
    "tcp_server_socket = socket(AF_INET, SOCK_STREAM)\n",
    "# 2.绑定端口号\n",
    "tcp_server_socket.bind(addr)\n",
    "# 3.监听端口号\n",
    "tcp_server_socket.listen()\n",
    "print('等待连接...')\n",
    "# 4.等待客户端Socket连接\n",
    "tcp_client_sockrt, addr = tcp_server_socket.accept() # 有连接之后才会继续执行\n",
    "print('已连接...',addr)\n",
    "\n",
    "# 5.读取客户端数据\n",
    "data = tcp_client_sockrt.recv(buffer_size)\n",
    "print(data.decode('utf-8'))\n",
    "\n",
    "# 6.向客户端发送数据\n",
    "tcp_client_sockrt.send('Hello, world!'.encode(encoding='utf-8'))\n",
    "\n",
    "# 7. 关闭客户端连接\n",
    "tcp_client_sockrt.close()\n",
    "# 8. 关闭服务端连接\n",
    "tcp_server_socket.close()"
   ]
  },
  {
   "cell_type": "markdown",
   "metadata": {},
   "source": [
    "# 可以使用telnet 或者 浏览器测试连接"
   ]
  },
  {
   "cell_type": "code",
   "execution_count": null,
   "metadata": {},
   "outputs": [],
   "source": []
  }
 ],
 "metadata": {
  "kernelspec": {
   "display_name": "Python 3",
   "language": "python",
   "name": "python3"
  },
  "language_info": {
   "codemirror_mode": {
    "name": "ipython",
    "version": 3
   },
   "file_extension": ".py",
   "mimetype": "text/x-python",
   "name": "python",
   "nbconvert_exporter": "python",
   "pygments_lexer": "ipython3",
   "version": "3.7.3"
  }
 },
 "nbformat": 4,
 "nbformat_minor": 2
}
