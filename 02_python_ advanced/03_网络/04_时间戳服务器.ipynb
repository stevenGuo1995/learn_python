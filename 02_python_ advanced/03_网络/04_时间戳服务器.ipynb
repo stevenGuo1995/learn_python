{
 "cells": [
  {
   "cell_type": "code",
   "execution_count": null,
   "metadata": {},
   "outputs": [],
   "source": [
    "from socket import *\n",
    "from time import ctime\n",
    "\n",
    "host = ''\n",
    "buffer_size = 1024\n",
    "\n",
    "port = 11111\n",
    "addr = (host, port)\n",
    "tcp_server = socket(AF_INET, SOCK_STREAM)\n",
    "\n",
    "tcp_server.bind(addr)\n",
    "tcp_server.listen()\n",
    "\n",
    "while True:\n",
    "    print('等待连接')\n",
    "    tcp_cilent, addr = tcp_server.accept()\n",
    "    print('连接成功，from', addr)"
   ]
  }
 ],
 "metadata": {
  "kernelspec": {
   "display_name": "Python 3",
   "language": "python",
   "name": "python3"
  },
  "language_info": {
   "codemirror_mode": {
    "name": "ipython",
    "version": 3
   },
   "file_extension": ".py",
   "mimetype": "text/x-python",
   "name": "python",
   "nbconvert_exporter": "python",
   "pygments_lexer": "ipython3",
   "version": "3.7.3"
  }
 },
 "nbformat": 4,
 "nbformat_minor": 2
}
