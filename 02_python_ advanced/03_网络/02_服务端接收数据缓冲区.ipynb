{
 "cells": [
  {
   "cell_type": "markdown",
   "metadata": {},
   "source": [
    "# 添加缓冲区\n",
    "如果客户端发送给服务器的数据过多，需要分多次读取，每次最多读取缓冲区尺寸的数据（buffer_zise）"
   ]
  },
  {
   "cell_type": "code",
   "execution_count": 4,
   "metadata": {},
   "outputs": [
    {
     "name": "stdout",
     "output_type": "stream",
     "text": [
      "等待连接...\n",
      "已连接，from： ('127.0.0.1', 5672)\n",
      "hello,world\n"
     ]
    }
   ],
   "source": [
    "from socket import *\n",
    "\n",
    "host = ''\n",
    "buffer_size = 2 # 为了测试，所以设置的很小\n",
    "port = 9876\n",
    "addr = (host, port)\n",
    "\n",
    "# AF_INET: IPV4, AF_INET6:IPV6, SOCK_STREAM:TCP\n",
    "# 1.创建socket对象\n",
    "tcp_server_socket = socket(AF_INET, SOCK_STREAM)\n",
    "# 2.绑定端口号\n",
    "tcp_server_socket.bind(addr)\n",
    "# 3.监听端口号\n",
    "tcp_server_socket.listen()\n",
    "print('等待连接...')\n",
    "# 4.等待客户端Socket连接\n",
    "tcp_client_sockrt, addr = tcp_server_socket.accept() # 有连接之后才会继续执行\n",
    "print('已连接，from：',addr)\n",
    "\n",
    "# 5.读取客户端数据\n",
    "full_data_bytes = b''\n",
    "while True:\n",
    "    # 每次最多读取两个字节数据\n",
    "    data = tcp_client_sockrt.recv(buffer_size)\n",
    "    full_data_bytes += data\n",
    "    if len(data) < buffer_size:\n",
    "        break\n",
    "        \n",
    "print(full_data_bytes.decode('utf-8'))\n",
    "\n",
    "# 6.向客户端发送数据\n",
    "tcp_client_sockrt.send('Hello, world!'.encode(encoding='utf-8'))\n",
    "\n",
    "# 7. 关闭客户端连接\n",
    "tcp_client_sockrt.close()\n",
    "# 8. 关闭服务端连接\n",
    "tcp_server_socket.close()"
   ]
  },
  {
   "cell_type": "code",
   "execution_count": null,
   "metadata": {},
   "outputs": [],
   "source": []
  }
 ],
 "metadata": {
  "kernelspec": {
   "display_name": "Python 3",
   "language": "python",
   "name": "python3"
  },
  "language_info": {
   "codemirror_mode": {
    "name": "ipython",
    "version": 3
   },
   "file_extension": ".py",
   "mimetype": "text/x-python",
   "name": "python",
   "nbconvert_exporter": "python",
   "pygments_lexer": "ipython3",
   "version": "3.7.3"
  }
 },
 "nbformat": 4,
 "nbformat_minor": 2
}
