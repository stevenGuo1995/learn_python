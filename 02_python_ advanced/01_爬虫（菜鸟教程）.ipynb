{
 "cells": [
  {
   "cell_type": "code",
   "execution_count": 2,
   "metadata": {},
   "outputs": [],
   "source": [
    "from lxml import etree\n",
    "import requests "
   ]
  },
  {
   "cell_type": "code",
   "execution_count": 3,
   "metadata": {},
   "outputs": [],
   "source": [
    "# 这个爬虫比较简单，网站没有设置任何反爬机制\n",
    "response = requests.get('https://www.runoob.com/python3/python3-basic-operators.html')\n",
    "content = response.content\n",
    "html = etree.HTML(content)\n",
    "left_column = html.xpath('//div[@id=\"leftcolumn\"]/a/@href')\n",
    "left_title = html.xpath('//div[@id=\"leftcolumn\"]/a/@title')"
   ]
  },
  {
   "cell_type": "code",
   "execution_count": 36,
   "metadata": {},
   "outputs": [],
   "source": [
    "url_list = []\n",
    "for i in left_column:\n",
    "    if i[0] == '/':\n",
    "        url_list.append(i)\n",
    "    else:\n",
    "        i = '/' + i\n",
    "        url_list.append(i)"
   ]
  },
  {
   "cell_type": "code",
   "execution_count": 87,
   "metadata": {},
   "outputs": [],
   "source": [
    "def html2md(div,filename):\n",
    "    for i in div:\n",
    "        tag = i.tag\n",
    "        text = i.text\n",
    "        if tag == 'h1':\n",
    "            with open(filename,'a', encoding='utf-8') as f:\n",
    "                print('#', text, file=f)\n",
    "        elif tag == 'h2':\n",
    "            with open(filename,'a', encoding='utf-8') as f:\n",
    "                print('##', text, file=f)\n",
    "        elif tag =='p':\n",
    "            with open(filename,'a', encoding='utf-8') as f:\n",
    "                print(str(i.xpath('string(.)')), file=f)\n",
    "        elif tag == 'pre':\n",
    "            if 'id' in i.attrib:\n",
    "                return\n",
    "            with open(filename,'a', encoding='utf-8') as f:\n",
    "                print(\"```\", text, \"```\", sep='\\n', file=f)\n",
    "        elif tag == 'hr':\n",
    "            with open(filename,'a', encoding='utf-8') as f:\n",
    "                print('---', file=f)\n",
    "        elif tag == 'span':\n",
    "            with open(filename,'a', encoding='utf-8') as f:\n",
    "                print(text, end='', file=f)\n",
    "        elif tag == 'table':\n",
    "            trs = i.xpath('.//tr')\n",
    "            for index, tr in enumerate(trs):\n",
    "                if index == 0:\n",
    "                    th_list = [th.text for th in tr]\n",
    "                    if None in th_list:\n",
    "                        return\n",
    "                    with open(filename,'a', encoding='utf-8') as f:\n",
    "                        print('|'.join(th_list), file=f)\n",
    "                        print('|'.join([':-:' for i in range(len(th_list))]), file=f)\n",
    "                else:\n",
    "                    tr_list = []\n",
    "                    \n",
    "                    for td in tr:\n",
    "                        if td.xpath('*') == []:\n",
    "                            tr_list.append(td.text)\n",
    "                        else:\n",
    "                            pre = td.xpath('pre')\n",
    "                            tr_list.append('代码块')\n",
    "                    if None in tr_list:\n",
    "                        return\n",
    "                    with open(filename,'a', encoding='utf-8') as f:\n",
    "                        print('|'.join(tr_list), file=f)\n",
    "        elif tag =='div':\n",
    "            if 'class' in i.attrib and i.attrib['class'] == 'example':\n",
    "                with open(filename,'a', encoding='utf-8') as f:\n",
    "                    print(\"```\", file=f)\n",
    "                html2md(i, filename)\n",
    "                with open(filename,'a', encoding='utf-8') as f:\n",
    "                    print('', file=f)\n",
    "                    print(\"```\", sep='', file=f)\n",
    "            else:\n",
    "                html2md(i, filename)\n",
    "        # else:\n",
    "          # print('++++++++++',tag,'+++++++++++++')"
   ]
  },
  {
   "cell_type": "code",
   "execution_count": null,
   "metadata": {},
   "outputs": [],
   "source": []
  },
  {
   "cell_type": "code",
   "execution_count": 88,
   "metadata": {},
   "outputs": [
    {
     "name": "stdout",
     "output_type": "stream",
     "text": [
      "0 Python3 教程\n",
      "1  Python3 环境搭建\n",
      "2  Python3 基础语法\n",
      "3  Python3 基本数据类型\n",
      "4 Python3 解释器\n",
      "5 Python3 注释\n",
      "6 Python3 运算符\n",
      "7 Python3 数字(Number)\n",
      "8 Python3 字符串\n",
      "9 Python3 列表\n",
      "10 Python3 元组\n",
      "11 Python3 字典\n",
      "12 Python3 集合\n",
      "13 Python3 编程第一步\n",
      "14 Python3 条件控制\n",
      "15 Python3 循环语句\n",
      "16 Python3 迭代器与生成器\n",
      "17 Python3 函数\n",
      "18 Python3 数据结构\n",
      "19 Python3 模块\n",
      "20 Python3 输入和输出\n",
      "21 Python3 File\n",
      "22 Python3 OS\n",
      "23 Python3 错误和异常\n",
      "24 Python3 面向对象\n",
      "25 Python3 标准库概览\n",
      "26 Python3 实例\n",
      "27 Python 测验\n",
      "28 Python3 正则表达式\n",
      "29 Python3 CGI编程\n",
      "30 Python MySQL - mysql-connector 驱动\n",
      "31 Python3 MySQL 数据库连接 – PyMySQL 驱动\n",
      "32 Python3 网络编程\n",
      "33 Python3 SMTP发送邮件\n",
      "34 Python3 多线程\n",
      "35 Python3 XML 解析\n",
      "36 Python3 JSON 数据解析\n",
      "37 Python3 日期和时间\n",
      "38 Python3 内置函数\n",
      "39 Python MongoDB\n",
      "40 Python uWSGI  安装配置\n"
     ]
    }
   ],
   "source": [
    "for index, url in enumerate(url_list):\n",
    "    if '/python3/' not in url:\n",
    "        url = '/python3' + url\n",
    "    url = 'https://www.runoob.com' + str(url)\n",
    "    response = requests.get(url)\n",
    "    content = response.content\n",
    "    html = etree.HTML(content)\n",
    "    article = html.xpath('//div[@class=\"article-intro\"]')\n",
    "    print(index, left_title[index])\n",
    "    for i in article:\n",
    "        html2md(i, r'菜鸟教程/{} {}.md'.format(index, left_title[index]))"
   ]
  },
  {
   "cell_type": "code",
   "execution_count": 38,
   "metadata": {},
   "outputs": [
    {
     "name": "stdout",
     "output_type": "stream",
     "text": [
      "Python3 教程 /python3/python3-tutorial.html\n",
      " Python3 环境搭建 /python3-install.html\n",
      " Python3 基础语法 /python3-basic-syntax.html\n",
      " Python3 基本数据类型 /python3-data-type.html\n",
      "Python3 解释器 /python3/python3-interpreter.html\n",
      "Python3 注释 /python3/python3-comment.html\n",
      "Python3 运算符 /python3-basic-operators.html\n",
      "Python3 数字(Number) /python3/python3-number.html\n",
      "Python3 字符串 /python3/python3-string.html\n",
      "Python3 列表 /python3/python3-list.html\n",
      "Python3 元组 /python3-tuple.html\n",
      "Python3 字典 /python3-dictionary.html\n",
      "Python3 集合 /python3-set.html\n",
      "Python3 编程第一步 /python3/python3-step1.html\n",
      "Python3 条件控制 /python3/python3-conditional-statements.html\n",
      "Python3 循环语句 /python3/python3-loop.html\n",
      "Python3 迭代器与生成器 /python3-iterator-generator.html\n",
      "Python3 函数 /python3/python3-function.html\n",
      "Python3 数据结构 /python3/python3-data-structure.html\n",
      "Python3 模块 /python3/python3-module.html\n",
      "Python3 输入和输出 /python3/python3-inputoutput.html\n",
      "Python3 File /python3-file-methods.html\n",
      "Python3 OS /python3-os-file-methods.html\n",
      "Python3 错误和异常 /python3/python3-errors-execptions.html\n",
      "Python3 面向对象 /python3/python3-class.html\n",
      "Python3 标准库概览 /python3/python3-stdlib.html\n",
      "Python3 实例 /python3/python3-examples.html\n",
      "Python 测验 /quiz/python-quiz.html\n",
      "Python3 正则表达式 /python3/python3-reg-expressions.html\n",
      "Python3 CGI编程 /python3/python3-cgi-programming.html\n",
      "Python MySQL - mysql-connector 驱动 /python-mysql-connector.html\n",
      "Python3 MySQL 数据库连接 – PyMySQL 驱动 /python3/python3-mysql.html\n",
      "Python3 网络编程 /python3/python3-socket.html\n",
      "Python3 SMTP发送邮件 /python3/python3-smtp.html\n",
      "Python3 多线程 /python3/python3-multithreading.html\n",
      "Python3 XML 解析 /python3/python3-xml-processing.html\n",
      "Python3 JSON 数据解析 /python3/python3-json.html\n",
      "Python3 日期和时间 /python3/python3-date-time.html\n",
      "Python3 内置函数 /python3/python3-built-in-functions.html\n",
      "Python MongoDB /python3/python-mongodb.html\n",
      "Python uWSGI  安装配置 /python3/python-uwsgi.html\n"
     ]
    }
   ],
   "source": [
    "for index, url in enumerate(url_list):\n",
    "    print(left_title[index], url)\n"
   ]
  },
  {
   "cell_type": "code",
   "execution_count": 80,
   "metadata": {},
   "outputs": [
    {
     "data": {
      "text/plain": [
       "41"
      ]
     },
     "execution_count": 80,
     "metadata": {},
     "output_type": "execute_result"
    }
   ],
   "source": [
    "len(url_list)"
   ]
  },
  {
   "cell_type": "code",
   "execution_count": null,
   "metadata": {},
   "outputs": [],
   "source": []
  }
 ],
 "metadata": {
  "kernelspec": {
   "display_name": "Python 3",
   "language": "python",
   "name": "python3"
  },
  "language_info": {
   "codemirror_mode": {
    "name": "ipython",
    "version": 3
   },
   "file_extension": ".py",
   "mimetype": "text/x-python",
   "name": "python",
   "nbconvert_exporter": "python",
   "pygments_lexer": "ipython3",
   "version": "3.7.3"
  }
 },
 "nbformat": 4,
 "nbformat_minor": 2
}
