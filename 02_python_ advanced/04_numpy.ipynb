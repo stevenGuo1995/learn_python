{
 "cells": [
  {
   "cell_type": "markdown",
   "metadata": {},
   "source": [
    "# 04 numpy\n",
    "## 4.1 安装\n",
    "```bash\n",
    "$pip install numpy\n",
    "```\n",
    "## 4.2 数组对象（ndarray)"
   ]
  },
  {
   "cell_type": "code",
   "execution_count": 3,
   "metadata": {},
   "outputs": [],
   "source": [
    "# 导入numpy\n",
    "import numpy as np"
   ]
  },
  {
   "cell_type": "code",
   "execution_count": 22,
   "metadata": {},
   "outputs": [
    {
     "name": "stdout",
     "output_type": "stream",
     "text": [
      "[1 2 3] [0 1 2 3 4 5]\n"
     ]
    }
   ],
   "source": [
    "# 一维数组\n",
    "one_d = np.array([1, 2, 3]) \n",
    "one_d2 = np.arange(6)\n",
    "print(one_d, one_d2)"
   ]
  },
  {
   "cell_type": "code",
   "execution_count": 18,
   "metadata": {},
   "outputs": [
    {
     "name": "stdout",
     "output_type": "stream",
     "text": [
      "[[1 2 3]\n",
      " [4 5 6]]\n",
      "[[[1 1 1]\n",
      "  [2 2 2]]\n",
      "\n",
      " [[1 1 1]\n",
      "  [2 2 2]]]\n"
     ]
    }
   ],
   "source": [
    "# 多维数组\n",
    "two_d = np.array([[1, 2, 3], [4, 5, 6]])\n",
    "print(two_d)\n",
    "\n",
    "three_d = np.array([[[1,1,1],[2,2,2]],[[1,1,1],[2,2,2]]])\n",
    "print(three_d)"
   ]
  },
  {
   "cell_type": "code",
   "execution_count": 19,
   "metadata": {},
   "outputs": [
    {
     "name": "stdout",
     "output_type": "stream",
     "text": [
      "[[[1 2 3]]]\n"
     ]
    }
   ],
   "source": [
    "# 最小维度\n",
    "min_dimension = np.array([1,2,3], ndmin=3)\n",
    "print(min_dimension)"
   ]
  },
  {
   "cell_type": "code",
   "execution_count": 20,
   "metadata": {},
   "outputs": [
    {
     "name": "stdout",
     "output_type": "stream",
     "text": [
      "[1.+0.j 2.+0.j 3.+0.j]\n"
     ]
    }
   ],
   "source": [
    "# 数组元素的数据类型\n",
    "array_type = np.array([1,2,3], dtype=complex)\n",
    "print(array_type)"
   ]
  },
  {
   "cell_type": "code",
   "execution_count": null,
   "metadata": {},
   "outputs": [],
   "source": []
  }
 ],
 "metadata": {
  "kernelspec": {
   "display_name": "Python 3",
   "language": "python",
   "name": "python3"
  },
  "language_info": {
   "codemirror_mode": {
    "name": "ipython",
    "version": 3
   },
   "file_extension": ".py",
   "mimetype": "text/x-python",
   "name": "python",
   "nbconvert_exporter": "python",
   "pygments_lexer": "ipython3",
   "version": "3.7.3"
  }
 },
 "nbformat": 4,
 "nbformat_minor": 2
}
