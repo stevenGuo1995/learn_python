{
 "cells": [
  {
   "cell_type": "code",
   "execution_count": 1,
   "metadata": {},
   "outputs": [],
   "source": [
    "from random import randrange\n",
    "from time import time,ctime,sleep\n",
    "from threading import Lock, Thread\n",
    "from queue import Queue"
   ]
  },
  {
   "cell_type": "code",
   "execution_count": 3,
   "metadata": {},
   "outputs": [],
   "source": [
    "lock = Lock()\n",
    "class MyThread(Thread):\n",
    "    def __init__(slef, func, args):\n",
    "        super().__init__(target=func, args=args)\n",
    "\n",
    "# 向队列中添加商品\n",
    "def write_q(queue):\n",
    "    lock.acquire()\n",
    "    print('生产了一个对象，并将其添加到队列中', end=' ')\n",
    "    queue.put('商品')\n",
    "    print('队列尺寸', queue.qsize())\n",
    "    lock.release()\n",
    "\n",
    "# 从队列中获取商品\n",
    "def read_q(queue):\n",
    "    lock.acquire()\n",
    "    val = queue.get(1)\n",
    "    print('消费了一个对象，队列尺寸:', queue.qsize())\n",
    "    lock.release()\n",
    "\n",
    "# 生成若干个生产者\n",
    "def writer(queue, loops):\n",
    "    for i in range(loops):\n",
    "        write_q(queue)\n",
    "        sleep(randrange(1, 4))\n",
    "        \n",
    "# 生成若干个消费者\n",
    "def reader(queue, loops):\n",
    "    for i in range(loops):\n",
    "        read_q(queue)\n",
    "        sleep(randrange(2, 6))\n",
    "        \n",
    "funcs = [writer, reader]\n",
    "nfuncs = range(len(funcs))"
   ]
  },
  {
   "cell_type": "code",
   "execution_count": 5,
   "metadata": {},
   "outputs": [
    {
     "name": "stdout",
     "output_type": "stream",
     "text": [
      "生产了一个对象，并将其添加到队列中 队列尺寸 1\n",
      "消费了一个对象，队列尺寸: 0\n",
      "生产了一个对象，并将其添加到队列中 队列尺寸 1\n",
      "生产了一个对象，并将其添加到队列中 队列尺寸 2\n",
      "消费了一个对象，队列尺寸: 1\n",
      "生产了一个对象，并将其添加到队列中 队列尺寸 2\n",
      "消费了一个对象，队列尺寸: 1\n",
      "生产了一个对象，并将其添加到队列中 队列尺寸 2\n",
      "消费了一个对象，队列尺寸: 1\n",
      "消费了一个对象，队列尺寸: 0\n"
     ]
    }
   ],
   "source": [
    "nloops = randrange(2, 6)\n",
    "q = Queue(32)\n",
    "threads = []\n",
    "for i in nfuncs:\n",
    "    t = MyThread(funcs[i], (q, nloops))\n",
    "    threads.append(t)\n",
    "for i in nfuncs:\n",
    "    threads[i].start()\n",
    "for i in nfuncs:\n",
    "    threads[i].join()"
   ]
  },
  {
   "cell_type": "code",
   "execution_count": null,
   "metadata": {},
   "outputs": [],
   "source": []
  }
 ],
 "metadata": {
  "kernelspec": {
   "display_name": "Python 3",
   "language": "python",
   "name": "python3"
  },
  "language_info": {
   "codemirror_mode": {
    "name": "ipython",
    "version": 3
   },
   "file_extension": ".py",
   "mimetype": "text/x-python",
   "name": "python",
   "nbconvert_exporter": "python",
   "pygments_lexer": "ipython3",
   "version": "3.7.3"
  }
 },
 "nbformat": 4,
 "nbformat_minor": 4
}
