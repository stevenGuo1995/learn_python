{
 "cells": [
  {
   "cell_type": "markdown",
   "metadata": {},
   "source": [
    "## 01-线程锁"
   ]
  },
  {
   "cell_type": "code",
   "execution_count": 2,
   "metadata": {},
   "outputs": [],
   "source": [
    "import random\n",
    "from threading import Thread, Lock, currentThread\n",
    "from time import sleep, ctime\n",
    "\n",
    "# 创建线程对象\n",
    "\n",
    "lock = Lock()\n",
    "\n",
    "def fun():\n",
    "    # 获取线程锁权限\n",
    "    lock.acquire()\n",
    "    \n",
    "    # 将for循环变成原子操作\n",
    "    for i in range(5):\n",
    "        print(currentThread().name)\n",
    "        sleep(random.randint(1, 5))\n",
    "    lock.release()"
   ]
  },
  {
   "cell_type": "code",
   "execution_count": 4,
   "metadata": {},
   "outputs": [
    {
     "name": "stdout",
     "output_type": "stream",
     "text": [
      "Thread-9\n",
      "Thread-9\n",
      "Thread-9\n",
      "Thread-9\n",
      "Thread-9\n",
      "Thread-10\n",
      "Thread-10\n",
      "Thread-10\n",
      "Thread-10\n",
      "Thread-10\n",
      "Thread-11\n",
      "Thread-11\n",
      "Thread-11\n"
     ]
    }
   ],
   "source": [
    "for i in range(3):\n",
    "    Thread(target=fun).start()"
   ]
  },
  {
   "cell_type": "markdown",
   "metadata": {},
   "source": [
    "## 02-信号量\n",
    "信号量是一个计数器，\n",
    "消耗资源：P（acquire）\n",
    "释放资源：V（release）"
   ]
  },
  {
   "cell_type": "code",
   "execution_count": 1,
   "metadata": {},
   "outputs": [
    {
     "name": "stdout",
     "output_type": "stream",
     "text": [
      "3\n",
      "2\n"
     ]
    }
   ],
   "source": [
    "from threading import BoundedSemaphore\n",
    "# 设置最大资源\n",
    "MAX = 3\n",
    "semaphore = BoundedSemaphore(MAX)\n",
    "print(semaphore._value)\n",
    "\n",
    "# 消耗资源(计数器减1)\n",
    "semaphore.acquire()\n",
    "print(semaphore._value)\n",
    "\n"
   ]
  },
  {
   "cell_type": "code",
   "execution_count": 2,
   "metadata": {},
   "outputs": [
    {
     "name": "stdout",
     "output_type": "stream",
     "text": [
      "1\n"
     ]
    }
   ],
   "source": [
    "semaphore.acquire()\n",
    "print(semaphore._value)"
   ]
  },
  {
   "cell_type": "code",
   "execution_count": 3,
   "metadata": {},
   "outputs": [
    {
     "name": "stdout",
     "output_type": "stream",
     "text": [
      "0\n"
     ]
    }
   ],
   "source": [
    "semaphore.acquire()\n",
    "print(semaphore._value)"
   ]
  },
  {
   "cell_type": "code",
   "execution_count": 4,
   "metadata": {},
   "outputs": [
    {
     "name": "stdout",
     "output_type": "stream",
     "text": [
      "1\n"
     ]
    }
   ],
   "source": [
    "semaphore.release()\n",
    "print(semaphore._value)"
   ]
  },
  {
   "cell_type": "code",
   "execution_count": null,
   "metadata": {},
   "outputs": [],
   "source": []
  }
 ],
 "metadata": {
  "kernelspec": {
   "display_name": "Python 3",
   "language": "python",
   "name": "python3"
  },
  "language_info": {
   "codemirror_mode": {
    "name": "ipython",
    "version": 3
   },
   "file_extension": ".py",
   "mimetype": "text/x-python",
   "name": "python",
   "nbconvert_exporter": "python",
   "pygments_lexer": "ipython3",
   "version": "3.7.3"
  }
 },
 "nbformat": 4,
 "nbformat_minor": 4
}
