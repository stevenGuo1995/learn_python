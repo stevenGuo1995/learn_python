{
 "cells": [
  {
   "cell_type": "code",
   "execution_count": 10,
   "metadata": {},
   "outputs": [],
   "source": [
    "import threading\n",
    "from time import sleep, ctime"
   ]
  },
  {
   "cell_type": "code",
   "execution_count": 14,
   "metadata": {},
   "outputs": [],
   "source": [
    "def fun(index, sec):\n",
    "    print('start', index, 'time', ctime())\n",
    "    sleep(sec)\n",
    "    print('end', index, 'time', ctime())"
   ]
  },
  {
   "cell_type": "code",
   "execution_count": 15,
   "metadata": {},
   "outputs": [
    {
     "name": "stdout",
     "output_type": "stream",
     "text": [
      "start 10 time Thu Jul 25 16:44:55 2019\n",
      "start 20 time Thu Jul 25 16:44:55 2019\n",
      "end 20 time Thu Jul 25 16:44:57 2019\n",
      "end 10 time Thu Jul 25 16:44:59 2019\n",
      "程序结束\n"
     ]
    }
   ],
   "source": [
    "thread1 = threading.Thread(target=fun,args=(10, 4))\n",
    "thread1.start()\n",
    "\n",
    "thread2 = threading.Thread(target=fun,args=(20, 2))\n",
    "thread2.start()\n",
    "\n",
    "# 线程未结束就会阻塞 \n",
    "thread1.join()\n",
    "thread2.join()\n",
    "\n",
    "print('程序结束')"
   ]
  },
  {
   "cell_type": "markdown",
   "metadata": {},
   "source": [
    "# 线程类"
   ]
  },
  {
   "cell_type": "code",
   "execution_count": 17,
   "metadata": {},
   "outputs": [],
   "source": [
    "class MyThread(threading.Thread):\n",
    "    def __init__(self, func, args, name=''):\n",
    "        super().__init__(target=func, name=name, args=args)\n",
    "        \n",
    "    def run(self):\n",
    "        self._target(*self._args)"
   ]
  },
  {
   "cell_type": "code",
   "execution_count": 19,
   "metadata": {},
   "outputs": [
    {
     "name": "stdout",
     "output_type": "stream",
     "text": [
      "开始时间 Thu Jul 25 16:47:02 2019\n",
      "start 10 time Thu Jul 25 16:47:02 2019\n",
      "start 20 time Thu Jul 25 16:47:02 2019\n",
      "end 20 time Thu Jul 25 16:47:04 2019\n",
      "end 10 time Thu Jul 25 16:47:06 2019\n",
      "结束时间 Thu Jul 25 16:47:06 2019\n"
     ]
    }
   ],
   "source": [
    "print('开始时间', ctime())\n",
    "\n",
    "thread1 = MyThread(fun, (10, 4), '线程1')\n",
    "thread1.start()\n",
    "\n",
    "thread2 = MyThread(fun, (20, 2), '线程2')\n",
    "thread2.start()\n",
    "\n",
    "thread1.join()\n",
    "thread2.join()\n",
    "\n",
    "print('结束时间', ctime())"
   ]
  },
  {
   "cell_type": "code",
   "execution_count": null,
   "metadata": {},
   "outputs": [],
   "source": []
  }
 ],
 "metadata": {
  "kernelspec": {
   "display_name": "Python 3",
   "language": "python",
   "name": "python3"
  },
  "language_info": {
   "codemirror_mode": {
    "name": "ipython",
    "version": 3
   },
   "file_extension": ".py",
   "mimetype": "text/x-python",
   "name": "python",
   "nbconvert_exporter": "python",
   "pygments_lexer": "ipython3",
   "version": "3.7.3"
  }
 },
 "nbformat": 4,
 "nbformat_minor": 2
}
