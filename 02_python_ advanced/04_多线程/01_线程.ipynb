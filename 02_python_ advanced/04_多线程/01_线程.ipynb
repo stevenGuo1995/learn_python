{
 "cells": [
  {
   "cell_type": "markdown",
   "metadata": {},
   "source": [
    "# 多线程\n",
    " 1.线程\n",
    " 2. 高级线程模块\n",
    " 3. 线程同步\n",
    " 4. 生产者-消费者问题与queue模块\n",
    "\n",
    "\n",
    "进程：静态和动态，静态（exe、dll），进程是动态执行的程序  \n",
    "线程：线程依赖于进程，一个进程可以拥有多个线程，一个进程必须至少有一个\n",
    "主线程。"
   ]
  },
  {
   "cell_type": "code",
   "execution_count": 1,
   "metadata": {},
   "outputs": [
    {
     "name": "stdout",
     "output_type": "stream",
     "text": [
      "开始运行时间： Thu Jul 25 15:56:07 2019\n",
      "开始运行fun1： Thu Jul 25 15:56:07 2019\n",
      "fun1运行结束： Thu Jul 25 15:56:11 2019\n",
      "开始运行fun2： Thu Jul 25 15:56:11 2019\n",
      "fun2运行结束： Thu Jul 25 15:56:13 2019\n",
      "结束运行时间： Thu Jul 25 15:56:13 2019\n"
     ]
    }
   ],
   "source": [
    "# 不使用线程\n",
    "from time import sleep,ctime\n",
    "def fun1():\n",
    "    print('开始运行fun1：',ctime())\n",
    "    sleep(4)\n",
    "    print('fun1运行结束：',ctime())\n",
    "def fun2():\n",
    "    print('开始运行fun2：',ctime())\n",
    "    sleep(2)\n",
    "    print('fun2运行结束：',ctime())\n",
    "def main():\n",
    "    print('开始运行时间：', ctime())\n",
    "    fun1()\n",
    "    fun2()\n",
    "    print('结束运行时间：',ctime())\n",
    "main()"
   ]
  },
  {
   "cell_type": "code",
   "execution_count": 4,
   "metadata": {},
   "outputs": [
    {
     "name": "stdout",
     "output_type": "stream",
     "text": [
      "开始运行时间： Thu Jul 25 15:59:49 2019\n",
      "开始运行fun1： Thu Jul 25 15:59:49 2019\n",
      "开始运行fun2： Thu Jul 25 15:59:49 2019\n",
      "fun2运行结束： Thu Jul 25 15:59:51 2019\n",
      "fun1运行结束： Thu Jul 25 15:59:53 2019\n",
      "结束运行时间： Thu Jul 25 15:59:55 2019\n"
     ]
    }
   ],
   "source": [
    "# 使用线程\n",
    "import _thread as thread\n",
    "\n",
    "def fun1():\n",
    "    print('开始运行fun1：',ctime())\n",
    "    sleep(4)\n",
    "    print('fun1运行结束：',ctime())\n",
    "def fun2():\n",
    "    print('开始运行fun2：',ctime())\n",
    "    sleep(2)\n",
    "    print('fun2运行结束：',ctime())\n",
    "    \n",
    "def main():\n",
    "    print('开始运行时间：', ctime())\n",
    "    thread.start_new_thread(fun1, ())\n",
    "    thread.start_new_thread(fun2, ())\n",
    "    sleep(6)\n",
    "    print('结束运行时间：',ctime())\n",
    "main()"
   ]
  },
  {
   "cell_type": "markdown",
   "metadata": {},
   "source": [
    "## 2 为线程传参数"
   ]
  },
  {
   "cell_type": "code",
   "execution_count": null,
   "metadata": {},
   "outputs": [],
   "source": [
    "import _thread as thread\n",
    "from time import sleep\n",
    "import random\n",
    "\n",
    "def fun(a, b):\n",
    "    print(str(a) + str(b))\n",
    "    sleep(random.randint(1, 5))\n",
    "    \n",
    "for i in range(1, 8):\n",
    "    thread.start_new_thread(fun,(i, i*'*'))"
   ]
  },
  {
   "cell_type": "markdown",
   "metadata": {},
   "source": [
    "## 3 线程锁"
   ]
  },
  {
   "cell_type": "code",
   "execution_count": 9,
   "metadata": {},
   "outputs": [
    {
     "name": "stdout",
     "output_type": "stream",
     "text": [
      "not release!!!startstart 10 time <built-in function ctime>\n",
      " 20 time <built-in function ctime>\n",
      "\n",
      "over 20 time <built-in function ctime>\n",
      "not release!!!\n",
      "over 10 time <built-in function ctime>\n"
     ]
    }
   ],
   "source": [
    "import _thread as thread \n",
    "from time import sleep, ctime\n",
    "\n",
    "def fun(index, sec, lock):\n",
    "    print('start', index, 'time', ctime)\n",
    "    sleep(sec)\n",
    "    print('over', index, 'time', ctime)\n",
    "    lock.release()\n",
    "    \n",
    "lock1 = thread.allocate_lock()\n",
    "lock1.acquire() # 上锁\n",
    "thread.start_new_thread(fun, (10, 4, lock1))\n",
    "\n",
    "lock2 = thread.allocate_lock()\n",
    "lock2.acquire() # 上锁\n",
    "thread.start_new_thread(fun, (20, 2, lock2))\n",
    "\n",
    "while lock1.locked() or lock2.locked():\n",
    "    print('not release!!!')\n",
    "    sleep(3)"
   ]
  },
  {
   "cell_type": "code",
   "execution_count": null,
   "metadata": {},
   "outputs": [],
   "source": []
  }
 ],
 "metadata": {
  "kernelspec": {
   "display_name": "Python 3",
   "language": "python",
   "name": "python3"
  },
  "language_info": {
   "codemirror_mode": {
    "name": "ipython",
    "version": 3
   },
   "file_extension": ".py",
   "mimetype": "text/x-python",
   "name": "python",
   "nbconvert_exporter": "python",
   "pygments_lexer": "ipython3",
   "version": "3.7.3"
  }
 },
 "nbformat": 4,
 "nbformat_minor": 2
}
