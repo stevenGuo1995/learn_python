{
 "cells": [
  {
   "cell_type": "markdown",
   "metadata": {},
   "source": [
    "# 测试\n",
    "1. 测试的基础知识\n",
    "2. 测试工具（doctest，unittest）\n",
    "3. 检查代码（PyLint，Flake8）\n",
    "4. 性能分析（profile）"
   ]
  },
  {
   "cell_type": "code",
   "execution_count": null,
   "metadata": {},
   "outputs": [],
   "source": [
    "测试驱动开发：  \n",
    "1. 确定要达到的预期，然后为这个预期编写测试代码\n",
    "2. 编写骨架代码\n",
    "3. 编写业务逻辑代码\n",
    "4. 修改或重构代码"
   ]
  }
 ],
 "metadata": {
  "kernelspec": {
   "display_name": "Python 3",
   "language": "python",
   "name": "python3"
  },
  "language_info": {
   "codemirror_mode": {
    "name": "ipython",
    "version": 3
   },
   "file_extension": ".py",
   "mimetype": "text/x-python",
   "name": "python",
   "nbconvert_exporter": "python",
   "pygments_lexer": "ipython3",
   "version": "3.7.3"
  }
 },
 "nbformat": 4,
 "nbformat_minor": 2
}
