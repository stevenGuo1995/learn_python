{
 "cells": [
  {
   "cell_type": "code",
   "execution_count": 1,
   "metadata": {},
   "outputs": [],
   "source": [
    "from lxml import etree\n",
    "import requests "
   ]
  },
  {
   "cell_type": "code",
   "execution_count": 38,
   "metadata": {},
   "outputs": [],
   "source": [
    "response = requests.get('https://www.runoob.com/python3/python3-tutorial.html')\n",
    "content = response.content\n",
    "html = etree.HTML(content)\n",
    "left_column = html.xpath('//div[@id=\"leftcolumn\"]/a/@href')\n",
    "text = html.xpath('//div[@id=\"leftcolumn\"]/a/text()')"
   ]
  },
  {
   "cell_type": "code",
   "execution_count": 42,
   "metadata": {},
   "outputs": [],
   "source": [
    "url_list = []\n",
    "for i in left_column:\n",
    "    if i[0] == '/':\n",
    "        url_list.append(i)\n",
    "    else:\n",
    "        i = '/' + i\n",
    "        url_list.append(i)"
   ]
  },
  {
   "cell_type": "code",
   "execution_count": 64,
   "metadata": {},
   "outputs": [
    {
     "name": "stdout",
     "output_type": "stream",
     "text": [
      "# Python 3 教程\n",
      "<Element img at 0x278e11f8408>\n",
      "<Element p at 0x278e1726308>\n",
      "<Element p at 0x278e17261c8>\n",
      "<Element p at 0x278e11f8408>\n",
      "<Element p at 0x278e1726308>\n",
      "<Element p at 0x278e1726108>\n",
      "---\n",
      "## 查看python版本\n",
      "我们可以在命令窗口(Windows 使用 win+R 调出 cmd 运行框)使用以下命令查看我们使用的Python版本：\n",
      "```\n",
      "\n",
      "python -V\n",
      "\n",
      "```\n",
      "以上命令执行结果如下：\n",
      "```\n",
      "\n",
      "Python 3.3.2\n",
      "\n",
      "```\n",
      "你也可以进入Python的交互式编程模式，查看版本：\n",
      "```\n",
      "\n",
      "Python 3.3.2 (v3.3.2:d047928ae3f6, May 16 2013, 00:03:43) [MSC v.1600 32 bit (Intel)] on win32\n",
      "Type \"copyright\", \"credits\" or \"license()\" for more information.\n",
      ">>> \n",
      "\n",
      "```\n",
      "---\n",
      "## 第一个Python3.x程序\n",
      "对于大多数程序语言，第一个入门编程代码便是\"Hello World！\"，以下代码为使用Python输出\"Hello World！\"：\n",
      "<Element h2 at 0x278e11f8408>\n",
      "<Element div at 0x278e17261c8>\n",
      "<Element br at 0x278e1726108>\n",
      "<Element a at 0x278e11f8408>\n",
      "你可以将以上代码保存在 hello.py 文件中并使用 python 命令执行该脚本文件。\n",
      "```\n",
      "\n",
      "$ python3 hello.py\n",
      "\n",
      "```\n",
      "以上命令输出结果为：\n",
      "```\n",
      "\n",
      "Hello, World!\n",
      "\n",
      "```\n",
      "---\n",
      "## 相关内容：\n",
      " \n"
     ]
    }
   ],
   "source": [
    "url = 'https://www.runoob.com/python3/python3-tutorial.html'\n",
    "response = requests.get('https://www.runoob.com/python3/python3-tutorial.html')\n",
    "content = response.content\n",
    "html = etree.HTML(content)\n",
    "article = html.xpath('//div[@class=\"article-intro\"]')\n",
    "\n",
    "for i in article:\n",
    "    for j in i:\n",
    "        tag = j.tag\n",
    "        text = j.text\n",
    "        if tag == 'h1':\n",
    "            print('#', text)\n",
    "        elif tag == 'h2':\n",
    "            print('##', text)\n",
    "        elif tag =='p':\n",
    "            print(text)\n",
    "        elif tag == 'pre':\n",
    "            print(\"```\", text, \"```\", sep='\\n')\n",
    "        elif tag == 'hr':\n",
    "            print('---')\n",
    "        elif tag =='div':\n",
    "            for i in j:\n",
    "                print(i)"
   ]
  },
  {
   "cell_type": "markdown",
   "metadata": {},
   "source": [
    "# Python 3 教程\n",
    "---\n",
    "## 查看python版本\n",
    "我们可以在命令窗口(Windows 使用 win+R 调出 cmd 运行框)使用以下命令查看我们使用的Python版本：\n",
    "```\n",
    "\n",
    "python -V\n",
    "\n",
    "```\n",
    "以上命令执行结果如下：\n",
    "```\n",
    "\n",
    "Python 3.3.2\n",
    "\n",
    "```\n",
    "你也可以进入Python的交互式编程模式，查看版本：\n",
    "```\n",
    "\n",
    "Python 3.3.2 (v3.3.2:d047928ae3f6, May 16 2013, 00:03:43) [MSC v.1600 32 bit (Intel)] on win32\n",
    "Type \"copyright\", \"credits\" or \"license()\" for more information.\n",
    ">>> \n",
    "\n",
    "```\n",
    "---\n",
    "## 第一个Python3.x程序\n",
    "对于大多数程序语言，第一个入门编程代码便是\"Hello World！\"，以下代码为使用Python输出\"Hello World！\"：\n",
    "你可以将以上代码保存在 hello.py 文件中并使用 python 命令执行该脚本文件。\n",
    "```\n",
    "\n",
    "$ python3 hello.py\n",
    "\n",
    "```\n",
    "以上命令输出结果为：\n",
    "```\n",
    "\n",
    "Hello, World!\n",
    "\n",
    "```\n",
    "---\n",
    "## 相关内容："
   ]
  },
  {
   "cell_type": "markdown",
   "metadata": {},
   "source": []
  },
  {
   "cell_type": "code",
   "execution_count": null,
   "metadata": {},
   "outputs": [],
   "source": []
  }
 ],
 "metadata": {
  "kernelspec": {
   "display_name": "Python 3",
   "language": "python",
   "name": "python3"
  },
  "language_info": {
   "codemirror_mode": {
    "name": "ipython",
    "version": 3
   },
   "file_extension": ".py",
   "mimetype": "text/x-python",
   "name": "python",
   "nbconvert_exporter": "python",
   "pygments_lexer": "ipython3",
   "version": "3.7.3"
  }
 },
 "nbformat": 4,
 "nbformat_minor": 2
}
