{
 "cells": [
  {
   "cell_type": "markdown",
   "metadata": {},
   "source": [
    "# 20. 有效的括号\n",
    "\n",
    "给定一个只包括 '('，')'，'{'，'}'，'['，']' 的字符串，判断字符串是否有效。\n",
    "\n",
    "有效字符串需满足：\n",
    "\n",
    "1. 左括号必须用相同类型的右括号闭合。\n",
    "2. 左括号必须以正确的顺序闭合。  \n",
    "注意空字符串可被认为是有效字符串。\n",
    "\n",
    "**示例 1:**\n",
    "```\n",
    "输入: \"()\"\n",
    "输出: true\n",
    "```\n",
    "**示例 2:**\n",
    "```\n",
    "输入: \"()[]{}\"\n",
    "输出: true\n",
    "```\n",
    "**示例 3:**\n",
    "```\n",
    "输入: \"(]\"\n",
    "输出: false\n",
    "```\n",
    "**示例 4:**\n",
    "```\n",
    "输入: \"([)]\"\n",
    "输出: false\n",
    "```\n",
    "**示例 5:**\n",
    "```\n",
    "输入: \"{[]}\"\n",
    "输出: true\n",
    "```"
   ]
  },
  {
   "cell_type": "markdown",
   "metadata": {},
   "source": [
    "## 解法01：通过堆栈匹配相应的左右括号\n",
    "左括号入栈，遇到右括号则出战，判断是否匹配，是则继续，否则返回False；  \n",
    "若匹配完成栈不为空，则说明有不匹配的括号，返回False；"
   ]
  },
  {
   "cell_type": "code",
   "execution_count": 12,
   "metadata": {},
   "outputs": [],
   "source": [
    "class Solution:\n",
    "    def isValid(self, s):\n",
    "        stack =  [] \n",
    "        valid = {\n",
    "            '(':')',\n",
    "            '[':']',\n",
    "            '{':'}'\n",
    "        }\n",
    "        for c in s:\n",
    "            if c in paren_map:\n",
    "                # 如果是左括号，则入栈\n",
    "                stack.append(c)\n",
    "            elif not stack or valid[stack.pop()] != c:\n",
    "                # 如果栈为空 或者 括号不匹配，则返回False\n",
    "                return False\n",
    "            \n",
    "        # 如果都匹配完了栈里还有值，返回False\n",
    "        return not stack"
   ]
  },
  {
   "cell_type": "markdown",
   "metadata": {},
   "source": [
    "## 解法02：替换匹配的括号，判断最后字符串是否为空"
   ]
  },
  {
   "cell_type": "code",
   "execution_count": 13,
   "metadata": {},
   "outputs": [],
   "source": [
    "# 骚操作。。。\n",
    "class Solution:\n",
    "    def isValid(self, s):\n",
    "        while '()' in s or '{}' in s or '[]' in s:\n",
    "            s = s.replace('[]','')\n",
    "            s = s.replace('()','')\n",
    "            s = s.replace('{}','')\n",
    "        return not s"
   ]
  }
 ],
 "metadata": {
  "kernelspec": {
   "display_name": "Python 3",
   "language": "python",
   "name": "python3"
  },
  "language_info": {
   "codemirror_mode": {
    "name": "ipython",
    "version": 3
   },
   "file_extension": ".py",
   "mimetype": "text/x-python",
   "name": "python",
   "nbconvert_exporter": "python",
   "pygments_lexer": "ipython3",
   "version": "3.7.3"
  }
 },
 "nbformat": 4,
 "nbformat_minor": 4
}
